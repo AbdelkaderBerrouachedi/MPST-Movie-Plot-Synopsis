{
 "cells": [
  {
   "cell_type": "code",
   "execution_count": 1,
   "metadata": {},
   "outputs": [],
   "source": [
    "import warnings\n",
    "warnings.filterwarnings(\"ignore\")"
   ]
  },
  {
   "cell_type": "code",
   "execution_count": 2,
   "metadata": {},
   "outputs": [],
   "source": [
    "import pandas as pd\n",
    "# import sqlite3\n",
    "import csv\n",
    "import matplotlib.pyplot as plt\n",
    "import seaborn as sns\n",
    "import numpy as np"
   ]
  },
  {
   "cell_type": "code",
   "execution_count": 3,
   "metadata": {},
   "outputs": [
    {
     "name": "stdout",
     "output_type": "stream",
     "text": [
      "There are 14828 rows and 6 columns\n"
     ]
    }
   ],
   "source": [
    "df = pd.read_csv(r'F:\\mpst_full_data.csv', delimiter=',')\n",
    "nRow, nCol = df.shape\n",
    "print(f'There are {nRow} rows and {nCol} columns')"
   ]
  },
  {
   "cell_type": "code",
   "execution_count": 11,
   "metadata": {},
   "outputs": [
    {
     "data": {
      "text/html": [
       "<div>\n",
       "<style scoped>\n",
       "    .dataframe tbody tr th:only-of-type {\n",
       "        vertical-align: middle;\n",
       "    }\n",
       "\n",
       "    .dataframe tbody tr th {\n",
       "        vertical-align: top;\n",
       "    }\n",
       "\n",
       "    .dataframe thead th {\n",
       "        text-align: right;\n",
       "    }\n",
       "</style>\n",
       "<table border=\"1\" class=\"dataframe\">\n",
       "  <thead>\n",
       "    <tr style=\"text-align: right;\">\n",
       "      <th></th>\n",
       "      <th>imdb_id</th>\n",
       "      <th>title</th>\n",
       "      <th>plot_synopsis</th>\n",
       "      <th>tags</th>\n",
       "      <th>split</th>\n",
       "      <th>synopsis_source</th>\n",
       "    </tr>\n",
       "  </thead>\n",
       "  <tbody>\n",
       "    <tr>\n",
       "      <th>0</th>\n",
       "      <td>tt0057603</td>\n",
       "      <td>I tre volti della paura</td>\n",
       "      <td>Note: this synopsis is for the orginal Italian...</td>\n",
       "      <td>cult, horror, gothic, murder, atmospheric</td>\n",
       "      <td>train</td>\n",
       "      <td>imdb</td>\n",
       "    </tr>\n",
       "    <tr>\n",
       "      <th>1</th>\n",
       "      <td>tt1733125</td>\n",
       "      <td>Dungeons &amp; Dragons: The Book of Vile Darkness</td>\n",
       "      <td>Two thousand years ago, Nhagruul the Foul, a s...</td>\n",
       "      <td>violence</td>\n",
       "      <td>train</td>\n",
       "      <td>imdb</td>\n",
       "    </tr>\n",
       "    <tr>\n",
       "      <th>2</th>\n",
       "      <td>tt0033045</td>\n",
       "      <td>The Shop Around the Corner</td>\n",
       "      <td>Matuschek's, a gift store in Budapest, is the ...</td>\n",
       "      <td>romantic</td>\n",
       "      <td>test</td>\n",
       "      <td>imdb</td>\n",
       "    </tr>\n",
       "    <tr>\n",
       "      <th>3</th>\n",
       "      <td>tt0113862</td>\n",
       "      <td>Mr. Holland's Opus</td>\n",
       "      <td>Glenn Holland, not a morning person by anyone'...</td>\n",
       "      <td>inspiring, romantic, stupid, feel-good</td>\n",
       "      <td>train</td>\n",
       "      <td>imdb</td>\n",
       "    </tr>\n",
       "    <tr>\n",
       "      <th>4</th>\n",
       "      <td>tt0086250</td>\n",
       "      <td>Scarface</td>\n",
       "      <td>In May 1980, a Cuban man named Tony Montana (A...</td>\n",
       "      <td>cruelty, murder, dramatic, cult, violence, atm...</td>\n",
       "      <td>val</td>\n",
       "      <td>imdb</td>\n",
       "    </tr>\n",
       "  </tbody>\n",
       "</table>\n",
       "</div>"
      ],
      "text/plain": [
       "     imdb_id                                          title  \\\n",
       "0  tt0057603                        I tre volti della paura   \n",
       "1  tt1733125  Dungeons & Dragons: The Book of Vile Darkness   \n",
       "2  tt0033045                     The Shop Around the Corner   \n",
       "3  tt0113862                             Mr. Holland's Opus   \n",
       "4  tt0086250                                       Scarface   \n",
       "\n",
       "                                       plot_synopsis  \\\n",
       "0  Note: this synopsis is for the orginal Italian...   \n",
       "1  Two thousand years ago, Nhagruul the Foul, a s...   \n",
       "2  Matuschek's, a gift store in Budapest, is the ...   \n",
       "3  Glenn Holland, not a morning person by anyone'...   \n",
       "4  In May 1980, a Cuban man named Tony Montana (A...   \n",
       "\n",
       "                                                tags  split synopsis_source  \n",
       "0          cult, horror, gothic, murder, atmospheric  train            imdb  \n",
       "1                                           violence  train            imdb  \n",
       "2                                           romantic   test            imdb  \n",
       "3             inspiring, romantic, stupid, feel-good  train            imdb  \n",
       "4  cruelty, murder, dramatic, cult, violence, atm...    val            imdb  "
      ]
     },
     "execution_count": 11,
     "metadata": {},
     "output_type": "execute_result"
    }
   ],
   "source": [
    "df.head(5)"
   ]
  },
  {
   "cell_type": "code",
   "execution_count": 5,
   "metadata": {},
   "outputs": [
    {
     "name": "stderr",
     "output_type": "stream",
     "text": [
      "Using TensorFlow backend.\n"
     ]
    }
   ],
   "source": [
    "from keras.models import Sequential\n",
    "from keras.layers import Dense"
   ]
  },
  {
   "cell_type": "code",
   "execution_count": 17,
   "metadata": {},
   "outputs": [],
   "source": [
    "df=df.drop(columns=[\"split\"])"
   ]
  },
  {
   "cell_type": "code",
   "execution_count": 18,
   "metadata": {},
   "outputs": [
    {
     "data": {
      "text/plain": [
       "Index(['imdb_id', 'title', 'plot_synopsis', 'tags', 'synopsis_source'], dtype='object')"
      ]
     },
     "execution_count": 18,
     "metadata": {},
     "output_type": "execute_result"
    }
   ],
   "source": [
    "df.columns"
   ]
  },
  {
   "cell_type": "code",
   "execution_count": 24,
   "metadata": {},
   "outputs": [],
   "source": [
    "X=df.drop(columns=[\"tags\"])\n",
    "y=df['tags'][:]"
   ]
  },
  {
   "cell_type": "code",
   "execution_count": 25,
   "metadata": {},
   "outputs": [],
   "source": [
    "X_train=X[:1100]\n",
    "X_test=X[1100:]\n",
    "y_train=y[:1100]\n",
    "y_test=y[1100:]"
   ]
  },
  {
   "cell_type": "code",
   "execution_count": 26,
   "metadata": {},
   "outputs": [],
   "source": [
    "from keras.preprocessing.text import Tokenizer\n",
    "tokenizer = Tokenizer(num_words=10000)\n",
    "tokenizer.fit_on_texts(X_train)\n",
    "\n",
    "# X_train = tokenizer.texts_to_sequences(X_train)\n",
    "# X_test = tokenizer.texts_to_sequences(X_test)"
   ]
  },
  {
   "cell_type": "code",
   "execution_count": 42,
   "metadata": {},
   "outputs": [],
   "source": [
    "df['combined']=df['title']+\". \"+ df['plot_synopsis']"
   ]
  },
  {
   "cell_type": "code",
   "execution_count": null,
   "metadata": {},
   "outputs": [],
   "source": []
  },
  {
   "cell_type": "code",
   "execution_count": 39,
   "metadata": {},
   "outputs": [],
   "source": [
    "b=df['plot_synopsis'][10]"
   ]
  },
  {
   "cell_type": "code",
   "execution_count": null,
   "metadata": {},
   "outputs": [],
   "source": []
  },
  {
   "cell_type": "code",
   "execution_count": 91,
   "metadata": {},
   "outputs": [],
   "source": [
    "# def prepare_data(data, img_dict, size=(150, 101)):\n",
    "def prepare_data(data):\n",
    "    print(\"Generation dataset...\")\n",
    "    dataset = []\n",
    "    y = []\n",
    "    ids = []\n",
    "    label_dict = {\"word2idx\": {}, \"idx2word\": []}\n",
    "    idx = 0\n",
    "    genre_per_movie = df[\"tags\"].apply(lambda x: str(x).split(\", \"))\n",
    "    for l in [g for d in genre_per_movie for g in d]:\n",
    "        if l in label_dict[\"idx2word\"]:\n",
    "            pass\n",
    "        else:\n",
    "            label_dict[\"idx2word\"].append(l)\n",
    "            label_dict[\"word2idx\"][l] = idx\n",
    "            idx += 1\n",
    "    n_classes = len(label_dict[\"idx2word\"])\n",
    "    print(\"identified {} classes\".format(n_classes))\n",
    "    n_samples = 1486\n",
    "    print(\"got {} samples\".format(n_samples))\n",
    "    for k in df['imdb_id']:\n",
    "        try:\n",
    "            g = df[df[\"imdb_id\"] == int(k)][\"tags\"].values[0].split(\",\")\n",
    "#             img = preprocess(df[\"combined\"][k], size)\n",
    "#             if img.shape != (150, 101, 3):\n",
    "#                 continue\n",
    "            l = np.sum([np.eye(n_classes, dtype=\"uint8\")[label_dict[\"word2idx\"][s]] \n",
    "                                                        for s in g], axis=0)\n",
    "            print(l)\n",
    "            y.append(l)\n",
    "            \n",
    "#             dataset.append(img)\n",
    "            ids.append(k)\n",
    "        except:\n",
    "            pass\n",
    "    print(\"DONE\")\n",
    "    return   y, label_dict, ids"
   ]
  },
  {
   "cell_type": "code",
   "execution_count": 92,
   "metadata": {},
   "outputs": [
    {
     "name": "stdout",
     "output_type": "stream",
     "text": [
      "Generation dataset...\n",
      "identified 71 classes\n",
      "got 1486 samples\n",
      "DONE\n"
     ]
    }
   ],
   "source": [
    "y, label_dict, ids=prepare_data(df)"
   ]
  },
  {
   "cell_type": "code",
   "execution_count": 93,
   "metadata": {},
   "outputs": [
    {
     "data": {
      "text/plain": [
       "[]"
      ]
     },
     "execution_count": 93,
     "metadata": {},
     "output_type": "execute_result"
    }
   ],
   "source": [
    "y"
   ]
  },
  {
   "cell_type": "code",
   "execution_count": 95,
   "metadata": {},
   "outputs": [
    {
     "data": {
      "text/plain": [
       "[]"
      ]
     },
     "execution_count": 95,
     "metadata": {},
     "output_type": "execute_result"
    }
   ],
   "source": [
    "ids"
   ]
  },
  {
   "cell_type": "code",
   "execution_count": 94,
   "metadata": {},
   "outputs": [
    {
     "data": {
      "text/plain": [
       "{'word2idx': {'cult': 0,\n",
       "  'horror': 1,\n",
       "  'gothic': 2,\n",
       "  'murder': 3,\n",
       "  'atmospheric': 4,\n",
       "  'violence': 5,\n",
       "  'romantic': 6,\n",
       "  'inspiring': 7,\n",
       "  'stupid': 8,\n",
       "  'feel-good': 9,\n",
       "  'cruelty': 10,\n",
       "  'dramatic': 11,\n",
       "  'action': 12,\n",
       "  'revenge': 13,\n",
       "  'sadist': 14,\n",
       "  'queer': 15,\n",
       "  'flashback': 16,\n",
       "  'mystery': 17,\n",
       "  'suspenseful': 18,\n",
       "  'neo noir': 19,\n",
       "  'prank': 20,\n",
       "  'psychedelic': 21,\n",
       "  'tragedy': 22,\n",
       "  'autobiographical': 23,\n",
       "  'home movie': 24,\n",
       "  'good versus evil': 25,\n",
       "  'depressing': 26,\n",
       "  'realism': 27,\n",
       "  'boring': 28,\n",
       "  'haunting': 29,\n",
       "  'sentimental': 30,\n",
       "  'paranormal': 31,\n",
       "  'historical': 32,\n",
       "  'storytelling': 33,\n",
       "  'comedy': 34,\n",
       "  'fantasy': 35,\n",
       "  'philosophical': 36,\n",
       "  'adult comedy': 37,\n",
       "  'cute': 38,\n",
       "  'entertaining': 39,\n",
       "  'bleak': 40,\n",
       "  'humor': 41,\n",
       "  'plot twist': 42,\n",
       "  'christian film': 43,\n",
       "  'pornographic': 44,\n",
       "  'insanity': 45,\n",
       "  'brainwashing': 46,\n",
       "  'sci-fi': 47,\n",
       "  'dark': 48,\n",
       "  'claustrophobic': 49,\n",
       "  'psychological': 50,\n",
       "  'melodrama': 51,\n",
       "  'historical fiction': 52,\n",
       "  'absurd': 53,\n",
       "  'satire': 54,\n",
       "  'alternate reality': 55,\n",
       "  'alternate history': 56,\n",
       "  'comic': 57,\n",
       "  'grindhouse film': 58,\n",
       "  'thought-provoking': 59,\n",
       "  'clever': 60,\n",
       "  'western': 61,\n",
       "  'blaxploitation': 62,\n",
       "  'whimsical': 63,\n",
       "  'intrigue': 64,\n",
       "  'allegory': 65,\n",
       "  'anti war': 66,\n",
       "  'avant garde': 67,\n",
       "  'suicidal': 68,\n",
       "  'magical realism': 69,\n",
       "  'non fiction': 70},\n",
       " 'idx2word': ['cult',\n",
       "  'horror',\n",
       "  'gothic',\n",
       "  'murder',\n",
       "  'atmospheric',\n",
       "  'violence',\n",
       "  'romantic',\n",
       "  'inspiring',\n",
       "  'stupid',\n",
       "  'feel-good',\n",
       "  'cruelty',\n",
       "  'dramatic',\n",
       "  'action',\n",
       "  'revenge',\n",
       "  'sadist',\n",
       "  'queer',\n",
       "  'flashback',\n",
       "  'mystery',\n",
       "  'suspenseful',\n",
       "  'neo noir',\n",
       "  'prank',\n",
       "  'psychedelic',\n",
       "  'tragedy',\n",
       "  'autobiographical',\n",
       "  'home movie',\n",
       "  'good versus evil',\n",
       "  'depressing',\n",
       "  'realism',\n",
       "  'boring',\n",
       "  'haunting',\n",
       "  'sentimental',\n",
       "  'paranormal',\n",
       "  'historical',\n",
       "  'storytelling',\n",
       "  'comedy',\n",
       "  'fantasy',\n",
       "  'philosophical',\n",
       "  'adult comedy',\n",
       "  'cute',\n",
       "  'entertaining',\n",
       "  'bleak',\n",
       "  'humor',\n",
       "  'plot twist',\n",
       "  'christian film',\n",
       "  'pornographic',\n",
       "  'insanity',\n",
       "  'brainwashing',\n",
       "  'sci-fi',\n",
       "  'dark',\n",
       "  'claustrophobic',\n",
       "  'psychological',\n",
       "  'melodrama',\n",
       "  'historical fiction',\n",
       "  'absurd',\n",
       "  'satire',\n",
       "  'alternate reality',\n",
       "  'alternate history',\n",
       "  'comic',\n",
       "  'grindhouse film',\n",
       "  'thought-provoking',\n",
       "  'clever',\n",
       "  'western',\n",
       "  'blaxploitation',\n",
       "  'whimsical',\n",
       "  'intrigue',\n",
       "  'allegory',\n",
       "  'anti war',\n",
       "  'avant garde',\n",
       "  'suicidal',\n",
       "  'magical realism',\n",
       "  'non fiction']}"
      ]
     },
     "execution_count": 94,
     "metadata": {},
     "output_type": "execute_result"
    }
   ],
   "source": [
    "label_dict"
   ]
  },
  {
   "cell_type": "code",
   "execution_count": null,
   "metadata": {},
   "outputs": [],
   "source": []
  },
  {
   "cell_type": "code",
   "execution_count": 82,
   "metadata": {},
   "outputs": [],
   "source": [
    "ids=df['imdb_id']"
   ]
  },
  {
   "cell_type": "code",
   "execution_count": 81,
   "metadata": {},
   "outputs": [],
   "source": [
    "y=df['combined']"
   ]
  },
  {
   "cell_type": "code",
   "execution_count": 84,
   "metadata": {},
   "outputs": [],
   "source": [
    "# label_dict"
   ]
  },
  {
   "cell_type": "code",
   "execution_count": 85,
   "metadata": {},
   "outputs": [],
   "source": [
    "import keras\n",
    "from keras.models import Sequential\n",
    "from keras.layers import Dense, Dropout, Flatten\n",
    "from keras.layers import Conv2D, MaxPooling2D, BatchNormalization"
   ]
  },
  {
   "cell_type": "code",
   "execution_count": 89,
   "metadata": {},
   "outputs": [],
   "source": [
    "model = Sequential()\n",
    "model.add(Dense(32, input_shape=(4,)))"
   ]
  },
  {
   "cell_type": "code",
   "execution_count": 90,
   "metadata": {},
   "outputs": [],
   "source": [
    "model.compile(loss='binary_crossentropy',optimizer=keras.optimizers.Adam(),metrics=['accuracy'])"
   ]
  },
  {
   "cell_type": "code",
   "execution_count": null,
   "metadata": {},
   "outputs": [],
   "source": [
    "dataset=pd.DataFrame()\n",
    "dataset['combined']=df['combined'].values\n",
    "dataset['title']=df['title'].values\n",
    "y=pd.get_dummies(df[''])"
   ]
  },
  {
   "cell_type": "code",
   "execution_count": null,
   "metadata": {},
   "outputs": [],
   "source": [
    "n = 10000\n",
    "model.fit(np.array(dataset[: n]), np.array(y[: n]), batch_size=16, epochs=5,verbose=1, validation_split=0.1)"
   ]
  },
  {
   "cell_type": "code",
   "execution_count": null,
   "metadata": {},
   "outputs": [],
   "source": []
  },
  {
   "cell_type": "code",
   "execution_count": null,
   "metadata": {},
   "outputs": [],
   "source": []
  },
  {
   "cell_type": "code",
   "execution_count": 88,
   "metadata": {},
   "outputs": [
    {
     "ename": "SyntaxError",
     "evalue": "invalid syntax (<ipython-input-88-c9b748274c4d>, line 3)",
     "output_type": "error",
     "traceback": [
      "\u001b[1;36m  File \u001b[1;32m\"<ipython-input-88-c9b748274c4d>\"\u001b[1;36m, line \u001b[1;32m3\u001b[0m\n\u001b[1;33m    model.add(Conv2D(32, (3, 3), activation='relu'))\u001b[0m\n\u001b[1;37m        ^\u001b[0m\n\u001b[1;31mSyntaxError\u001b[0m\u001b[1;31m:\u001b[0m invalid syntax\n"
     ]
    }
   ],
   "source": [
    "model = Sequential()\n",
    "model.add(Conv2D(32, kernel_size=(3, 3), activation='relu',input_shape=(4))\n",
    "model.add(Conv2D(32, (3, 3), activation='relu'))\n",
    "model.add(MaxPooling2D(pool_size=(2, 2)))\n",
    "model.add(Dropout(0.25))\n",
    "\n",
    "model.add(Conv2D(64, kernel_size=(3, 3), activation='relu'))\n",
    "model.add(Conv2D(64, (3, 3), activation='relu'))\n",
    "model.add(MaxPooling2D(pool_size=(2, 2)))\n",
    "model.add(Dropout(0.25))\n",
    "\n",
    "model.add(Flatten())\n",
    "model.add(Dense(128, activation='relu'))\n",
    "model.add(Dropout(0.5))\n",
    "model.add(Dense(29, activation='sigmoid'))"
   ]
  },
  {
   "cell_type": "code",
   "execution_count": null,
   "metadata": {},
   "outputs": [],
   "source": [
    "model.compile(loss='binary_crossentropy',\n",
    "              optimizer=keras.optimizers.Adam(),\n",
    "              metrics=['accuracy'])"
   ]
  },
  {
   "cell_type": "code",
   "execution_count": null,
   "metadata": {},
   "outputs": [],
   "source": []
  },
  {
   "cell_type": "code",
   "execution_count": null,
   "metadata": {},
   "outputs": [],
   "source": []
  },
  {
   "cell_type": "code",
   "execution_count": null,
   "metadata": {},
   "outputs": [],
   "source": []
  },
  {
   "cell_type": "code",
   "execution_count": null,
   "metadata": {},
   "outputs": [],
   "source": []
  },
  {
   "cell_type": "code",
   "execution_count": null,
   "metadata": {},
   "outputs": [],
   "source": []
  },
  {
   "cell_type": "code",
   "execution_count": null,
   "metadata": {},
   "outputs": [],
   "source": []
  }
 ],
 "metadata": {
  "kernelspec": {
   "display_name": "Python 3",
   "language": "python",
   "name": "python3"
  },
  "language_info": {
   "codemirror_mode": {
    "name": "ipython",
    "version": 3
   },
   "file_extension": ".py",
   "mimetype": "text/x-python",
   "name": "python",
   "nbconvert_exporter": "python",
   "pygments_lexer": "ipython3",
   "version": "3.6.5"
  }
 },
 "nbformat": 4,
 "nbformat_minor": 2
}
