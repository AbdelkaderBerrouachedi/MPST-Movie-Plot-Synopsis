{
 "cells": [
  {
   "cell_type": "code",
   "execution_count": 1,
   "metadata": {},
   "outputs": [],
   "source": [
    "import warnings\n",
    "warnings.filterwarnings(\"ignore\")"
   ]
  },
  {
   "cell_type": "code",
   "execution_count": 2,
   "metadata": {},
   "outputs": [],
   "source": [
    "import pandas as pd\n",
    "# import sqlite3\n",
    "import matplotlib.pyplot as plt\n",
    "import seaborn as sns\n",
    "import numpy as np\n",
    "from wordcloud import WordCloud\n",
    "import re\n",
    "import os\n",
    "from sqlalchemy import create_engine # database connection\n",
    "import datetime as dt\n",
    "from nltk.corpus import stopwords\n",
    "from nltk.tokenize import word_tokenize\n",
    "from nltk.stem.snowball import SnowballStemmer\n",
    "from sklearn.feature_extraction.text import CountVectorizer\n",
    "from sklearn.feature_extraction.text import TfidfVectorizer\n",
    "from sklearn.multiclass import OneVsRestClassifier\n",
    "from sklearn.linear_model import SGDClassifier\n",
    "from sklearn import metrics\n",
    "from sklearn.metrics import f1_score,precision_score,recall_score\n",
    "from sklearn import svm\n",
    "from sklearn.linear_model import LogisticRegression\n",
    "from sklearn.naive_bayes import GaussianNB\n",
    "from datetime import datetime\n",
    "from bs4 import BeautifulSoup\n",
    "from sklearn.model_selection import GridSearchCV\n"
   ]
  },
  {
   "cell_type": "code",
   "execution_count": 3,
   "metadata": {},
   "outputs": [
    {
     "name": "stdout",
     "output_type": "stream",
     "text": [
      "There are 14828 rows and 6 columns\n"
     ]
    }
   ],
   "source": [
    "df = pd.read_csv(r'F:\\mpst_full_data.csv', delimiter=',')\n",
    "nRow, nCol = df.shape\n",
    "print(f'There are {nRow} rows and {nCol} columns')"
   ]
  },
  {
   "cell_type": "code",
   "execution_count": 4,
   "metadata": {},
   "outputs": [
    {
     "data": {
      "text/html": [
       "<div>\n",
       "<style scoped>\n",
       "    .dataframe tbody tr th:only-of-type {\n",
       "        vertical-align: middle;\n",
       "    }\n",
       "\n",
       "    .dataframe tbody tr th {\n",
       "        vertical-align: top;\n",
       "    }\n",
       "\n",
       "    .dataframe thead th {\n",
       "        text-align: right;\n",
       "    }\n",
       "</style>\n",
       "<table border=\"1\" class=\"dataframe\">\n",
       "  <thead>\n",
       "    <tr style=\"text-align: right;\">\n",
       "      <th></th>\n",
       "      <th>imdb_id</th>\n",
       "      <th>title</th>\n",
       "      <th>plot_synopsis</th>\n",
       "      <th>tags</th>\n",
       "      <th>split</th>\n",
       "      <th>synopsis_source</th>\n",
       "    </tr>\n",
       "  </thead>\n",
       "  <tbody>\n",
       "    <tr>\n",
       "      <th>0</th>\n",
       "      <td>tt0057603</td>\n",
       "      <td>I tre volti della paura</td>\n",
       "      <td>Note: this synopsis is for the orginal Italian...</td>\n",
       "      <td>cult, horror, gothic, murder, atmospheric</td>\n",
       "      <td>train</td>\n",
       "      <td>imdb</td>\n",
       "    </tr>\n",
       "    <tr>\n",
       "      <th>1</th>\n",
       "      <td>tt1733125</td>\n",
       "      <td>Dungeons &amp; Dragons: The Book of Vile Darkness</td>\n",
       "      <td>Two thousand years ago, Nhagruul the Foul, a s...</td>\n",
       "      <td>violence</td>\n",
       "      <td>train</td>\n",
       "      <td>imdb</td>\n",
       "    </tr>\n",
       "    <tr>\n",
       "      <th>2</th>\n",
       "      <td>tt0033045</td>\n",
       "      <td>The Shop Around the Corner</td>\n",
       "      <td>Matuschek's, a gift store in Budapest, is the ...</td>\n",
       "      <td>romantic</td>\n",
       "      <td>test</td>\n",
       "      <td>imdb</td>\n",
       "    </tr>\n",
       "    <tr>\n",
       "      <th>3</th>\n",
       "      <td>tt0113862</td>\n",
       "      <td>Mr. Holland's Opus</td>\n",
       "      <td>Glenn Holland, not a morning person by anyone'...</td>\n",
       "      <td>inspiring, romantic, stupid, feel-good</td>\n",
       "      <td>train</td>\n",
       "      <td>imdb</td>\n",
       "    </tr>\n",
       "    <tr>\n",
       "      <th>4</th>\n",
       "      <td>tt0086250</td>\n",
       "      <td>Scarface</td>\n",
       "      <td>In May 1980, a Cuban man named Tony Montana (A...</td>\n",
       "      <td>cruelty, murder, dramatic, cult, violence, atm...</td>\n",
       "      <td>val</td>\n",
       "      <td>imdb</td>\n",
       "    </tr>\n",
       "  </tbody>\n",
       "</table>\n",
       "</div>"
      ],
      "text/plain": [
       "     imdb_id                                          title  \\\n",
       "0  tt0057603                        I tre volti della paura   \n",
       "1  tt1733125  Dungeons & Dragons: The Book of Vile Darkness   \n",
       "2  tt0033045                     The Shop Around the Corner   \n",
       "3  tt0113862                             Mr. Holland's Opus   \n",
       "4  tt0086250                                       Scarface   \n",
       "\n",
       "                                       plot_synopsis  \\\n",
       "0  Note: this synopsis is for the orginal Italian...   \n",
       "1  Two thousand years ago, Nhagruul the Foul, a s...   \n",
       "2  Matuschek's, a gift store in Budapest, is the ...   \n",
       "3  Glenn Holland, not a morning person by anyone'...   \n",
       "4  In May 1980, a Cuban man named Tony Montana (A...   \n",
       "\n",
       "                                                tags  split synopsis_source  \n",
       "0          cult, horror, gothic, murder, atmospheric  train            imdb  \n",
       "1                                           violence  train            imdb  \n",
       "2                                           romantic   test            imdb  \n",
       "3             inspiring, romantic, stupid, feel-good  train            imdb  \n",
       "4  cruelty, murder, dramatic, cult, violence, atm...    val            imdb  "
      ]
     },
     "execution_count": 4,
     "metadata": {},
     "output_type": "execute_result"
    }
   ],
   "source": [
    "df.head(5)"
   ]
  },
  {
   "cell_type": "code",
   "execution_count": 5,
   "metadata": {},
   "outputs": [
    {
     "name": "stderr",
     "output_type": "stream",
     "text": [
      "Using TensorFlow backend.\n"
     ]
    }
   ],
   "source": [
    "from keras.models import Sequential\n",
    "from keras.layers import Dense, Activation\n",
    "from keras import preprocessing"
   ]
  },
  {
   "cell_type": "code",
   "execution_count": 6,
   "metadata": {},
   "outputs": [],
   "source": [
    "# df=df.drop(columns=[\"split\"])"
   ]
  },
  {
   "cell_type": "code",
   "execution_count": 7,
   "metadata": {},
   "outputs": [
    {
     "data": {
      "text/plain": [
       "Index(['imdb_id', 'title', 'plot_synopsis', 'tags', 'split',\n",
       "       'synopsis_source'],\n",
       "      dtype='object')"
      ]
     },
     "execution_count": 7,
     "metadata": {},
     "output_type": "execute_result"
    }
   ],
   "source": [
    "df.columns"
   ]
  },
  {
   "cell_type": "code",
   "execution_count": 8,
   "metadata": {},
   "outputs": [],
   "source": [
    "# df['combined']=df['title']+\". \"+ df['plot_synopsis']"
   ]
  },
  {
   "cell_type": "code",
   "execution_count": 9,
   "metadata": {},
   "outputs": [
    {
     "data": {
      "text/plain": [
       "True"
      ]
     },
     "execution_count": 9,
     "metadata": {},
     "output_type": "execute_result"
    }
   ],
   "source": [
    "type(Sequential()) == Sequential\n"
   ]
  },
  {
   "cell_type": "code",
   "execution_count": 10,
   "metadata": {},
   "outputs": [],
   "source": [
    "import numpy as np \n",
    "import pandas as pd\n",
    "import matplotlib.pyplot as plt\n",
    "import seaborn as sns\n",
    "\n",
    "from keras.preprocessing.sequence import pad_sequences\n",
    "\n",
    "from keras.layers import Dense, Embedding, LSTM, SpatialDropout1D\n",
    "from keras.preprocessing.text import Tokenizer\n",
    "from keras.preprocessing.sequence import pad_sequences\n",
    "from keras.models import Sequential\n",
    "from keras.layers import Dense, Flatten, LSTM, Conv1D, MaxPooling1D, Dropout, Activation\n",
    "from keras.layers.embeddings import Embedding\n",
    "from sklearn.model_selection import train_test_split\n",
    "from keras.utils.np_utils import to_categorical\n",
    "from keras.callbacks import EarlyStopping\n",
    "from keras.layers import Dropout\n",
    "import re\n",
    "from nltk.corpus import stopwords\n",
    "from nltk import word_tokenize\n",
    "STOPWORDS = set(stopwords.words('english'))\n",
    "from bs4 import BeautifulSoup\n",
    "import plotly.graph_objs as go\n",
    "import plotly.plotly as py\n",
    "# import cufflinks\n",
    "from IPython.core.interactiveshell import InteractiveShell\n",
    "import plotly.figure_factory as ff\n",
    "InteractiveShell.ast_node_interactivity = 'all'\n",
    "from plotly.offline import iplot"
   ]
  },
  {
   "cell_type": "code",
   "execution_count": 11,
   "metadata": {},
   "outputs": [],
   "source": [
    "def gdd(x):\n",
    "    a=x.split()\n",
    "    return len(a)"
   ]
  },
  {
   "cell_type": "code",
   "execution_count": 12,
   "metadata": {},
   "outputs": [],
   "source": [
    "import re\n",
    "\n",
    "def decontracted(phrase):\n",
    "    # specific\n",
    "    phrase = re.sub(r\"won't\", \"will not\", phrase)\n",
    "    phrase = re.sub(r\"can\\'t\", \"can not\", phrase)\n",
    "\n",
    "    # general\n",
    "    phrase = re.sub(r\"n\\'t\", \" not\", phrase)\n",
    "    phrase = re.sub(r\"\\'re\", \" are\", phrase)\n",
    "    phrase = re.sub(r\"\\'s\", \" is\", phrase)\n",
    "    phrase = re.sub(r\"\\'d\", \" would\", phrase)\n",
    "    phrase = re.sub(r\"\\'ll\", \" will\", phrase)\n",
    "    phrase = re.sub(r\"\\'t\", \" not\", phrase)\n",
    "    phrase = re.sub(r\"\\'ve\", \" have\", phrase)\n",
    "    phrase = re.sub(r\"\\'m\", \" am\", phrase)\n",
    "    return phrase"
   ]
  },
  {
   "cell_type": "code",
   "execution_count": 13,
   "metadata": {},
   "outputs": [],
   "source": [
    "stopwords= set(['br', 'the', 'i', 'me', 'my', 'myself', 'we', 'our', 'ours', 'ourselves', 'you', \"you're\", \"you've\",\\\n",
    "            \"you'll\", \"you'd\", 'your', 'yours', 'yourself', 'yourselves', 'he', 'him', 'his', 'himself', \\\n",
    "            'she', \"she's\", 'her', 'hers', 'herself', 'it', \"it's\", 'its', 'itself', 'they', 'them', 'their',\\\n",
    "            'theirs', 'themselves', 'what', 'which', 'who', 'whom', 'this', 'that', \"that'll\", 'these', 'those', \\\n",
    "            'am', 'is', 'are', 'was', 'were', 'be', 'been', 'being', 'have', 'has', 'had', 'having', 'do', 'does', \\\n",
    "            'did', 'doing', 'a', 'an', 'the', 'and', 'but', 'if', 'or', 'because', 'as', 'until', 'while', 'of', \\\n",
    "            'at', 'by', 'for', 'with', 'about', 'against', 'between', 'into', 'through', 'during', 'before', 'after',\\\n",
    "            'above', 'below', 'to', 'from', 'up', 'down', 'in', 'out', 'on', 'off', 'over', 'under', 'again', 'further',\\\n",
    "            'then', 'once', 'here', 'there', 'when', 'where', 'why', 'how', 'all', 'any', 'both', 'each', 'few', 'more',\\\n",
    "            'most', 'other', 'some', 'such', 'only', 'own', 'same', 'so', 'than', 'too', 'very', \\\n",
    "            's', 't', 'can', 'will', 'just', 'don', \"don't\", 'should', \"should've\", 'now', 'd', 'll', 'm', 'o', 're', \\\n",
    "            've', 'y', 'ain', 'aren', \"aren't\", 'couldn', \"couldn't\", 'didn', \"didn't\", 'doesn', \"doesn't\", 'hadn',\\\n",
    "            \"hadn't\", 'hasn', \"hasn't\", 'haven', \"haven't\", 'isn', \"isn't\", 'ma', 'mightn', \"mightn't\", 'mustn',\\\n",
    "            \"mustn't\", 'needn', \"needn't\", 'shan', \"shan't\", 'shouldn', \"shouldn't\", 'wasn', \"wasn't\", 'weren', \"weren't\", \\\n",
    "            'won', \"won't\", 'wouldn', \"wouldn't\"])"
   ]
  },
  {
   "cell_type": "code",
   "execution_count": 14,
   "metadata": {},
   "outputs": [
    {
     "name": "stderr",
     "output_type": "stream",
     "text": [
      "100%|███████████████████████████████████████████████████████████████████████████| 14828/14828 [00:29<00:00, 510.85it/s]\n"
     ]
    }
   ],
   "source": [
    "from tqdm import tqdm\n",
    "preprocessed_synopsis = []\n",
    "# tqdm is for printing the status bar\n",
    "for sentance in tqdm(df['plot_synopsis'].values):\n",
    "    sentance = re.sub(r\"http\\S+\", \"\", sentance)\n",
    "    sentance = BeautifulSoup(sentance, 'lxml').get_text()\n",
    "    sentance = decontracted(sentance)\n",
    "    sentance = re.sub(\"\\S*\\d\\S*\", \"\", sentance).strip()\n",
    "    sentance = re.sub('[^A-Za-z]+', ' ', sentance)\n",
    "    # https://gist.github.com/sebleier/554280\n",
    "    sentance = ' '.join(e.lower() for e in sentance.split() if e.lower() not in stopwords)\n",
    "    preprocessed_synopsis.append(sentance.strip())"
   ]
  },
  {
   "cell_type": "code",
   "execution_count": 15,
   "metadata": {},
   "outputs": [],
   "source": [
    "df['preprocessed_plots']=preprocessed_synopsis"
   ]
  },
  {
   "cell_type": "code",
   "execution_count": 16,
   "metadata": {},
   "outputs": [
    {
     "data": {
      "text/plain": [
       "Index(['imdb_id', 'title', 'plot_synopsis', 'tags', 'split', 'synopsis_source',\n",
       "       'preprocessed_plots'],\n",
       "      dtype='object')"
      ]
     },
     "execution_count": 16,
     "metadata": {},
     "output_type": "execute_result"
    }
   ],
   "source": [
    "df.columns"
   ]
  },
  {
   "cell_type": "code",
   "execution_count": 17,
   "metadata": {},
   "outputs": [],
   "source": [
    "def remove_spaces(x):\n",
    "    x=x.split(\",\")\n",
    "    nospace=[]\n",
    "    for item in x:\n",
    "        item=item.lstrip()\n",
    "        nospace.append(item)\n",
    "    return (\",\").join(nospace)  "
   ]
  },
  {
   "cell_type": "code",
   "execution_count": 18,
   "metadata": {},
   "outputs": [],
   "source": [
    "df['tags']=df['tags'].apply(remove_spaces)"
   ]
  },
  {
   "cell_type": "code",
   "execution_count": 19,
   "metadata": {},
   "outputs": [],
   "source": [
    "train=df.loc[df.split=='train']\n",
    "cv=df.loc[df.split==\"val\"]\n",
    "cv=cv.reset_index()\n",
    "train=train.reset_index()\n",
    "test=df.loc[df.split=='test']\n",
    "test=test.reset_index()"
   ]
  },
  {
   "cell_type": "code",
   "execution_count": 20,
   "metadata": {},
   "outputs": [],
   "source": [
    "vectorizer = CountVectorizer(tokenizer = lambda x: x.split(\",\"), binary='true')\n",
    "y_train = vectorizer.fit_transform(train['tags']).toarray()\n",
    "y_test=vectorizer.transform(test['tags']).toarray()\n",
    "y_cv=vectorizer.transform(cv['tags']).toarray()"
   ]
  },
  {
   "cell_type": "code",
   "execution_count": 21,
   "metadata": {},
   "outputs": [],
   "source": [
    "import tensorflow as tf\n",
    "\n",
    "session_conf = tf.ConfigProto(\n",
    " intra_op_parallelism_threads=1, \n",
    "                        inter_op_parallelism_threads=1, \n",
    "                      )"
   ]
  },
  {
   "cell_type": "code",
   "execution_count": 22,
   "metadata": {},
   "outputs": [
    {
     "data": {
      "text/plain": [
       "Index(['imdb_id', 'title', 'plot_synopsis', 'tags', 'split', 'synopsis_source',\n",
       "       'preprocessed_plots'],\n",
       "      dtype='object')"
      ]
     },
     "execution_count": 22,
     "metadata": {},
     "output_type": "execute_result"
    }
   ],
   "source": [
    "df.columns"
   ]
  },
  {
   "cell_type": "code",
   "execution_count": 23,
   "metadata": {},
   "outputs": [
    {
     "data": {
      "text/plain": [
       "6044"
      ]
     },
     "execution_count": 23,
     "metadata": {},
     "output_type": "execute_result"
    }
   ],
   "source": [
    "max(df['preprocessed_plots'].apply(gdd))"
   ]
  },
  {
   "cell_type": "code",
   "execution_count": 24,
   "metadata": {},
   "outputs": [],
   "source": [
    "vect=Tokenizer()\n",
    "vect.fit_on_texts(train['preprocessed_plots'])\n",
    "vocab_size = len(vect.word_index) + 1"
   ]
  },
  {
   "cell_type": "code",
   "execution_count": 25,
   "metadata": {},
   "outputs": [
    {
     "data": {
      "text/plain": [
       "98782"
      ]
     },
     "execution_count": 25,
     "metadata": {},
     "output_type": "execute_result"
    }
   ],
   "source": [
    "vocab_size"
   ]
  },
  {
   "cell_type": "code",
   "execution_count": 26,
   "metadata": {},
   "outputs": [
    {
     "name": "stdout",
     "output_type": "stream",
     "text": [
      "[[  680  4577 54887 ...     0     0     0]\n",
      " [    6  4356    69 ...     0     0     0]\n",
      " [ 2953   323   108 ...    19    66  6797]\n",
      " ...\n",
      " [   66  2554   401 ...     0     0     0]\n",
      " [ 4799  2605  2908 ...     0     0     0]\n",
      " [ 1160  2299  2425 ...     0     0     0]]\n"
     ]
    }
   ],
   "source": [
    "encoded_docs_train = vect.texts_to_sequences(train['preprocessed_plots'])\n",
    "max_length = vocab_size\n",
    "padded_docs_train = pad_sequences(encoded_docs_train, maxlen=1200, padding='post')\n",
    "print(padded_docs_train)"
   ]
  },
  {
   "cell_type": "code",
   "execution_count": 27,
   "metadata": {},
   "outputs": [],
   "source": [
    "encoded_docs_test = vect.texts_to_sequences(test['preprocessed_plots'])\n",
    "padded_docs_test = pad_sequences(encoded_docs_test, maxlen=1200, padding='post')\n",
    "encoded_docs_cv = vect.texts_to_sequences(cv['preprocessed_plots'])\n",
    "padded_docs_cv = pad_sequences(encoded_docs_cv, maxlen=1200, padding='post')\n",
    "\n"
   ]
  },
  {
   "cell_type": "code",
   "execution_count": 47,
   "metadata": {},
   "outputs": [],
   "source": [
    "session_conf = tf.ConfigProto(\n",
    " intra_op_parallelism_threads=1, \n",
    "                        inter_op_parallelism_threads=1, \n",
    "                      )"
   ]
  },
  {
   "cell_type": "code",
   "execution_count": 28,
   "metadata": {},
   "outputs": [],
   "source": [
    "def f1micro(y_true, y_pred):\n",
    "    return tf.py_func(f1_score(y_true, y_pred,average='mirco'),tf.double)\n"
   ]
  },
  {
   "cell_type": "code",
   "execution_count": 29,
   "metadata": {},
   "outputs": [],
   "source": [
    "# embedding_matrix.shape"
   ]
  },
  {
   "cell_type": "code",
   "execution_count": 30,
   "metadata": {},
   "outputs": [],
   "source": [
    "# embedding_matrix.shape[1]"
   ]
  },
  {
   "cell_type": "code",
   "execution_count": 31,
   "metadata": {},
   "outputs": [],
   "source": [
    "# timesteps = len(x_train[0])\n",
    "# input_dim = len(x_train[0])\n",
    "# # n_classes = _count_classes(y_train)\n",
    "# n_classes=147\n",
    "# print(timesteps)\n",
    "# print(input_dim)\n",
    "# print(len(x_train[0]))"
   ]
  },
  {
   "cell_type": "code",
   "execution_count": 32,
   "metadata": {},
   "outputs": [],
   "source": [
    "# model_glove = Sequential()\n",
    "# model_glove.add(Embedding(vocab_size,output_dim=embedding_matrix.shape[1],input_length=1200,weights=[embedding_matrix]))\n",
    "# model_glove.add(LSTM(256, return_sequences=True,activation='relu'))\n",
    "# model_glove.add(Flatten())\n",
    "# model_glove.add(Dense(256, activation='relu'))\n",
    "# model_glove.add(Dropout(0.5))\n",
    "# model_glove.add(Dense(256, activation='relu'))\n",
    "# model_glove.add(Dropout(0.5))\n",
    "# model_glove.add(Dense(71, activation='sigmoid'))\n",
    "# model_glove.compile(loss='binary_crossentropy', optimizer='adam')\n",
    "# ## Fit train data\n",
    "# model_glove.fit(padded_docs, y_train,validation_data=(padded_docs_cv,y_cv), epochs =5,batch_size=32)"
   ]
  },
  {
   "cell_type": "code",
   "execution_count": 33,
   "metadata": {},
   "outputs": [],
   "source": [
    "from keras.layers import Dense, Flatten, LSTM, Conv1D, MaxPooling1D, Dropout, Activation,GlobalMaxPool1D\n",
    "from keras.preprocessing.text import Tokenizer\n",
    "from keras.preprocessing.sequence import pad_sequences\n",
    "from keras.models import Sequential\n",
    "from keras.optimizers import Adam\n",
    "from time import time\n",
    "from keras.callbacks import TensorBoard\n",
    "from keras.layers import Dense, Activation, Embedding, Flatten, GlobalMaxPool1D, Dropout, Conv1D\n",
    "from keras.callbacks import ReduceLROnPlateau, EarlyStopping, ModelCheckpoint\n",
    "from keras.losses import binary_crossentropy\n",
    "from keras.optimizers import Adam\n",
    "\n",
    "from keras.layers.embeddings import Embedding\n",
    "from keras.callbacks import ReduceLROnPlateau"
   ]
  },
  {
   "cell_type": "code",
   "execution_count": 63,
   "metadata": {},
   "outputs": [],
   "source": [
    "tensorboard = TensorBoard(log_dir='logs/{}'.format(time()))\n",
    "filepath=\"weights.best.hdf5\"\n",
    "checkpoint = ModelCheckpoint(filepath, monitor='val_f1micro', verbose=0, save_best_only=True, mode='max')"
   ]
  },
  {
   "cell_type": "code",
   "execution_count": 39,
   "metadata": {},
   "outputs": [],
   "source": [
    "# class Metrics(Callback):\n",
    "    \n",
    "#     def on_train_begin(self, logs={}):\n",
    "#         self.val_f1s = []\n",
    "\n",
    "#         self.val_recalls = []\n",
    "#         self.val_precisions=[]\n",
    "#     #     sel.val_precisions = []\n",
    "\n",
    "#     #     sef.val_precisions = []\n",
    "\n",
    "#     def on_epoch_end(self, epoch, logs={}):\n",
    "\n",
    "#         val_predict = (np.asarray(self.model.predict(self.model.validation_data[0]))).round()\n",
    "#         val_targ = self.model.validation_data[1]\n",
    "#         _val_f1 = f1_score(val_targ, val_predict)\n",
    "#         _val_recall = recall_score(val_targ, val_predict)\n",
    "#         _val_precision = precision_score(val_targ, val_predict)\n",
    "#         self.val_f1s.append(_val_f1)\n",
    "#         self.val_recalls.append(_val_recall)\n",
    "#         self.val_precisions.append(_val_precision)\n",
    "# #         print“ — val_f1: %f — val_precision: %f — val_recall %f” %(_val_f1, _val_precision, _val_recall)\n",
    "#         print( (_al_f1: %f — val_precision: %f — val_recall %f) %(_val_f1, _val_precision, _val_recall))\n",
    "#         return\n",
    " \n",
    "# metrics = Metrics()"
   ]
  },
  {
   "cell_type": "code",
   "execution_count": 41,
   "metadata": {},
   "outputs": [],
   "source": [
    "# class Metrics(Callback):\n",
    "    \n",
    "#     def on_train_begin(self, logs={}):\n",
    "#         self.val_f1s = []\n",
    "\n",
    "#         self.val_recalls = []\n",
    "#         self.val_precisions=[]\n",
    "#     #     sel.val_precisions = []\n",
    "\n",
    "#     #     sef.val_precisions = []\n",
    "\n",
    "#     def on_epoch_end(self, epoch, logs={}):\n",
    "\n",
    "#         val_predict = (np.asarray(self.model.predict(self.model.validation_data[0]))).round()\n",
    "#         val_targ = self.model.validation_data[1]\n",
    "#         _val_f1 = f1_score(val_targ, val_predict)\n",
    "#         _val_recall = recall_score(val_targ, val_predict)\n",
    "#         _val_precision = precision_score(val_targ, val_predict)\n",
    "#         self.val_f1s.append(_val_f1)\n",
    "#         self.val_recalls.append(_val_recall)\n",
    "#         self.val_precisions.append(_val_precision)\n",
    "# #         print“ — val_f1: %f — val_precision: %f — val_recall %f” %(_val_f1, _val_precision, _val_recall)\n",
    "#         print(“ — val_f1: %f — val_precision: %f — val_recall %f” %(_val_f1, _val_precision, _val_recall))\n",
    "# #         return\n",
    " \n",
    "\n",
    "# metrics = Metrics()"
   ]
  },
  {
   "cell_type": "code",
   "execution_count": 64,
   "metadata": {},
   "outputs": [
    {
     "name": "stdout",
     "output_type": "stream",
     "text": [
      "_________________________________________________________________\n",
      "Layer (type)                 Output Shape              Param #   \n",
      "=================================================================\n",
      "embedding_6 (Embedding)      (None, 1200, 50)          4939100   \n",
      "_________________________________________________________________\n",
      "dropout_6 (Dropout)          (None, 1200, 50)          0         \n",
      "_________________________________________________________________\n",
      "global_max_pooling1d_4 (Glob (None, 50)                0         \n",
      "_________________________________________________________________\n",
      "dense_5 (Dense)              (None, 71)                3621      \n",
      "=================================================================\n",
      "Total params: 4,942,721\n",
      "Trainable params: 4,942,721\n",
      "Non-trainable params: 0\n",
      "_________________________________________________________________\n"
     ]
    }
   ],
   "source": [
    "checkpoint = ModelCheckpoint(filepath, monitor='val_f1micro', verbose=0, save_best_only=True, mode='max')\n",
    "model = Sequential()\n",
    "# model.add(Embedding(max_words, 20, input_length=maxlen))\n",
    "model.add(Embedding(vocab_size, output_dim=50, input_length=1200))\n",
    "model.add(Dropout(0.15))\n",
    "model.add(GlobalMaxPool1D())\n",
    "model.add(Dense(71, activation='sigmoid'))\n",
    "\n",
    "model.summary()"
   ]
  },
  {
   "cell_type": "code",
   "execution_count": 65,
   "metadata": {},
   "outputs": [
    {
     "name": "stdout",
     "output_type": "stream",
     "text": [
      "Train on 8540 samples, validate on 949 samples\n",
      "Epoch 1/5\n",
      "8540/8540 [==============================] - ETA: 5:35 - loss: 0.694 - ETA: 3:12 - loss: 0.693 - ETA: 2:31 - loss: 0.692 - ETA: 2:07 - loss: 0.691 - ETA: 1:54 - loss: 0.690 - ETA: 1:45 - loss: 0.689 - ETA: 1:37 - loss: 0.688 - ETA: 1:31 - loss: 0.687 - ETA: 1:27 - loss: 0.686 - ETA: 1:22 - loss: 0.685 - ETA: 1:19 - loss: 0.684 - ETA: 1:17 - loss: 0.684 - ETA: 1:15 - loss: 0.683 - ETA: 1:13 - loss: 0.682 - ETA: 1:11 - loss: 0.680 - ETA: 1:10 - loss: 0.679 - ETA: 1:09 - loss: 0.678 - ETA: 1:08 - loss: 0.677 - ETA: 1:06 - loss: 0.676 - ETA: 1:05 - loss: 0.675 - ETA: 1:04 - loss: 0.674 - ETA: 1:03 - loss: 0.673 - ETA: 1:02 - loss: 0.672 - ETA: 1:02 - loss: 0.671 - ETA: 1:01 - loss: 0.670 - ETA: 1:00 - loss: 0.669 - ETA: 59s - loss: 0.668 - ETA: 59s - loss: 0.66 - ETA: 58s - loss: 0.66 - ETA: 57s - loss: 0.66 - ETA: 57s - loss: 0.66 - ETA: 56s - loss: 0.66 - ETA: 56s - loss: 0.66 - ETA: 55s - loss: 0.65 - ETA: 55s - loss: 0.65 - ETA: 54s - loss: 0.65 - ETA: 54s - loss: 0.65 - ETA: 53s - loss: 0.65 - ETA: 53s - loss: 0.65 - ETA: 52s - loss: 0.65 - ETA: 52s - loss: 0.65 - ETA: 52s - loss: 0.64 - ETA: 51s - loss: 0.64 - ETA: 51s - loss: 0.64 - ETA: 50s - loss: 0.64 - ETA: 50s - loss: 0.64 - ETA: 50s - loss: 0.64 - ETA: 49s - loss: 0.64 - ETA: 49s - loss: 0.63 - ETA: 49s - loss: 0.63 - ETA: 48s - loss: 0.63 - ETA: 48s - loss: 0.63 - ETA: 48s - loss: 0.63 - ETA: 47s - loss: 0.63 - ETA: 47s - loss: 0.63 - ETA: 47s - loss: 0.62 - ETA: 46s - loss: 0.62 - ETA: 46s - loss: 0.62 - ETA: 46s - loss: 0.62 - ETA: 46s - loss: 0.62 - ETA: 45s - loss: 0.62 - ETA: 45s - loss: 0.61 - ETA: 45s - loss: 0.61 - ETA: 44s - loss: 0.61 - ETA: 44s - loss: 0.61 - ETA: 44s - loss: 0.61 - ETA: 43s - loss: 0.61 - ETA: 43s - loss: 0.60 - ETA: 43s - loss: 0.60 - ETA: 43s - loss: 0.60 - ETA: 42s - loss: 0.60 - ETA: 42s - loss: 0.60 - ETA: 42s - loss: 0.60 - ETA: 42s - loss: 0.59 - ETA: 41s - loss: 0.59 - ETA: 41s - loss: 0.59 - ETA: 41s - loss: 0.59 - ETA: 41s - loss: 0.59 - ETA: 40s - loss: 0.59 - ETA: 40s - loss: 0.58 - ETA: 40s - loss: 0.58 - ETA: 40s - loss: 0.58 - ETA: 40s - loss: 0.58 - ETA: 39s - loss: 0.58 - ETA: 39s - loss: 0.57 - ETA: 39s - loss: 0.57 - ETA: 39s - loss: 0.57 - ETA: 39s - loss: 0.57 - ETA: 38s - loss: 0.57 - ETA: 38s - loss: 0.56 - ETA: 38s - loss: 0.56 - ETA: 38s - loss: 0.56 - ETA: 37s - loss: 0.56 - ETA: 37s - loss: 0.56 - ETA: 37s - loss: 0.56 - ETA: 37s - loss: 0.55 - ETA: 36s - loss: 0.55 - ETA: 36s - loss: 0.55 - ETA: 36s - loss: 0.55 - ETA: 36s - loss: 0.55 - ETA: 36s - loss: 0.54 - ETA: 35s - loss: 0.54 - ETA: 35s - loss: 0.54 - ETA: 35s - loss: 0.54 - ETA: 35s - loss: 0.54 - ETA: 34s - loss: 0.53 - ETA: 34s - loss: 0.53 - ETA: 34s - loss: 0.53 - ETA: 34s - loss: 0.53 - ETA: 33s - loss: 0.53 - ETA: 33s - loss: 0.52 - ETA: 33s - loss: 0.52 - ETA: 33s - loss: 0.52 - ETA: 32s - loss: 0.52 - ETA: 32s - loss: 0.52 - ETA: 32s - loss: 0.52 - ETA: 32s - loss: 0.51 - ETA: 32s - loss: 0.51 - ETA: 31s - loss: 0.51 - ETA: 31s - loss: 0.51 - ETA: 31s - loss: 0.51 - ETA: 31s - loss: 0.50 - ETA: 30s - loss: 0.50 - ETA: 30s - loss: 0.50 - ETA: 30s - loss: 0.50 - ETA: 30s - loss: 0.50 - ETA: 29s - loss: 0.50 - ETA: 29s - loss: 0.49 - ETA: 29s - loss: 0.49 - ETA: 29s - loss: 0.49 - ETA: 29s - loss: 0.49 - ETA: 28s - loss: 0.49 - ETA: 28s - loss: 0.48 - ETA: 28s - loss: 0.48 - ETA: 28s - loss: 0.48 - ETA: 27s - loss: 0.48 - ETA: 27s - loss: 0.48 - ETA: 27s - loss: 0.48 - ETA: 27s - loss: 0.47 - ETA: 27s - loss: 0.47 - ETA: 26s - loss: 0.47 - ETA: 26s - loss: 0.47 - ETA: 26s - loss: 0.47 - ETA: 26s - loss: 0.47 - ETA: 25s - loss: 0.46 - ETA: 25s - loss: 0.46 - ETA: 25s - loss: 0.46 - ETA: 25s - loss: 0.46 - ETA: 25s - loss: 0.46 - ETA: 24s - loss: 0.46 - ETA: 24s - loss: 0.45 - ETA: 24s - loss: 0.45 - ETA: 24s - loss: 0.45 - ETA: 24s - loss: 0.45 - ETA: 23s - loss: 0.45 - ETA: 23s - loss: 0.45 - ETA: 23s - loss: 0.45 - ETA: 23s - loss: 0.44 - ETA: 22s - loss: 0.44 - ETA: 22s - loss: 0.44 - ETA: 22s - loss: 0.44 - ETA: 22s - loss: 0.44 - ETA: 22s - loss: 0.44 - ETA: 21s - loss: 0.43 - ETA: 21s - loss: 0.43 - ETA: 21s - loss: 0.43 - ETA: 21s - loss: 0.43 - ETA: 20s - loss: 0.43 - ETA: 20s - loss: 0.43 - ETA: 20s - loss: 0.43 - ETA: 20s - loss: 0.42 - ETA: 20s - loss: 0.42 - ETA: 19s - loss: 0.42 - ETA: 19s - loss: 0.42 - ETA: 19s - loss: 0.42 - ETA: 19s - loss: 0.42 - ETA: 19s - loss: 0.42 - ETA: 18s - loss: 0.42 - ETA: 18s - loss: 0.41 - ETA: 18s - loss: 0.41 - ETA: 18s - loss: 0.41 - ETA: 17s - loss: 0.41 - ETA: 17s - loss: 0.41 - ETA: 17s - loss: 0.41 - ETA: 17s - loss: 0.41 - ETA: 17s - loss: 0.41 - ETA: 16s - loss: 0.40 - ETA: 16s - loss: 0.40 - ETA: 16s - loss: 0.40 - ETA: 16s - loss: 0.40 - ETA: 16s - loss: 0.40 - ETA: 15s - loss: 0.40 - ETA: 15s - loss: 0.40 - ETA: 15s - loss: 0.40 - ETA: 15s - loss: 0.40 - ETA: 14s - loss: 0.39 - ETA: 14s - loss: 0.39 - ETA: 14s - loss: 0.39 - ETA: 14s - loss: 0.39 - ETA: 14s - loss: 0.39 - ETA: 13s - loss: 0.39 - ETA: 13s - loss: 0.39 - ETA: 13s - loss: 0.39 - ETA: 13s - loss: 0.39 - ETA: 13s - loss: 0.38 - ETA: 12s - loss: 0.38 - ETA: 12s - loss: 0.38 - ETA: 12s - loss: 0.38 - ETA: 12s - loss: 0.38 - ETA: 12s - loss: 0.38 - ETA: 11s - loss: 0.38 - ETA: 11s - loss: 0.38 - ETA: 11s - loss: 0.38 - ETA: 11s - loss: 0.37 - ETA: 10s - loss: 0.37 - ETA: 10s - loss: 0.37 - ETA: 10s - loss: 0.37 - ETA: 10s - loss: 0.37 - ETA: 10s - loss: 0.37 - ETA: 9s - loss: 0.3742 - ETA: 9s - loss: 0.373 - ETA: 9s - loss: 0.372 - ETA: 9s - loss: 0.371 - ETA: 9s - loss: 0.370 - ETA: 8s - loss: 0.369 - ETA: 8s - loss: 0.368 - ETA: 8s - loss: 0.367 - ETA: 8s - loss: 0.366 - ETA: 7s - loss: 0.366 - ETA: 7s - loss: 0.365 - ETA: 7s - loss: 0.364 - ETA: 7s - loss: 0.363 - ETA: 7s - loss: 0.362 - ETA: 6s - loss: 0.361 - ETA: 6s - loss: 0.360 - ETA: 6s - loss: 0.359 - ETA: 6s - loss: 0.359 - ETA: 6s - loss: 0.358 - ETA: 5s - loss: 0.357 - ETA: 5s - loss: 0.356 - ETA: 5s - loss: 0.355 - ETA: 5s - loss: 0.354 - ETA: 5s - loss: 0.353 - ETA: 4s - loss: 0.353 - ETA: 4s - loss: 0.352 - ETA: 4s - loss: 0.351 - ETA: 4s - loss: 0.350 - ETA: 3s - loss: 0.350 - ETA: 3s - loss: 0.349 - ETA: 3s - loss: 0.348 - ETA: 3s - loss: 0.347 - ETA: 3s - loss: 0.347 - ETA: 2s - loss: 0.346 - ETA: 2s - loss: 0.345 - ETA: 2s - loss: 0.344 - ETA: 2s - loss: 0.344 - ETA: 2s - loss: 0.343 - ETA: 1s - loss: 0.342 - ETA: 1s - loss: 0.341 - ETA: 1s - loss: 0.341 - ETA: 1s - loss: 0.340 - ETA: 1s - loss: 0.339 - ETA: 0s - loss: 0.339 - ETA: 0s - loss: 0.338 - ETA: 0s - loss: 0.337 - ETA: 0s - loss: 0.337 - 56s 7ms/step - loss: 0.3365 - val_loss: 0.1398\n",
      "Epoch 2/5\n"
     ]
    },
    {
     "name": "stdout",
     "output_type": "stream",
     "text": [
      "8540/8540 [==============================] - ETA: 46s - loss: 0.13 - ETA: 52s - loss: 0.15 - ETA: 53s - loss: 0.15 - ETA: 53s - loss: 0.15 - ETA: 54s - loss: 0.15 - ETA: 53s - loss: 0.16 - ETA: 54s - loss: 0.16 - ETA: 55s - loss: 0.16 - ETA: 54s - loss: 0.16 - ETA: 53s - loss: 0.16 - ETA: 54s - loss: 0.15 - ETA: 54s - loss: 0.16 - ETA: 54s - loss: 0.16 - ETA: 54s - loss: 0.16 - ETA: 53s - loss: 0.16 - ETA: 53s - loss: 0.16 - ETA: 53s - loss: 0.16 - ETA: 52s - loss: 0.15 - ETA: 52s - loss: 0.15 - ETA: 52s - loss: 0.15 - ETA: 51s - loss: 0.15 - ETA: 51s - loss: 0.15 - ETA: 51s - loss: 0.15 - ETA: 50s - loss: 0.15 - ETA: 50s - loss: 0.15 - ETA: 50s - loss: 0.15 - ETA: 50s - loss: 0.15 - ETA: 49s - loss: 0.15 - ETA: 49s - loss: 0.15 - ETA: 49s - loss: 0.15 - ETA: 48s - loss: 0.15 - ETA: 48s - loss: 0.15 - ETA: 48s - loss: 0.15 - ETA: 48s - loss: 0.15 - ETA: 47s - loss: 0.15 - ETA: 47s - loss: 0.15 - ETA: 47s - loss: 0.15 - ETA: 47s - loss: 0.15 - ETA: 46s - loss: 0.15 - ETA: 46s - loss: 0.15 - ETA: 46s - loss: 0.15 - ETA: 46s - loss: 0.15 - ETA: 46s - loss: 0.15 - ETA: 46s - loss: 0.15 - ETA: 45s - loss: 0.15 - ETA: 45s - loss: 0.15 - ETA: 45s - loss: 0.15 - ETA: 45s - loss: 0.15 - ETA: 45s - loss: 0.15 - ETA: 45s - loss: 0.15 - ETA: 45s - loss: 0.15 - ETA: 44s - loss: 0.15 - ETA: 44s - loss: 0.15 - ETA: 44s - loss: 0.15 - ETA: 44s - loss: 0.15 - ETA: 43s - loss: 0.15 - ETA: 43s - loss: 0.15 - ETA: 43s - loss: 0.15 - ETA: 43s - loss: 0.15 - ETA: 42s - loss: 0.15 - ETA: 42s - loss: 0.15 - ETA: 42s - loss: 0.15 - ETA: 42s - loss: 0.15 - ETA: 42s - loss: 0.15 - ETA: 41s - loss: 0.15 - ETA: 41s - loss: 0.15 - ETA: 41s - loss: 0.15 - ETA: 41s - loss: 0.15 - ETA: 41s - loss: 0.15 - ETA: 40s - loss: 0.15 - ETA: 40s - loss: 0.15 - ETA: 40s - loss: 0.15 - ETA: 40s - loss: 0.15 - ETA: 39s - loss: 0.15 - ETA: 39s - loss: 0.15 - ETA: 39s - loss: 0.15 - ETA: 39s - loss: 0.15 - ETA: 39s - loss: 0.15 - ETA: 38s - loss: 0.15 - ETA: 38s - loss: 0.15 - ETA: 38s - loss: 0.15 - ETA: 38s - loss: 0.15 - ETA: 37s - loss: 0.15 - ETA: 37s - loss: 0.15 - ETA: 37s - loss: 0.15 - ETA: 37s - loss: 0.15 - ETA: 37s - loss: 0.15 - ETA: 36s - loss: 0.15 - ETA: 36s - loss: 0.15 - ETA: 36s - loss: 0.15 - ETA: 36s - loss: 0.15 - ETA: 35s - loss: 0.15 - ETA: 35s - loss: 0.15 - ETA: 35s - loss: 0.15 - ETA: 35s - loss: 0.15 - ETA: 35s - loss: 0.15 - ETA: 34s - loss: 0.15 - ETA: 34s - loss: 0.15 - ETA: 34s - loss: 0.15 - ETA: 34s - loss: 0.15 - ETA: 34s - loss: 0.15 - ETA: 33s - loss: 0.15 - ETA: 33s - loss: 0.15 - ETA: 33s - loss: 0.15 - ETA: 33s - loss: 0.15 - ETA: 32s - loss: 0.14 - ETA: 32s - loss: 0.14 - ETA: 32s - loss: 0.14 - ETA: 32s - loss: 0.14 - ETA: 32s - loss: 0.14 - ETA: 31s - loss: 0.14 - ETA: 31s - loss: 0.14 - ETA: 31s - loss: 0.14 - ETA: 31s - loss: 0.14 - ETA: 31s - loss: 0.14 - ETA: 30s - loss: 0.14 - ETA: 30s - loss: 0.14 - ETA: 30s - loss: 0.14 - ETA: 30s - loss: 0.14 - ETA: 30s - loss: 0.14 - ETA: 29s - loss: 0.14 - ETA: 29s - loss: 0.14 - ETA: 29s - loss: 0.14 - ETA: 29s - loss: 0.14 - ETA: 29s - loss: 0.14 - ETA: 28s - loss: 0.14 - ETA: 28s - loss: 0.14 - ETA: 28s - loss: 0.14 - ETA: 28s - loss: 0.14 - ETA: 28s - loss: 0.14 - ETA: 27s - loss: 0.14 - ETA: 27s - loss: 0.14 - ETA: 27s - loss: 0.14 - ETA: 27s - loss: 0.14 - ETA: 27s - loss: 0.14 - ETA: 26s - loss: 0.14 - ETA: 26s - loss: 0.14 - ETA: 26s - loss: 0.14 - ETA: 26s - loss: 0.14 - ETA: 26s - loss: 0.14 - ETA: 25s - loss: 0.14 - ETA: 25s - loss: 0.14 - ETA: 25s - loss: 0.14 - ETA: 25s - loss: 0.14 - ETA: 25s - loss: 0.14 - ETA: 24s - loss: 0.14 - ETA: 24s - loss: 0.14 - ETA: 24s - loss: 0.14 - ETA: 24s - loss: 0.14 - ETA: 24s - loss: 0.14 - ETA: 23s - loss: 0.14 - ETA: 23s - loss: 0.14 - ETA: 23s - loss: 0.14 - ETA: 23s - loss: 0.14 - ETA: 22s - loss: 0.14 - ETA: 22s - loss: 0.14 - ETA: 22s - loss: 0.14 - ETA: 22s - loss: 0.14 - ETA: 22s - loss: 0.14 - ETA: 21s - loss: 0.14 - ETA: 21s - loss: 0.14 - ETA: 21s - loss: 0.14 - ETA: 21s - loss: 0.14 - ETA: 21s - loss: 0.14 - ETA: 20s - loss: 0.14 - ETA: 20s - loss: 0.14 - ETA: 20s - loss: 0.14 - ETA: 20s - loss: 0.14 - ETA: 20s - loss: 0.14 - ETA: 19s - loss: 0.14 - ETA: 19s - loss: 0.14 - ETA: 19s - loss: 0.14 - ETA: 19s - loss: 0.14 - ETA: 19s - loss: 0.14 - ETA: 18s - loss: 0.14 - ETA: 18s - loss: 0.14 - ETA: 18s - loss: 0.14 - ETA: 18s - loss: 0.14 - ETA: 18s - loss: 0.14 - ETA: 17s - loss: 0.14 - ETA: 17s - loss: 0.14 - ETA: 17s - loss: 0.14 - ETA: 17s - loss: 0.14 - ETA: 17s - loss: 0.14 - ETA: 16s - loss: 0.14 - ETA: 16s - loss: 0.14 - ETA: 16s - loss: 0.14 - ETA: 16s - loss: 0.14 - ETA: 16s - loss: 0.14 - ETA: 15s - loss: 0.14 - ETA: 15s - loss: 0.14 - ETA: 15s - loss: 0.14 - ETA: 15s - loss: 0.14 - ETA: 15s - loss: 0.14 - ETA: 14s - loss: 0.14 - ETA: 14s - loss: 0.14 - ETA: 14s - loss: 0.14 - ETA: 14s - loss: 0.14 - ETA: 14s - loss: 0.14 - ETA: 13s - loss: 0.14 - ETA: 13s - loss: 0.14 - ETA: 13s - loss: 0.14 - ETA: 13s - loss: 0.14 - ETA: 12s - loss: 0.14 - ETA: 12s - loss: 0.14 - ETA: 12s - loss: 0.14 - ETA: 12s - loss: 0.14 - ETA: 12s - loss: 0.14 - ETA: 11s - loss: 0.14 - ETA: 11s - loss: 0.14 - ETA: 11s - loss: 0.14 - ETA: 11s - loss: 0.14 - ETA: 11s - loss: 0.14 - ETA: 10s - loss: 0.14 - ETA: 10s - loss: 0.14 - ETA: 10s - loss: 0.14 - ETA: 10s - loss: 0.14 - ETA: 10s - loss: 0.14 - ETA: 9s - loss: 0.1468 - ETA: 9s - loss: 0.146 - ETA: 9s - loss: 0.146 - ETA: 9s - loss: 0.146 - ETA: 9s - loss: 0.146 - ETA: 8s - loss: 0.146 - ETA: 8s - loss: 0.146 - ETA: 8s - loss: 0.146 - ETA: 8s - loss: 0.146 - ETA: 8s - loss: 0.146 - ETA: 7s - loss: 0.146 - ETA: 7s - loss: 0.146 - ETA: 7s - loss: 0.146 - ETA: 7s - loss: 0.146 - ETA: 6s - loss: 0.146 - ETA: 6s - loss: 0.146 - ETA: 6s - loss: 0.146 - ETA: 6s - loss: 0.146 - ETA: 6s - loss: 0.146 - ETA: 5s - loss: 0.146 - ETA: 5s - loss: 0.146 - ETA: 5s - loss: 0.146 - ETA: 5s - loss: 0.146 - ETA: 5s - loss: 0.146 - ETA: 4s - loss: 0.146 - ETA: 4s - loss: 0.147 - ETA: 4s - loss: 0.147 - ETA: 4s - loss: 0.147 - ETA: 4s - loss: 0.147 - ETA: 3s - loss: 0.146 - ETA: 3s - loss: 0.146 - ETA: 3s - loss: 0.146 - ETA: 3s - loss: 0.146 - ETA: 3s - loss: 0.146 - ETA: 2s - loss: 0.146 - ETA: 2s - loss: 0.146 - ETA: 2s - loss: 0.146 - ETA: 2s - loss: 0.146 - ETA: 2s - loss: 0.146 - ETA: 1s - loss: 0.146 - ETA: 1s - loss: 0.146 - ETA: 1s - loss: 0.146 - ETA: 1s - loss: 0.146 - ETA: 0s - loss: 0.146 - ETA: 0s - loss: 0.146 - ETA: 0s - loss: 0.146 - ETA: 0s - loss: 0.146 - ETA: 0s - loss: 0.146 - 55s 6ms/step - loss: 0.1461 - val_loss: 0.1206\n",
      "Epoch 3/5\n"
     ]
    },
    {
     "name": "stdout",
     "output_type": "stream",
     "text": [
      "8540/8540 [==============================] - ETA: 51s - loss: 0.14 - ETA: 55s - loss: 0.12 - ETA: 57s - loss: 0.13 - ETA: 57s - loss: 0.13 - ETA: 58s - loss: 0.14 - ETA: 58s - loss: 0.13 - ETA: 58s - loss: 0.13 - ETA: 56s - loss: 0.13 - ETA: 55s - loss: 0.13 - ETA: 54s - loss: 0.13 - ETA: 54s - loss: 0.13 - ETA: 53s - loss: 0.13 - ETA: 53s - loss: 0.13 - ETA: 53s - loss: 0.14 - ETA: 52s - loss: 0.14 - ETA: 52s - loss: 0.14 - ETA: 51s - loss: 0.14 - ETA: 51s - loss: 0.14 - ETA: 51s - loss: 0.14 - ETA: 51s - loss: 0.14 - ETA: 50s - loss: 0.14 - ETA: 50s - loss: 0.14 - ETA: 50s - loss: 0.14 - ETA: 49s - loss: 0.14 - ETA: 49s - loss: 0.14 - ETA: 49s - loss: 0.14 - ETA: 48s - loss: 0.14 - ETA: 48s - loss: 0.14 - ETA: 48s - loss: 0.14 - ETA: 48s - loss: 0.14 - ETA: 48s - loss: 0.14 - ETA: 47s - loss: 0.14 - ETA: 47s - loss: 0.14 - ETA: 47s - loss: 0.14 - ETA: 47s - loss: 0.14 - ETA: 46s - loss: 0.14 - ETA: 46s - loss: 0.14 - ETA: 46s - loss: 0.14 - ETA: 46s - loss: 0.14 - ETA: 46s - loss: 0.14 - ETA: 45s - loss: 0.14 - ETA: 45s - loss: 0.14 - ETA: 45s - loss: 0.14 - ETA: 45s - loss: 0.14 - ETA: 44s - loss: 0.14 - ETA: 44s - loss: 0.14 - ETA: 44s - loss: 0.14 - ETA: 44s - loss: 0.14 - ETA: 44s - loss: 0.14 - ETA: 43s - loss: 0.14 - ETA: 43s - loss: 0.14 - ETA: 43s - loss: 0.14 - ETA: 43s - loss: 0.14 - ETA: 42s - loss: 0.14 - ETA: 42s - loss: 0.14 - ETA: 42s - loss: 0.14 - ETA: 42s - loss: 0.14 - ETA: 42s - loss: 0.14 - ETA: 41s - loss: 0.14 - ETA: 41s - loss: 0.14 - ETA: 41s - loss: 0.14 - ETA: 41s - loss: 0.14 - ETA: 40s - loss: 0.14 - ETA: 40s - loss: 0.14 - ETA: 40s - loss: 0.13 - ETA: 40s - loss: 0.13 - ETA: 40s - loss: 0.13 - ETA: 39s - loss: 0.13 - ETA: 39s - loss: 0.13 - ETA: 39s - loss: 0.13 - ETA: 39s - loss: 0.14 - ETA: 39s - loss: 0.14 - ETA: 38s - loss: 0.14 - ETA: 38s - loss: 0.14 - ETA: 38s - loss: 0.13 - ETA: 38s - loss: 0.13 - ETA: 37s - loss: 0.14 - ETA: 37s - loss: 0.13 - ETA: 37s - loss: 0.13 - ETA: 37s - loss: 0.13 - ETA: 37s - loss: 0.14 - ETA: 36s - loss: 0.14 - ETA: 36s - loss: 0.13 - ETA: 36s - loss: 0.13 - ETA: 36s - loss: 0.13 - ETA: 36s - loss: 0.13 - ETA: 35s - loss: 0.13 - ETA: 35s - loss: 0.13 - ETA: 35s - loss: 0.13 - ETA: 35s - loss: 0.13 - ETA: 35s - loss: 0.13 - ETA: 34s - loss: 0.13 - ETA: 34s - loss: 0.13 - ETA: 34s - loss: 0.14 - ETA: 34s - loss: 0.14 - ETA: 34s - loss: 0.14 - ETA: 33s - loss: 0.14 - ETA: 33s - loss: 0.14 - ETA: 33s - loss: 0.14 - ETA: 33s - loss: 0.14 - ETA: 33s - loss: 0.14 - ETA: 32s - loss: 0.14 - ETA: 32s - loss: 0.14 - ETA: 32s - loss: 0.14 - ETA: 32s - loss: 0.14 - ETA: 32s - loss: 0.14 - ETA: 31s - loss: 0.14 - ETA: 31s - loss: 0.14 - ETA: 31s - loss: 0.14 - ETA: 31s - loss: 0.14 - ETA: 31s - loss: 0.14 - ETA: 30s - loss: 0.14 - ETA: 30s - loss: 0.14 - ETA: 30s - loss: 0.14 - ETA: 30s - loss: 0.14 - ETA: 30s - loss: 0.14 - ETA: 30s - loss: 0.14 - ETA: 29s - loss: 0.14 - ETA: 29s - loss: 0.14 - ETA: 29s - loss: 0.14 - ETA: 29s - loss: 0.14 - ETA: 29s - loss: 0.14 - ETA: 28s - loss: 0.14 - ETA: 28s - loss: 0.14 - ETA: 28s - loss: 0.14 - ETA: 28s - loss: 0.14 - ETA: 28s - loss: 0.14 - ETA: 27s - loss: 0.14 - ETA: 27s - loss: 0.14 - ETA: 27s - loss: 0.14 - ETA: 27s - loss: 0.14 - ETA: 27s - loss: 0.14 - ETA: 26s - loss: 0.14 - ETA: 26s - loss: 0.14 - ETA: 26s - loss: 0.14 - ETA: 26s - loss: 0.14 - ETA: 26s - loss: 0.14 - ETA: 25s - loss: 0.14 - ETA: 25s - loss: 0.14 - ETA: 25s - loss: 0.14 - ETA: 25s - loss: 0.14 - ETA: 25s - loss: 0.14 - ETA: 24s - loss: 0.14 - ETA: 24s - loss: 0.14 - ETA: 24s - loss: 0.14 - ETA: 24s - loss: 0.14 - ETA: 24s - loss: 0.14 - ETA: 23s - loss: 0.14 - ETA: 23s - loss: 0.14 - ETA: 23s - loss: 0.14 - ETA: 23s - loss: 0.14 - ETA: 23s - loss: 0.14 - ETA: 22s - loss: 0.14 - ETA: 22s - loss: 0.14 - ETA: 22s - loss: 0.14 - ETA: 22s - loss: 0.14 - ETA: 22s - loss: 0.14 - ETA: 21s - loss: 0.14 - ETA: 21s - loss: 0.14 - ETA: 21s - loss: 0.14 - ETA: 21s - loss: 0.14 - ETA: 21s - loss: 0.14 - ETA: 20s - loss: 0.14 - ETA: 20s - loss: 0.14 - ETA: 20s - loss: 0.14 - ETA: 20s - loss: 0.14 - ETA: 20s - loss: 0.14 - ETA: 19s - loss: 0.14 - ETA: 19s - loss: 0.14 - ETA: 19s - loss: 0.14 - ETA: 19s - loss: 0.14 - ETA: 19s - loss: 0.14 - ETA: 18s - loss: 0.14 - ETA: 18s - loss: 0.14 - ETA: 18s - loss: 0.14 - ETA: 18s - loss: 0.14 - ETA: 18s - loss: 0.14 - ETA: 17s - loss: 0.14 - ETA: 17s - loss: 0.14 - ETA: 17s - loss: 0.14 - ETA: 17s - loss: 0.14 - ETA: 17s - loss: 0.14 - ETA: 16s - loss: 0.14 - ETA: 16s - loss: 0.14 - ETA: 16s - loss: 0.14 - ETA: 16s - loss: 0.14 - ETA: 16s - loss: 0.14 - ETA: 15s - loss: 0.14 - ETA: 15s - loss: 0.14 - ETA: 15s - loss: 0.14 - ETA: 15s - loss: 0.14 - ETA: 15s - loss: 0.14 - ETA: 14s - loss: 0.14 - ETA: 14s - loss: 0.14 - ETA: 14s - loss: 0.14 - ETA: 14s - loss: 0.14 - ETA: 14s - loss: 0.14 - ETA: 13s - loss: 0.14 - ETA: 13s - loss: 0.14 - ETA: 13s - loss: 0.14 - ETA: 13s - loss: 0.14 - ETA: 13s - loss: 0.14 - ETA: 12s - loss: 0.14 - ETA: 12s - loss: 0.14 - ETA: 12s - loss: 0.14 - ETA: 12s - loss: 0.14 - ETA: 12s - loss: 0.14 - ETA: 11s - loss: 0.14 - ETA: 11s - loss: 0.14 - ETA: 11s - loss: 0.14 - ETA: 11s - loss: 0.14 - ETA: 11s - loss: 0.14 - ETA: 10s - loss: 0.14 - ETA: 10s - loss: 0.14 - ETA: 10s - loss: 0.14 - ETA: 10s - loss: 0.14 - ETA: 10s - loss: 0.14 - ETA: 9s - loss: 0.1428 - ETA: 9s - loss: 0.142 - ETA: 9s - loss: 0.142 - ETA: 9s - loss: 0.142 - ETA: 9s - loss: 0.142 - ETA: 8s - loss: 0.142 - ETA: 8s - loss: 0.142 - ETA: 8s - loss: 0.142 - ETA: 8s - loss: 0.142 - ETA: 8s - loss: 0.142 - ETA: 7s - loss: 0.142 - ETA: 7s - loss: 0.142 - ETA: 7s - loss: 0.142 - ETA: 7s - loss: 0.142 - ETA: 7s - loss: 0.142 - ETA: 6s - loss: 0.142 - ETA: 6s - loss: 0.142 - ETA: 6s - loss: 0.142 - ETA: 6s - loss: 0.142 - ETA: 6s - loss: 0.142 - ETA: 5s - loss: 0.142 - ETA: 5s - loss: 0.142 - ETA: 5s - loss: 0.142 - ETA: 5s - loss: 0.142 - ETA: 5s - loss: 0.142 - ETA: 4s - loss: 0.142 - ETA: 4s - loss: 0.142 - ETA: 4s - loss: 0.142 - ETA: 4s - loss: 0.142 - ETA: 4s - loss: 0.142 - ETA: 3s - loss: 0.142 - ETA: 3s - loss: 0.142 - ETA: 3s - loss: 0.142 - ETA: 3s - loss: 0.142 - ETA: 3s - loss: 0.142 - ETA: 2s - loss: 0.142 - ETA: 2s - loss: 0.142 - ETA: 2s - loss: 0.142 - ETA: 2s - loss: 0.142 - ETA: 2s - loss: 0.142 - ETA: 1s - loss: 0.142 - ETA: 1s - loss: 0.142 - ETA: 1s - loss: 0.142 - ETA: 1s - loss: 0.142 - ETA: 0s - loss: 0.142 - ETA: 0s - loss: 0.142 - ETA: 0s - loss: 0.142 - ETA: 0s - loss: 0.142 - ETA: 0s - loss: 0.142 - 54s 6ms/step - loss: 0.1427 - val_loss: 0.1184\n",
      "Epoch 4/5\n"
     ]
    },
    {
     "name": "stdout",
     "output_type": "stream",
     "text": [
      "8540/8540 [==============================] - ETA: 48s - loss: 0.15 - ETA: 52s - loss: 0.15 - ETA: 52s - loss: 0.15 - ETA: 52s - loss: 0.14 - ETA: 52s - loss: 0.14 - ETA: 51s - loss: 0.13 - ETA: 51s - loss: 0.14 - ETA: 52s - loss: 0.14 - ETA: 52s - loss: 0.14 - ETA: 53s - loss: 0.14 - ETA: 53s - loss: 0.14 - ETA: 52s - loss: 0.14 - ETA: 52s - loss: 0.14 - ETA: 52s - loss: 0.14 - ETA: 52s - loss: 0.14 - ETA: 52s - loss: 0.14 - ETA: 52s - loss: 0.14 - ETA: 52s - loss: 0.14 - ETA: 51s - loss: 0.14 - ETA: 51s - loss: 0.14 - ETA: 51s - loss: 0.14 - ETA: 51s - loss: 0.14 - ETA: 50s - loss: 0.14 - ETA: 50s - loss: 0.14 - ETA: 50s - loss: 0.14 - ETA: 50s - loss: 0.14 - ETA: 50s - loss: 0.14 - ETA: 50s - loss: 0.14 - ETA: 49s - loss: 0.14 - ETA: 49s - loss: 0.14 - ETA: 49s - loss: 0.14 - ETA: 48s - loss: 0.14 - ETA: 48s - loss: 0.14 - ETA: 48s - loss: 0.14 - ETA: 47s - loss: 0.14 - ETA: 47s - loss: 0.14 - ETA: 47s - loss: 0.14 - ETA: 47s - loss: 0.14 - ETA: 47s - loss: 0.14 - ETA: 47s - loss: 0.14 - ETA: 47s - loss: 0.14 - ETA: 47s - loss: 0.14 - ETA: 46s - loss: 0.14 - ETA: 46s - loss: 0.14 - ETA: 46s - loss: 0.14 - ETA: 46s - loss: 0.14 - ETA: 45s - loss: 0.14 - ETA: 45s - loss: 0.14 - ETA: 45s - loss: 0.14 - ETA: 45s - loss: 0.14 - ETA: 44s - loss: 0.14 - ETA: 44s - loss: 0.14 - ETA: 44s - loss: 0.14 - ETA: 44s - loss: 0.14 - ETA: 43s - loss: 0.14 - ETA: 43s - loss: 0.14 - ETA: 43s - loss: 0.14 - ETA: 43s - loss: 0.14 - ETA: 42s - loss: 0.14 - ETA: 42s - loss: 0.14 - ETA: 42s - loss: 0.14 - ETA: 42s - loss: 0.14 - ETA: 41s - loss: 0.14 - ETA: 41s - loss: 0.14 - ETA: 41s - loss: 0.14 - ETA: 41s - loss: 0.14 - ETA: 41s - loss: 0.14 - ETA: 40s - loss: 0.14 - ETA: 40s - loss: 0.14 - ETA: 40s - loss: 0.14 - ETA: 40s - loss: 0.14 - ETA: 39s - loss: 0.14 - ETA: 39s - loss: 0.14 - ETA: 39s - loss: 0.14 - ETA: 39s - loss: 0.14 - ETA: 39s - loss: 0.14 - ETA: 38s - loss: 0.14 - ETA: 38s - loss: 0.14 - ETA: 38s - loss: 0.14 - ETA: 38s - loss: 0.14 - ETA: 37s - loss: 0.14 - ETA: 37s - loss: 0.14 - ETA: 37s - loss: 0.14 - ETA: 37s - loss: 0.14 - ETA: 36s - loss: 0.14 - ETA: 36s - loss: 0.14 - ETA: 36s - loss: 0.14 - ETA: 36s - loss: 0.14 - ETA: 36s - loss: 0.14 - ETA: 35s - loss: 0.14 - ETA: 35s - loss: 0.14 - ETA: 35s - loss: 0.14 - ETA: 35s - loss: 0.14 - ETA: 35s - loss: 0.14 - ETA: 34s - loss: 0.14 - ETA: 34s - loss: 0.14 - ETA: 34s - loss: 0.14 - ETA: 34s - loss: 0.14 - ETA: 33s - loss: 0.14 - ETA: 33s - loss: 0.14 - ETA: 33s - loss: 0.14 - ETA: 33s - loss: 0.14 - ETA: 33s - loss: 0.14 - ETA: 32s - loss: 0.14 - ETA: 32s - loss: 0.14 - ETA: 32s - loss: 0.14 - ETA: 32s - loss: 0.14 - ETA: 32s - loss: 0.14 - ETA: 31s - loss: 0.14 - ETA: 31s - loss: 0.14 - ETA: 31s - loss: 0.14 - ETA: 31s - loss: 0.14 - ETA: 31s - loss: 0.14 - ETA: 30s - loss: 0.14 - ETA: 30s - loss: 0.14 - ETA: 30s - loss: 0.14 - ETA: 30s - loss: 0.14 - ETA: 29s - loss: 0.14 - ETA: 29s - loss: 0.14 - ETA: 29s - loss: 0.14 - ETA: 29s - loss: 0.14 - ETA: 29s - loss: 0.14 - ETA: 28s - loss: 0.14 - ETA: 28s - loss: 0.14 - ETA: 28s - loss: 0.14 - ETA: 28s - loss: 0.14 - ETA: 28s - loss: 0.14 - ETA: 27s - loss: 0.14 - ETA: 27s - loss: 0.14 - ETA: 27s - loss: 0.14 - ETA: 27s - loss: 0.14 - ETA: 27s - loss: 0.14 - ETA: 26s - loss: 0.14 - ETA: 26s - loss: 0.14 - ETA: 26s - loss: 0.14 - ETA: 26s - loss: 0.14 - ETA: 26s - loss: 0.14 - ETA: 25s - loss: 0.14 - ETA: 25s - loss: 0.14 - ETA: 25s - loss: 0.14 - ETA: 25s - loss: 0.14 - ETA: 24s - loss: 0.14 - ETA: 24s - loss: 0.14 - ETA: 24s - loss: 0.14 - ETA: 24s - loss: 0.14 - ETA: 24s - loss: 0.14 - ETA: 23s - loss: 0.14 - ETA: 23s - loss: 0.14 - ETA: 23s - loss: 0.14 - ETA: 23s - loss: 0.14 - ETA: 23s - loss: 0.14 - ETA: 22s - loss: 0.14 - ETA: 22s - loss: 0.14 - ETA: 22s - loss: 0.14 - ETA: 22s - loss: 0.14 - ETA: 22s - loss: 0.14 - ETA: 21s - loss: 0.14 - ETA: 21s - loss: 0.14 - ETA: 21s - loss: 0.14 - ETA: 21s - loss: 0.14 - ETA: 21s - loss: 0.14 - ETA: 20s - loss: 0.14 - ETA: 20s - loss: 0.14 - ETA: 20s - loss: 0.14 - ETA: 20s - loss: 0.14 - ETA: 20s - loss: 0.14 - ETA: 19s - loss: 0.14 - ETA: 19s - loss: 0.14 - ETA: 19s - loss: 0.14 - ETA: 19s - loss: 0.14 - ETA: 19s - loss: 0.14 - ETA: 18s - loss: 0.14 - ETA: 18s - loss: 0.14 - ETA: 18s - loss: 0.14 - ETA: 18s - loss: 0.14 - ETA: 18s - loss: 0.14 - ETA: 17s - loss: 0.14 - ETA: 17s - loss: 0.14 - ETA: 17s - loss: 0.14 - ETA: 17s - loss: 0.14 - ETA: 17s - loss: 0.14 - ETA: 16s - loss: 0.14 - ETA: 16s - loss: 0.14 - ETA: 16s - loss: 0.14 - ETA: 16s - loss: 0.14 - ETA: 16s - loss: 0.14 - ETA: 15s - loss: 0.14 - ETA: 15s - loss: 0.14 - ETA: 15s - loss: 0.14 - ETA: 15s - loss: 0.14 - ETA: 15s - loss: 0.14 - ETA: 14s - loss: 0.14 - ETA: 14s - loss: 0.14 - ETA: 14s - loss: 0.14 - ETA: 14s - loss: 0.14 - ETA: 14s - loss: 0.14 - ETA: 13s - loss: 0.14 - ETA: 13s - loss: 0.14 - ETA: 13s - loss: 0.14 - ETA: 13s - loss: 0.14 - ETA: 13s - loss: 0.14 - ETA: 12s - loss: 0.14 - ETA: 12s - loss: 0.14 - ETA: 12s - loss: 0.14 - ETA: 12s - loss: 0.14 - ETA: 12s - loss: 0.14 - ETA: 11s - loss: 0.14 - ETA: 11s - loss: 0.14 - ETA: 11s - loss: 0.14 - ETA: 11s - loss: 0.14 - ETA: 11s - loss: 0.14 - ETA: 10s - loss: 0.14 - ETA: 10s - loss: 0.14 - ETA: 10s - loss: 0.14 - ETA: 10s - loss: 0.14 - ETA: 10s - loss: 0.14 - ETA: 9s - loss: 0.1423 - ETA: 9s - loss: 0.142 - ETA: 9s - loss: 0.142 - ETA: 9s - loss: 0.142 - ETA: 9s - loss: 0.142 - ETA: 8s - loss: 0.142 - ETA: 8s - loss: 0.142 - ETA: 8s - loss: 0.142 - ETA: 8s - loss: 0.142 - ETA: 8s - loss: 0.142 - ETA: 7s - loss: 0.142 - ETA: 7s - loss: 0.142 - ETA: 7s - loss: 0.142 - ETA: 7s - loss: 0.142 - ETA: 7s - loss: 0.142 - ETA: 6s - loss: 0.142 - ETA: 6s - loss: 0.142 - ETA: 6s - loss: 0.142 - ETA: 6s - loss: 0.142 - ETA: 6s - loss: 0.142 - ETA: 5s - loss: 0.142 - ETA: 5s - loss: 0.142 - ETA: 5s - loss: 0.142 - ETA: 5s - loss: 0.142 - ETA: 5s - loss: 0.142 - ETA: 4s - loss: 0.142 - ETA: 4s - loss: 0.142 - ETA: 4s - loss: 0.142 - ETA: 4s - loss: 0.142 - ETA: 4s - loss: 0.142 - ETA: 3s - loss: 0.142 - ETA: 3s - loss: 0.142 - ETA: 3s - loss: 0.142 - ETA: 3s - loss: 0.142 - ETA: 3s - loss: 0.142 - ETA: 2s - loss: 0.142 - ETA: 2s - loss: 0.142 - ETA: 2s - loss: 0.142 - ETA: 2s - loss: 0.142 - ETA: 2s - loss: 0.142 - ETA: 1s - loss: 0.142 - ETA: 1s - loss: 0.142 - ETA: 1s - loss: 0.142 - ETA: 1s - loss: 0.141 - ETA: 1s - loss: 0.141 - ETA: 0s - loss: 0.141 - ETA: 0s - loss: 0.141 - ETA: 0s - loss: 0.141 - ETA: 0s - loss: 0.141 - ETA: 0s - loss: 0.141 - 53s 6ms/step - loss: 0.1417 - val_loss: 0.1173\n",
      "Epoch 5/5\n"
     ]
    },
    {
     "name": "stdout",
     "output_type": "stream",
     "text": [
      "8540/8540 [==============================] - ETA: 51s - loss: 0.12 - ETA: 50s - loss: 0.14 - ETA: 52s - loss: 0.15 - ETA: 51s - loss: 0.15 - ETA: 51s - loss: 0.14 - ETA: 51s - loss: 0.14 - ETA: 51s - loss: 0.14 - ETA: 51s - loss: 0.14 - ETA: 50s - loss: 0.14 - ETA: 50s - loss: 0.14 - ETA: 50s - loss: 0.14 - ETA: 50s - loss: 0.15 - ETA: 50s - loss: 0.15 - ETA: 49s - loss: 0.14 - ETA: 49s - loss: 0.14 - ETA: 49s - loss: 0.14 - ETA: 49s - loss: 0.14 - ETA: 49s - loss: 0.14 - ETA: 48s - loss: 0.14 - ETA: 48s - loss: 0.14 - ETA: 48s - loss: 0.14 - ETA: 48s - loss: 0.14 - ETA: 48s - loss: 0.14 - ETA: 47s - loss: 0.14 - ETA: 47s - loss: 0.14 - ETA: 47s - loss: 0.14 - ETA: 47s - loss: 0.14 - ETA: 47s - loss: 0.14 - ETA: 46s - loss: 0.14 - ETA: 46s - loss: 0.14 - ETA: 46s - loss: 0.14 - ETA: 46s - loss: 0.14 - ETA: 46s - loss: 0.14 - ETA: 45s - loss: 0.14 - ETA: 45s - loss: 0.14 - ETA: 45s - loss: 0.14 - ETA: 45s - loss: 0.14 - ETA: 44s - loss: 0.14 - ETA: 44s - loss: 0.14 - ETA: 44s - loss: 0.14 - ETA: 44s - loss: 0.14 - ETA: 44s - loss: 0.14 - ETA: 43s - loss: 0.14 - ETA: 43s - loss: 0.14 - ETA: 43s - loss: 0.14 - ETA: 43s - loss: 0.14 - ETA: 43s - loss: 0.14 - ETA: 42s - loss: 0.14 - ETA: 42s - loss: 0.14 - ETA: 42s - loss: 0.14 - ETA: 42s - loss: 0.14 - ETA: 42s - loss: 0.14 - ETA: 42s - loss: 0.14 - ETA: 41s - loss: 0.14 - ETA: 41s - loss: 0.14 - ETA: 41s - loss: 0.14 - ETA: 41s - loss: 0.14 - ETA: 41s - loss: 0.14 - ETA: 40s - loss: 0.14 - ETA: 40s - loss: 0.13 - ETA: 40s - loss: 0.13 - ETA: 40s - loss: 0.13 - ETA: 40s - loss: 0.13 - ETA: 39s - loss: 0.13 - ETA: 39s - loss: 0.13 - ETA: 39s - loss: 0.13 - ETA: 39s - loss: 0.13 - ETA: 39s - loss: 0.13 - ETA: 38s - loss: 0.13 - ETA: 38s - loss: 0.13 - ETA: 38s - loss: 0.13 - ETA: 38s - loss: 0.13 - ETA: 38s - loss: 0.13 - ETA: 37s - loss: 0.13 - ETA: 37s - loss: 0.14 - ETA: 37s - loss: 0.14 - ETA: 37s - loss: 0.14 - ETA: 37s - loss: 0.14 - ETA: 36s - loss: 0.14 - ETA: 36s - loss: 0.14 - ETA: 36s - loss: 0.14 - ETA: 36s - loss: 0.14 - ETA: 36s - loss: 0.14 - ETA: 35s - loss: 0.14 - ETA: 35s - loss: 0.14 - ETA: 35s - loss: 0.14 - ETA: 35s - loss: 0.14 - ETA: 35s - loss: 0.14 - ETA: 34s - loss: 0.14 - ETA: 34s - loss: 0.14 - ETA: 34s - loss: 0.14 - ETA: 34s - loss: 0.14 - ETA: 34s - loss: 0.14 - ETA: 33s - loss: 0.14 - ETA: 33s - loss: 0.14 - ETA: 33s - loss: 0.14 - ETA: 33s - loss: 0.14 - ETA: 33s - loss: 0.14 - ETA: 32s - loss: 0.14 - ETA: 32s - loss: 0.14 - ETA: 32s - loss: 0.14 - ETA: 32s - loss: 0.14 - ETA: 32s - loss: 0.14 - ETA: 31s - loss: 0.14 - ETA: 31s - loss: 0.14 - ETA: 31s - loss: 0.14 - ETA: 31s - loss: 0.14 - ETA: 31s - loss: 0.14 - ETA: 31s - loss: 0.14 - ETA: 30s - loss: 0.14 - ETA: 30s - loss: 0.14 - ETA: 30s - loss: 0.14 - ETA: 30s - loss: 0.14 - ETA: 30s - loss: 0.14 - ETA: 29s - loss: 0.14 - ETA: 29s - loss: 0.14 - ETA: 29s - loss: 0.14 - ETA: 29s - loss: 0.14 - ETA: 29s - loss: 0.14 - ETA: 28s - loss: 0.14 - ETA: 28s - loss: 0.14 - ETA: 28s - loss: 0.14 - ETA: 28s - loss: 0.14 - ETA: 28s - loss: 0.14 - ETA: 27s - loss: 0.14 - ETA: 27s - loss: 0.14 - ETA: 27s - loss: 0.14 - ETA: 27s - loss: 0.14 - ETA: 27s - loss: 0.14 - ETA: 26s - loss: 0.14 - ETA: 26s - loss: 0.14 - ETA: 26s - loss: 0.14 - ETA: 26s - loss: 0.14 - ETA: 26s - loss: 0.14 - ETA: 25s - loss: 0.14 - ETA: 25s - loss: 0.14 - ETA: 25s - loss: 0.14 - ETA: 25s - loss: 0.14 - ETA: 25s - loss: 0.14 - ETA: 24s - loss: 0.14 - ETA: 24s - loss: 0.14 - ETA: 24s - loss: 0.14 - ETA: 24s - loss: 0.14 - ETA: 24s - loss: 0.14 - ETA: 23s - loss: 0.14 - ETA: 23s - loss: 0.14 - ETA: 23s - loss: 0.14 - ETA: 23s - loss: 0.14 - ETA: 23s - loss: 0.14 - ETA: 22s - loss: 0.14 - ETA: 22s - loss: 0.14 - ETA: 22s - loss: 0.14 - ETA: 22s - loss: 0.14 - ETA: 22s - loss: 0.14 - ETA: 22s - loss: 0.14 - ETA: 21s - loss: 0.14 - ETA: 21s - loss: 0.14 - ETA: 21s - loss: 0.14 - ETA: 21s - loss: 0.14 - ETA: 21s - loss: 0.14 - ETA: 20s - loss: 0.14 - ETA: 20s - loss: 0.14 - ETA: 20s - loss: 0.14 - ETA: 20s - loss: 0.14 - ETA: 20s - loss: 0.14 - ETA: 19s - loss: 0.14 - ETA: 19s - loss: 0.14 - ETA: 19s - loss: 0.14 - ETA: 19s - loss: 0.14 - ETA: 19s - loss: 0.14 - ETA: 18s - loss: 0.14 - ETA: 18s - loss: 0.14 - ETA: 18s - loss: 0.14 - ETA: 18s - loss: 0.14 - ETA: 18s - loss: 0.14 - ETA: 17s - loss: 0.14 - ETA: 17s - loss: 0.14 - ETA: 17s - loss: 0.14 - ETA: 17s - loss: 0.14 - ETA: 17s - loss: 0.14 - ETA: 16s - loss: 0.14 - ETA: 16s - loss: 0.14 - ETA: 16s - loss: 0.14 - ETA: 16s - loss: 0.14 - ETA: 16s - loss: 0.14 - ETA: 15s - loss: 0.14 - ETA: 15s - loss: 0.14 - ETA: 15s - loss: 0.14 - ETA: 15s - loss: 0.14 - ETA: 15s - loss: 0.14 - ETA: 14s - loss: 0.14 - ETA: 14s - loss: 0.14 - ETA: 14s - loss: 0.14 - ETA: 14s - loss: 0.14 - ETA: 14s - loss: 0.14 - ETA: 13s - loss: 0.14 - ETA: 13s - loss: 0.14 - ETA: 13s - loss: 0.14 - ETA: 13s - loss: 0.14 - ETA: 13s - loss: 0.14 - ETA: 12s - loss: 0.14 - ETA: 12s - loss: 0.14 - ETA: 12s - loss: 0.14 - ETA: 12s - loss: 0.14 - ETA: 12s - loss: 0.14 - ETA: 11s - loss: 0.14 - ETA: 11s - loss: 0.14 - ETA: 11s - loss: 0.14 - ETA: 11s - loss: 0.14 - ETA: 11s - loss: 0.14 - ETA: 10s - loss: 0.14 - ETA: 10s - loss: 0.14 - ETA: 10s - loss: 0.14 - ETA: 10s - loss: 0.14 - ETA: 10s - loss: 0.14 - ETA: 9s - loss: 0.1408 - ETA: 9s - loss: 0.140 - ETA: 9s - loss: 0.140 - ETA: 9s - loss: 0.140 - ETA: 9s - loss: 0.140 - ETA: 9s - loss: 0.140 - ETA: 8s - loss: 0.140 - ETA: 8s - loss: 0.140 - ETA: 8s - loss: 0.140 - ETA: 8s - loss: 0.140 - ETA: 8s - loss: 0.140 - ETA: 7s - loss: 0.140 - ETA: 7s - loss: 0.140 - ETA: 7s - loss: 0.140 - ETA: 7s - loss: 0.140 - ETA: 7s - loss: 0.140 - ETA: 6s - loss: 0.140 - ETA: 6s - loss: 0.140 - ETA: 6s - loss: 0.140 - ETA: 6s - loss: 0.140 - ETA: 6s - loss: 0.140 - ETA: 5s - loss: 0.140 - ETA: 5s - loss: 0.141 - ETA: 5s - loss: 0.141 - ETA: 5s - loss: 0.141 - ETA: 5s - loss: 0.141 - ETA: 4s - loss: 0.141 - ETA: 4s - loss: 0.141 - ETA: 4s - loss: 0.141 - ETA: 4s - loss: 0.141 - ETA: 4s - loss: 0.141 - ETA: 3s - loss: 0.141 - ETA: 3s - loss: 0.141 - ETA: 3s - loss: 0.141 - ETA: 3s - loss: 0.140 - ETA: 3s - loss: 0.141 - ETA: 2s - loss: 0.140 - ETA: 2s - loss: 0.140 - ETA: 2s - loss: 0.140 - ETA: 2s - loss: 0.140 - ETA: 2s - loss: 0.140 - ETA: 1s - loss: 0.141 - ETA: 1s - loss: 0.141 - ETA: 1s - loss: 0.141 - ETA: 1s - loss: 0.141 - ETA: 1s - loss: 0.141 - ETA: 0s - loss: 0.141 - ETA: 0s - loss: 0.140 - ETA: 0s - loss: 0.140 - ETA: 0s - loss: 0.141 - ETA: 0s - loss: 0.141 - 53s 6ms/step - loss: 0.1410 - val_loss: 0.1165\n"
     ]
    }
   ],
   "source": [
    "# model.compile(optimizer='adam', loss='binary_crossentropy', metrics=[f1micro])\n",
    "\n",
    "model.compile(loss='binary_crossentropy', optimizer='adam')\n",
    "# callbacks = [\n",
    "#     ReduceLROnPlateau(),\n",
    "#     EarlyStopping(patience=4),\n",
    "#     ModelCheckpoint(filepath='model-simple1.hdf5', save_best_only=True)\n",
    "# ]\n",
    "\n",
    "history = model.fit(padded_docs_train, y_train,\n",
    "                    class_weight='balanced',\n",
    "                    epochs=5,\n",
    "                    batch_size=32,\n",
    "                    validation_split=0.1,\n",
    "                    callbacks=callbacks)\n",
    "# history=model.fit(padded_docs_train, y_train,validation_data=(padded_docs_cv,y_cv), epochs =5,batch_size=32,callbacks=[tensorboard])"
   ]
  },
  {
   "cell_type": "code",
   "execution_count": 67,
   "metadata": {},
   "outputs": [
    {
     "name": "stdout",
     "output_type": "stream",
     "text": [
      "_________________________________________________________________\n",
      "Layer (type)                 Output Shape              Param #   \n",
      "=================================================================\n",
      "embedding_8 (Embedding)      (None, 1200, 50)          4939100   \n",
      "_________________________________________________________________\n",
      "dropout_8 (Dropout)          (None, 1200, 50)          0         \n",
      "_________________________________________________________________\n",
      "global_max_pooling1d_6 (Glob (None, 50)                0         \n",
      "_________________________________________________________________\n",
      "dense_7 (Dense)              (None, 71)                3621      \n",
      "_________________________________________________________________\n",
      "activation_3 (Activation)    (None, 71)                0         \n",
      "=================================================================\n",
      "Total params: 4,942,721\n",
      "Trainable params: 4,942,721\n",
      "Non-trainable params: 0\n",
      "_________________________________________________________________\n",
      "Train on 8540 samples, validate on 949 samples\n",
      "Epoch 1/5\n",
      "8540/8540 [==============================] - ETA: 5:48 - loss: 0.953 - ETA: 3:18 - loss: 0.950 - ETA: 2:29 - loss: 0.949 - ETA: 2:03 - loss: 0.950 - ETA: 1:49 - loss: 0.951 - ETA: 1:39 - loss: 0.951 - ETA: 1:31 - loss: 0.951 - ETA: 1:26 - loss: 0.950 - ETA: 1:21 - loss: 0.950 - ETA: 1:18 - loss: 0.950 - ETA: 1:15 - loss: 0.949 - ETA: 1:13 - loss: 0.949 - ETA: 1:11 - loss: 0.948 - ETA: 1:09 - loss: 0.948 - ETA: 1:07 - loss: 0.948 - ETA: 1:06 - loss: 0.947 - ETA: 1:05 - loss: 0.947 - ETA: 1:03 - loss: 0.947 - ETA: 1:02 - loss: 0.946 - ETA: 1:01 - loss: 0.946 - ETA: 1:01 - loss: 0.945 - ETA: 1:00 - loss: 0.945 - ETA: 59s - loss: 0.944 - ETA: 58s - loss: 0.94 - ETA: 58s - loss: 0.94 - ETA: 57s - loss: 0.94 - ETA: 56s - loss: 0.94 - ETA: 56s - loss: 0.94 - ETA: 55s - loss: 0.94 - ETA: 55s - loss: 0.94 - ETA: 54s - loss: 0.94 - ETA: 54s - loss: 0.94 - ETA: 53s - loss: 0.94 - ETA: 53s - loss: 0.94 - ETA: 52s - loss: 0.94 - ETA: 52s - loss: 0.94 - ETA: 51s - loss: 0.93 - ETA: 51s - loss: 0.93 - ETA: 51s - loss: 0.93 - ETA: 50s - loss: 0.93 - ETA: 50s - loss: 0.93 - ETA: 49s - loss: 0.93 - ETA: 49s - loss: 0.93 - ETA: 49s - loss: 0.93 - ETA: 48s - loss: 0.93 - ETA: 48s - loss: 0.93 - ETA: 48s - loss: 0.93 - ETA: 47s - loss: 0.93 - ETA: 47s - loss: 0.93 - ETA: 47s - loss: 0.93 - ETA: 46s - loss: 0.93 - ETA: 46s - loss: 0.93 - ETA: 46s - loss: 0.93 - ETA: 45s - loss: 0.93 - ETA: 45s - loss: 0.93 - ETA: 45s - loss: 0.93 - ETA: 45s - loss: 0.93 - ETA: 44s - loss: 0.93 - ETA: 44s - loss: 0.92 - ETA: 44s - loss: 0.92 - ETA: 43s - loss: 0.92 - ETA: 43s - loss: 0.92 - ETA: 43s - loss: 0.92 - ETA: 43s - loss: 0.92 - ETA: 42s - loss: 0.92 - ETA: 42s - loss: 0.92 - ETA: 42s - loss: 0.92 - ETA: 42s - loss: 0.92 - ETA: 41s - loss: 0.92 - ETA: 41s - loss: 0.92 - ETA: 41s - loss: 0.92 - ETA: 41s - loss: 0.92 - ETA: 40s - loss: 0.92 - ETA: 40s - loss: 0.92 - ETA: 40s - loss: 0.91 - ETA: 40s - loss: 0.91 - ETA: 39s - loss: 0.91 - ETA: 39s - loss: 0.91 - ETA: 39s - loss: 0.91 - ETA: 39s - loss: 0.91 - ETA: 38s - loss: 0.91 - ETA: 38s - loss: 0.91 - ETA: 38s - loss: 0.91 - ETA: 38s - loss: 0.91 - ETA: 37s - loss: 0.91 - ETA: 37s - loss: 0.91 - ETA: 37s - loss: 0.91 - ETA: 37s - loss: 0.91 - ETA: 36s - loss: 0.90 - ETA: 36s - loss: 0.90 - ETA: 36s - loss: 0.90 - ETA: 36s - loss: 0.90 - ETA: 36s - loss: 0.90 - ETA: 35s - loss: 0.90 - ETA: 35s - loss: 0.90 - ETA: 35s - loss: 0.90 - ETA: 35s - loss: 0.90 - ETA: 34s - loss: 0.90 - ETA: 34s - loss: 0.90 - ETA: 34s - loss: 0.90 - ETA: 34s - loss: 0.89 - ETA: 33s - loss: 0.89 - ETA: 33s - loss: 0.89 - ETA: 33s - loss: 0.89 - ETA: 33s - loss: 0.89 - ETA: 33s - loss: 0.89 - ETA: 32s - loss: 0.89 - ETA: 32s - loss: 0.89 - ETA: 32s - loss: 0.89 - ETA: 32s - loss: 0.89 - ETA: 31s - loss: 0.89 - ETA: 31s - loss: 0.89 - ETA: 31s - loss: 0.89 - ETA: 31s - loss: 0.88 - ETA: 31s - loss: 0.88 - ETA: 30s - loss: 0.88 - ETA: 30s - loss: 0.88 - ETA: 30s - loss: 0.88 - ETA: 30s - loss: 0.88 - ETA: 30s - loss: 0.88 - ETA: 29s - loss: 0.88 - ETA: 29s - loss: 0.88 - ETA: 29s - loss: 0.88 - ETA: 29s - loss: 0.88 - ETA: 29s - loss: 0.88 - ETA: 28s - loss: 0.87 - ETA: 28s - loss: 0.87 - ETA: 28s - loss: 0.87 - ETA: 28s - loss: 0.87 - ETA: 28s - loss: 0.87 - ETA: 27s - loss: 0.87 - ETA: 27s - loss: 0.87 - ETA: 27s - loss: 0.87 - ETA: 27s - loss: 0.87 - ETA: 26s - loss: 0.87 - ETA: 26s - loss: 0.87 - ETA: 26s - loss: 0.87 - ETA: 26s - loss: 0.87 - ETA: 26s - loss: 0.86 - ETA: 25s - loss: 0.86 - ETA: 25s - loss: 0.86 - ETA: 25s - loss: 0.86 - ETA: 25s - loss: 0.86 - ETA: 25s - loss: 0.86 - ETA: 24s - loss: 0.86 - ETA: 24s - loss: 0.86 - ETA: 24s - loss: 0.86 - ETA: 24s - loss: 0.86 - ETA: 23s - loss: 0.86 - ETA: 23s - loss: 0.86 - ETA: 23s - loss: 0.85 - ETA: 23s - loss: 0.85 - ETA: 23s - loss: 0.85 - ETA: 22s - loss: 0.85 - ETA: 22s - loss: 0.85 - ETA: 22s - loss: 0.85 - ETA: 22s - loss: 0.85 - ETA: 22s - loss: 0.85 - ETA: 21s - loss: 0.85 - ETA: 21s - loss: 0.85 - ETA: 21s - loss: 0.85 - ETA: 21s - loss: 0.85 - ETA: 21s - loss: 0.85 - ETA: 20s - loss: 0.85 - ETA: 20s - loss: 0.84 - ETA: 20s - loss: 0.84 - ETA: 20s - loss: 0.84 - ETA: 20s - loss: 0.84 - ETA: 19s - loss: 0.84 - ETA: 19s - loss: 0.84 - ETA: 19s - loss: 0.84 - ETA: 19s - loss: 0.84 - ETA: 19s - loss: 0.84 - ETA: 18s - loss: 0.84 - ETA: 18s - loss: 0.84 - ETA: 18s - loss: 0.84 - ETA: 18s - loss: 0.84 - ETA: 18s - loss: 0.84 - ETA: 17s - loss: 0.84 - ETA: 17s - loss: 0.83 - ETA: 17s - loss: 0.83 - ETA: 17s - loss: 0.83 - ETA: 17s - loss: 0.83 - ETA: 16s - loss: 0.83 - ETA: 16s - loss: 0.83 - ETA: 16s - loss: 0.83 - ETA: 16s - loss: 0.83 - ETA: 16s - loss: 0.83 - ETA: 15s - loss: 0.83 - ETA: 15s - loss: 0.83 - ETA: 15s - loss: 0.83 - ETA: 15s - loss: 0.83 - ETA: 14s - loss: 0.83 - ETA: 14s - loss: 0.83 - ETA: 14s - loss: 0.83 - ETA: 14s - loss: 0.83 - ETA: 14s - loss: 0.82 - ETA: 13s - loss: 0.82 - ETA: 13s - loss: 0.82 - ETA: 13s - loss: 0.82 - ETA: 13s - loss: 0.82 - ETA: 13s - loss: 0.82 - ETA: 12s - loss: 0.82 - ETA: 12s - loss: 0.82 - ETA: 12s - loss: 0.82 - ETA: 12s - loss: 0.82 - ETA: 12s - loss: 0.82 - ETA: 11s - loss: 0.82 - ETA: 11s - loss: 0.82 - ETA: 11s - loss: 0.82 - ETA: 11s - loss: 0.82 - ETA: 11s - loss: 0.82 - ETA: 10s - loss: 0.82 - ETA: 10s - loss: 0.82 - ETA: 10s - loss: 0.82 - ETA: 10s - loss: 0.81 - ETA: 10s - loss: 0.81 - ETA: 9s - loss: 0.8185 - ETA: 9s - loss: 0.818 - ETA: 9s - loss: 0.817 - ETA: 9s - loss: 0.817 - ETA: 9s - loss: 0.816 - ETA: 8s - loss: 0.816 - ETA: 8s - loss: 0.815 - ETA: 8s - loss: 0.815 - ETA: 8s - loss: 0.814 - ETA: 8s - loss: 0.814 - ETA: 7s - loss: 0.813 - ETA: 7s - loss: 0.813 - ETA: 7s - loss: 0.813 - ETA: 7s - loss: 0.812 - ETA: 7s - loss: 0.812 - ETA: 6s - loss: 0.811 - ETA: 6s - loss: 0.811 - ETA: 6s - loss: 0.810 - ETA: 6s - loss: 0.810 - ETA: 6s - loss: 0.809 - ETA: 5s - loss: 0.809 - ETA: 5s - loss: 0.809 - ETA: 5s - loss: 0.808 - ETA: 5s - loss: 0.808 - ETA: 5s - loss: 0.807 - ETA: 4s - loss: 0.807 - ETA: 4s - loss: 0.806 - ETA: 4s - loss: 0.806 - ETA: 4s - loss: 0.806 - ETA: 4s - loss: 0.805 - ETA: 3s - loss: 0.805 - ETA: 3s - loss: 0.804 - ETA: 3s - loss: 0.804 - ETA: 3s - loss: 0.804 - ETA: 3s - loss: 0.803 - ETA: 2s - loss: 0.803 - ETA: 2s - loss: 0.803 - ETA: 2s - loss: 0.802 - ETA: 2s - loss: 0.802 - ETA: 1s - loss: 0.801 - ETA: 1s - loss: 0.801 - ETA: 1s - loss: 0.801 - ETA: 1s - loss: 0.800 - ETA: 1s - loss: 0.800 - ETA: 0s - loss: 0.800 - ETA: 0s - loss: 0.799 - ETA: 0s - loss: 0.799 - ETA: 0s - loss: 0.798 - ETA: 0s - loss: 0.798 - 54s 6ms/step - loss: 0.7982 - val_loss: 0.7117\n",
      "Epoch 2/5\n"
     ]
    },
    {
     "name": "stdout",
     "output_type": "stream",
     "text": [
      "8540/8540 [==============================] - ETA: 51s - loss: 0.70 - ETA: 50s - loss: 0.70 - ETA: 50s - loss: 0.70 - ETA: 51s - loss: 0.70 - ETA: 52s - loss: 0.70 - ETA: 51s - loss: 0.70 - ETA: 51s - loss: 0.70 - ETA: 51s - loss: 0.70 - ETA: 50s - loss: 0.70 - ETA: 50s - loss: 0.70 - ETA: 50s - loss: 0.70 - ETA: 50s - loss: 0.70 - ETA: 49s - loss: 0.70 - ETA: 49s - loss: 0.70 - ETA: 49s - loss: 0.70 - ETA: 49s - loss: 0.70 - ETA: 49s - loss: 0.70 - ETA: 48s - loss: 0.70 - ETA: 48s - loss: 0.70 - ETA: 48s - loss: 0.70 - ETA: 48s - loss: 0.70 - ETA: 48s - loss: 0.70 - ETA: 47s - loss: 0.70 - ETA: 47s - loss: 0.70 - ETA: 47s - loss: 0.70 - ETA: 47s - loss: 0.70 - ETA: 47s - loss: 0.70 - ETA: 46s - loss: 0.70 - ETA: 46s - loss: 0.70 - ETA: 46s - loss: 0.70 - ETA: 46s - loss: 0.70 - ETA: 46s - loss: 0.70 - ETA: 45s - loss: 0.70 - ETA: 45s - loss: 0.70 - ETA: 45s - loss: 0.70 - ETA: 45s - loss: 0.70 - ETA: 45s - loss: 0.70 - ETA: 44s - loss: 0.70 - ETA: 44s - loss: 0.70 - ETA: 44s - loss: 0.70 - ETA: 44s - loss: 0.70 - ETA: 44s - loss: 0.70 - ETA: 43s - loss: 0.70 - ETA: 43s - loss: 0.70 - ETA: 43s - loss: 0.70 - ETA: 43s - loss: 0.70 - ETA: 43s - loss: 0.70 - ETA: 42s - loss: 0.70 - ETA: 42s - loss: 0.70 - ETA: 42s - loss: 0.70 - ETA: 42s - loss: 0.70 - ETA: 42s - loss: 0.70 - ETA: 41s - loss: 0.70 - ETA: 41s - loss: 0.70 - ETA: 41s - loss: 0.70 - ETA: 41s - loss: 0.70 - ETA: 41s - loss: 0.70 - ETA: 40s - loss: 0.70 - ETA: 40s - loss: 0.70 - ETA: 40s - loss: 0.70 - ETA: 40s - loss: 0.70 - ETA: 40s - loss: 0.70 - ETA: 39s - loss: 0.70 - ETA: 39s - loss: 0.70 - ETA: 39s - loss: 0.70 - ETA: 39s - loss: 0.70 - ETA: 39s - loss: 0.70 - ETA: 39s - loss: 0.70 - ETA: 38s - loss: 0.70 - ETA: 38s - loss: 0.70 - ETA: 38s - loss: 0.70 - ETA: 38s - loss: 0.70 - ETA: 38s - loss: 0.70 - ETA: 37s - loss: 0.70 - ETA: 37s - loss: 0.70 - ETA: 37s - loss: 0.70 - ETA: 37s - loss: 0.70 - ETA: 37s - loss: 0.70 - ETA: 36s - loss: 0.70 - ETA: 36s - loss: 0.70 - ETA: 36s - loss: 0.70 - ETA: 36s - loss: 0.70 - ETA: 36s - loss: 0.70 - ETA: 35s - loss: 0.70 - ETA: 35s - loss: 0.70 - ETA: 35s - loss: 0.70 - ETA: 35s - loss: 0.70 - ETA: 35s - loss: 0.70 - ETA: 34s - loss: 0.70 - ETA: 34s - loss: 0.70 - ETA: 34s - loss: 0.70 - ETA: 34s - loss: 0.70 - ETA: 34s - loss: 0.70 - ETA: 33s - loss: 0.70 - ETA: 33s - loss: 0.70 - ETA: 33s - loss: 0.70 - ETA: 33s - loss: 0.70 - ETA: 33s - loss: 0.70 - ETA: 32s - loss: 0.70 - ETA: 32s - loss: 0.70 - ETA: 32s - loss: 0.70 - ETA: 32s - loss: 0.70 - ETA: 32s - loss: 0.70 - ETA: 32s - loss: 0.70 - ETA: 31s - loss: 0.70 - ETA: 31s - loss: 0.70 - ETA: 31s - loss: 0.70 - ETA: 31s - loss: 0.70 - ETA: 31s - loss: 0.70 - ETA: 30s - loss: 0.70 - ETA: 30s - loss: 0.70 - ETA: 30s - loss: 0.70 - ETA: 30s - loss: 0.70 - ETA: 30s - loss: 0.70 - ETA: 29s - loss: 0.70 - ETA: 29s - loss: 0.69 - ETA: 29s - loss: 0.69 - ETA: 29s - loss: 0.69 - ETA: 29s - loss: 0.69 - ETA: 28s - loss: 0.69 - ETA: 28s - loss: 0.69 - ETA: 28s - loss: 0.69 - ETA: 28s - loss: 0.69 - ETA: 28s - loss: 0.69 - ETA: 27s - loss: 0.69 - ETA: 27s - loss: 0.69 - ETA: 27s - loss: 0.69 - ETA: 27s - loss: 0.69 - ETA: 27s - loss: 0.69 - ETA: 26s - loss: 0.69 - ETA: 26s - loss: 0.69 - ETA: 26s - loss: 0.69 - ETA: 26s - loss: 0.69 - ETA: 26s - loss: 0.69 - ETA: 25s - loss: 0.69 - ETA: 25s - loss: 0.69 - ETA: 25s - loss: 0.69 - ETA: 25s - loss: 0.69 - ETA: 25s - loss: 0.69 - ETA: 24s - loss: 0.69 - ETA: 24s - loss: 0.69 - ETA: 24s - loss: 0.69 - ETA: 24s - loss: 0.69 - ETA: 24s - loss: 0.69 - ETA: 23s - loss: 0.69 - ETA: 23s - loss: 0.69 - ETA: 23s - loss: 0.69 - ETA: 23s - loss: 0.69 - ETA: 23s - loss: 0.69 - ETA: 22s - loss: 0.69 - ETA: 22s - loss: 0.69 - ETA: 22s - loss: 0.69 - ETA: 22s - loss: 0.69 - ETA: 22s - loss: 0.69 - ETA: 21s - loss: 0.69 - ETA: 21s - loss: 0.69 - ETA: 21s - loss: 0.69 - ETA: 21s - loss: 0.69 - ETA: 21s - loss: 0.69 - ETA: 20s - loss: 0.69 - ETA: 20s - loss: 0.69 - ETA: 20s - loss: 0.69 - ETA: 20s - loss: 0.69 - ETA: 20s - loss: 0.69 - ETA: 19s - loss: 0.69 - ETA: 19s - loss: 0.69 - ETA: 19s - loss: 0.69 - ETA: 19s - loss: 0.69 - ETA: 19s - loss: 0.69 - ETA: 19s - loss: 0.69 - ETA: 18s - loss: 0.69 - ETA: 18s - loss: 0.69 - ETA: 18s - loss: 0.69 - ETA: 18s - loss: 0.69 - ETA: 18s - loss: 0.69 - ETA: 17s - loss: 0.69 - ETA: 17s - loss: 0.69 - ETA: 17s - loss: 0.69 - ETA: 17s - loss: 0.69 - ETA: 17s - loss: 0.69 - ETA: 16s - loss: 0.69 - ETA: 16s - loss: 0.69 - ETA: 16s - loss: 0.69 - ETA: 16s - loss: 0.69 - ETA: 16s - loss: 0.69 - ETA: 15s - loss: 0.69 - ETA: 15s - loss: 0.69 - ETA: 15s - loss: 0.69 - ETA: 15s - loss: 0.69 - ETA: 15s - loss: 0.69 - ETA: 14s - loss: 0.69 - ETA: 14s - loss: 0.69 - ETA: 14s - loss: 0.69 - ETA: 14s - loss: 0.69 - ETA: 14s - loss: 0.69 - ETA: 13s - loss: 0.69 - ETA: 13s - loss: 0.69 - ETA: 13s - loss: 0.69 - ETA: 13s - loss: 0.69 - ETA: 13s - loss: 0.69 - ETA: 12s - loss: 0.69 - ETA: 12s - loss: 0.69 - ETA: 12s - loss: 0.69 - ETA: 12s - loss: 0.69 - ETA: 12s - loss: 0.69 - ETA: 11s - loss: 0.69 - ETA: 11s - loss: 0.69 - ETA: 11s - loss: 0.69 - ETA: 11s - loss: 0.69 - ETA: 11s - loss: 0.69 - ETA: 10s - loss: 0.69 - ETA: 10s - loss: 0.69 - ETA: 10s - loss: 0.69 - ETA: 10s - loss: 0.69 - ETA: 10s - loss: 0.69 - ETA: 9s - loss: 0.6982 - ETA: 9s - loss: 0.698 - ETA: 9s - loss: 0.698 - ETA: 9s - loss: 0.698 - ETA: 9s - loss: 0.698 - ETA: 8s - loss: 0.698 - ETA: 8s - loss: 0.698 - ETA: 8s - loss: 0.698 - ETA: 8s - loss: 0.698 - ETA: 8s - loss: 0.698 - ETA: 8s - loss: 0.698 - ETA: 7s - loss: 0.698 - ETA: 7s - loss: 0.698 - ETA: 7s - loss: 0.698 - ETA: 7s - loss: 0.698 - ETA: 7s - loss: 0.698 - ETA: 6s - loss: 0.698 - ETA: 6s - loss: 0.698 - ETA: 6s - loss: 0.698 - ETA: 6s - loss: 0.698 - ETA: 6s - loss: 0.698 - ETA: 5s - loss: 0.698 - ETA: 5s - loss: 0.697 - ETA: 5s - loss: 0.697 - ETA: 5s - loss: 0.697 - ETA: 5s - loss: 0.697 - ETA: 4s - loss: 0.697 - ETA: 4s - loss: 0.697 - ETA: 4s - loss: 0.697 - ETA: 4s - loss: 0.697 - ETA: 4s - loss: 0.697 - ETA: 3s - loss: 0.697 - ETA: 3s - loss: 0.697 - ETA: 3s - loss: 0.697 - ETA: 3s - loss: 0.697 - ETA: 3s - loss: 0.697 - ETA: 2s - loss: 0.697 - ETA: 2s - loss: 0.697 - ETA: 2s - loss: 0.697 - ETA: 2s - loss: 0.697 - ETA: 2s - loss: 0.697 - ETA: 1s - loss: 0.697 - ETA: 1s - loss: 0.697 - ETA: 1s - loss: 0.697 - ETA: 1s - loss: 0.697 - ETA: 1s - loss: 0.697 - ETA: 0s - loss: 0.697 - ETA: 0s - loss: 0.697 - ETA: 0s - loss: 0.697 - ETA: 0s - loss: 0.697 - ETA: 0s - loss: 0.697 - 52s 6ms/step - loss: 0.6976 - val_loss: 0.6969\n",
      "Epoch 3/5\n"
     ]
    },
    {
     "name": "stdout",
     "output_type": "stream",
     "text": [
      "8540/8540 [==============================] - ETA: 51s - loss: 0.69 - ETA: 52s - loss: 0.69 - ETA: 50s - loss: 0.69 - ETA: 51s - loss: 0.69 - ETA: 51s - loss: 0.69 - ETA: 51s - loss: 0.69 - ETA: 50s - loss: 0.69 - ETA: 50s - loss: 0.69 - ETA: 50s - loss: 0.69 - ETA: 50s - loss: 0.69 - ETA: 50s - loss: 0.69 - ETA: 50s - loss: 0.69 - ETA: 49s - loss: 0.69 - ETA: 49s - loss: 0.69 - ETA: 49s - loss: 0.69 - ETA: 49s - loss: 0.69 - ETA: 49s - loss: 0.69 - ETA: 48s - loss: 0.69 - ETA: 48s - loss: 0.69 - ETA: 48s - loss: 0.69 - ETA: 48s - loss: 0.69 - ETA: 48s - loss: 0.69 - ETA: 47s - loss: 0.69 - ETA: 47s - loss: 0.69 - ETA: 47s - loss: 0.69 - ETA: 47s - loss: 0.69 - ETA: 47s - loss: 0.69 - ETA: 47s - loss: 0.69 - ETA: 46s - loss: 0.69 - ETA: 46s - loss: 0.69 - ETA: 46s - loss: 0.69 - ETA: 46s - loss: 0.69 - ETA: 46s - loss: 0.69 - ETA: 45s - loss: 0.69 - ETA: 45s - loss: 0.69 - ETA: 45s - loss: 0.69 - ETA: 45s - loss: 0.69 - ETA: 45s - loss: 0.69 - ETA: 44s - loss: 0.69 - ETA: 44s - loss: 0.69 - ETA: 44s - loss: 0.69 - ETA: 44s - loss: 0.69 - ETA: 44s - loss: 0.69 - ETA: 43s - loss: 0.69 - ETA: 43s - loss: 0.69 - ETA: 43s - loss: 0.69 - ETA: 43s - loss: 0.69 - ETA: 43s - loss: 0.69 - ETA: 42s - loss: 0.69 - ETA: 42s - loss: 0.69 - ETA: 42s - loss: 0.69 - ETA: 42s - loss: 0.69 - ETA: 42s - loss: 0.69 - ETA: 41s - loss: 0.69 - ETA: 41s - loss: 0.69 - ETA: 41s - loss: 0.69 - ETA: 41s - loss: 0.69 - ETA: 41s - loss: 0.69 - ETA: 40s - loss: 0.69 - ETA: 40s - loss: 0.69 - ETA: 40s - loss: 0.69 - ETA: 40s - loss: 0.69 - ETA: 40s - loss: 0.69 - ETA: 39s - loss: 0.69 - ETA: 39s - loss: 0.69 - ETA: 39s - loss: 0.69 - ETA: 39s - loss: 0.69 - ETA: 39s - loss: 0.69 - ETA: 38s - loss: 0.69 - ETA: 38s - loss: 0.69 - ETA: 38s - loss: 0.69 - ETA: 38s - loss: 0.69 - ETA: 38s - loss: 0.69 - ETA: 37s - loss: 0.69 - ETA: 37s - loss: 0.69 - ETA: 37s - loss: 0.69 - ETA: 37s - loss: 0.69 - ETA: 37s - loss: 0.69 - ETA: 36s - loss: 0.69 - ETA: 36s - loss: 0.69 - ETA: 36s - loss: 0.69 - ETA: 36s - loss: 0.69 - ETA: 36s - loss: 0.69 - ETA: 35s - loss: 0.69 - ETA: 35s - loss: 0.69 - ETA: 35s - loss: 0.69 - ETA: 35s - loss: 0.69 - ETA: 35s - loss: 0.69 - ETA: 34s - loss: 0.69 - ETA: 34s - loss: 0.69 - ETA: 34s - loss: 0.69 - ETA: 34s - loss: 0.69 - ETA: 34s - loss: 0.69 - ETA: 33s - loss: 0.69 - ETA: 33s - loss: 0.69 - ETA: 33s - loss: 0.69 - ETA: 33s - loss: 0.69 - ETA: 33s - loss: 0.69 - ETA: 32s - loss: 0.69 - ETA: 32s - loss: 0.69 - ETA: 32s - loss: 0.69 - ETA: 32s - loss: 0.69 - ETA: 32s - loss: 0.69 - ETA: 31s - loss: 0.69 - ETA: 31s - loss: 0.69 - ETA: 31s - loss: 0.69 - ETA: 31s - loss: 0.69 - ETA: 31s - loss: 0.69 - ETA: 30s - loss: 0.69 - ETA: 30s - loss: 0.69 - ETA: 30s - loss: 0.69 - ETA: 30s - loss: 0.69 - ETA: 30s - loss: 0.69 - ETA: 29s - loss: 0.69 - ETA: 29s - loss: 0.69 - ETA: 29s - loss: 0.69 - ETA: 29s - loss: 0.69 - ETA: 29s - loss: 0.69 - ETA: 29s - loss: 0.69 - ETA: 28s - loss: 0.69 - ETA: 28s - loss: 0.69 - ETA: 28s - loss: 0.69 - ETA: 28s - loss: 0.69 - ETA: 28s - loss: 0.69 - ETA: 27s - loss: 0.69 - ETA: 27s - loss: 0.69 - ETA: 27s - loss: 0.69 - ETA: 27s - loss: 0.69 - ETA: 27s - loss: 0.69 - ETA: 26s - loss: 0.69 - ETA: 26s - loss: 0.69 - ETA: 26s - loss: 0.69 - ETA: 26s - loss: 0.69 - ETA: 26s - loss: 0.69 - ETA: 25s - loss: 0.69 - ETA: 25s - loss: 0.69 - ETA: 25s - loss: 0.69 - ETA: 25s - loss: 0.69 - ETA: 25s - loss: 0.69 - ETA: 24s - loss: 0.69 - ETA: 24s - loss: 0.69 - ETA: 24s - loss: 0.69 - ETA: 24s - loss: 0.69 - ETA: 24s - loss: 0.69 - ETA: 23s - loss: 0.69 - ETA: 23s - loss: 0.69 - ETA: 23s - loss: 0.69 - ETA: 23s - loss: 0.69 - ETA: 23s - loss: 0.69 - ETA: 22s - loss: 0.69 - ETA: 22s - loss: 0.69 - ETA: 22s - loss: 0.69 - ETA: 22s - loss: 0.69 - ETA: 22s - loss: 0.69 - ETA: 21s - loss: 0.69 - ETA: 21s - loss: 0.69 - ETA: 21s - loss: 0.69 - ETA: 21s - loss: 0.69 - ETA: 21s - loss: 0.69 - ETA: 20s - loss: 0.69 - ETA: 20s - loss: 0.69 - ETA: 20s - loss: 0.69 - ETA: 20s - loss: 0.69 - ETA: 20s - loss: 0.69 - ETA: 19s - loss: 0.69 - ETA: 19s - loss: 0.69 - ETA: 19s - loss: 0.69 - ETA: 19s - loss: 0.69 - ETA: 19s - loss: 0.69 - ETA: 18s - loss: 0.69 - ETA: 18s - loss: 0.69 - ETA: 18s - loss: 0.69 - ETA: 18s - loss: 0.69 - ETA: 18s - loss: 0.69 - ETA: 17s - loss: 0.69 - ETA: 17s - loss: 0.69 - ETA: 17s - loss: 0.69 - ETA: 17s - loss: 0.69 - ETA: 17s - loss: 0.69 - ETA: 16s - loss: 0.69 - ETA: 16s - loss: 0.69 - ETA: 16s - loss: 0.69 - ETA: 16s - loss: 0.69 - ETA: 16s - loss: 0.69 - ETA: 16s - loss: 0.69 - ETA: 15s - loss: 0.69 - ETA: 15s - loss: 0.69 - ETA: 15s - loss: 0.69 - ETA: 15s - loss: 0.69 - ETA: 15s - loss: 0.69 - ETA: 14s - loss: 0.69 - ETA: 14s - loss: 0.69 - ETA: 14s - loss: 0.69 - ETA: 14s - loss: 0.69 - ETA: 14s - loss: 0.69 - ETA: 13s - loss: 0.69 - ETA: 13s - loss: 0.69 - ETA: 13s - loss: 0.69 - ETA: 13s - loss: 0.69 - ETA: 13s - loss: 0.69 - ETA: 12s - loss: 0.69 - ETA: 12s - loss: 0.69 - ETA: 12s - loss: 0.69 - ETA: 12s - loss: 0.69 - ETA: 12s - loss: 0.69 - ETA: 11s - loss: 0.69 - ETA: 11s - loss: 0.69 - ETA: 11s - loss: 0.69 - ETA: 11s - loss: 0.69 - ETA: 11s - loss: 0.69 - ETA: 10s - loss: 0.69 - ETA: 10s - loss: 0.69 - ETA: 10s - loss: 0.69 - ETA: 10s - loss: 0.69 - ETA: 10s - loss: 0.69 - ETA: 9s - loss: 0.6943 - ETA: 9s - loss: 0.694 - ETA: 9s - loss: 0.694 - ETA: 9s - loss: 0.694 - ETA: 9s - loss: 0.694 - ETA: 8s - loss: 0.694 - ETA: 8s - loss: 0.694 - ETA: 8s - loss: 0.694 - ETA: 8s - loss: 0.694 - ETA: 8s - loss: 0.694 - ETA: 7s - loss: 0.694 - ETA: 7s - loss: 0.694 - ETA: 7s - loss: 0.694 - ETA: 7s - loss: 0.694 - ETA: 7s - loss: 0.694 - ETA: 7s - loss: 0.694 - ETA: 6s - loss: 0.694 - ETA: 6s - loss: 0.694 - ETA: 6s - loss: 0.694 - ETA: 6s - loss: 0.694 - ETA: 6s - loss: 0.694 - ETA: 5s - loss: 0.694 - ETA: 5s - loss: 0.694 - ETA: 5s - loss: 0.694 - ETA: 5s - loss: 0.694 - ETA: 5s - loss: 0.694 - ETA: 4s - loss: 0.694 - ETA: 4s - loss: 0.694 - ETA: 4s - loss: 0.694 - ETA: 4s - loss: 0.694 - ETA: 4s - loss: 0.694 - ETA: 3s - loss: 0.694 - ETA: 3s - loss: 0.694 - ETA: 3s - loss: 0.694 - ETA: 3s - loss: 0.694 - ETA: 3s - loss: 0.694 - ETA: 2s - loss: 0.694 - ETA: 2s - loss: 0.694 - ETA: 2s - loss: 0.694 - ETA: 2s - loss: 0.694 - ETA: 2s - loss: 0.694 - ETA: 1s - loss: 0.694 - ETA: 1s - loss: 0.694 - ETA: 1s - loss: 0.694 - ETA: 1s - loss: 0.694 - ETA: 1s - loss: 0.694 - ETA: 0s - loss: 0.694 - ETA: 0s - loss: 0.694 - ETA: 0s - loss: 0.694 - ETA: 0s - loss: 0.694 - ETA: 0s - loss: 0.694 - 52s 6ms/step - loss: 0.6942 - val_loss: 0.6946\n",
      "Epoch 4/5\n"
     ]
    },
    {
     "name": "stdout",
     "output_type": "stream",
     "text": [
      "8540/8540 [==============================] - ETA: 48s - loss: 0.69 - ETA: 50s - loss: 0.69 - ETA: 51s - loss: 0.69 - ETA: 51s - loss: 0.69 - ETA: 51s - loss: 0.69 - ETA: 50s - loss: 0.69 - ETA: 50s - loss: 0.69 - ETA: 50s - loss: 0.69 - ETA: 50s - loss: 0.69 - ETA: 50s - loss: 0.69 - ETA: 49s - loss: 0.69 - ETA: 49s - loss: 0.69 - ETA: 49s - loss: 0.69 - ETA: 49s - loss: 0.69 - ETA: 49s - loss: 0.69 - ETA: 49s - loss: 0.69 - ETA: 49s - loss: 0.69 - ETA: 48s - loss: 0.69 - ETA: 48s - loss: 0.69 - ETA: 48s - loss: 0.69 - ETA: 48s - loss: 0.69 - ETA: 48s - loss: 0.69 - ETA: 47s - loss: 0.69 - ETA: 47s - loss: 0.69 - ETA: 47s - loss: 0.69 - ETA: 47s - loss: 0.69 - ETA: 47s - loss: 0.69 - ETA: 46s - loss: 0.69 - ETA: 46s - loss: 0.69 - ETA: 46s - loss: 0.69 - ETA: 46s - loss: 0.69 - ETA: 46s - loss: 0.69 - ETA: 45s - loss: 0.69 - ETA: 45s - loss: 0.69 - ETA: 45s - loss: 0.69 - ETA: 45s - loss: 0.69 - ETA: 45s - loss: 0.69 - ETA: 45s - loss: 0.69 - ETA: 44s - loss: 0.69 - ETA: 44s - loss: 0.69 - ETA: 44s - loss: 0.69 - ETA: 44s - loss: 0.69 - ETA: 44s - loss: 0.69 - ETA: 43s - loss: 0.69 - ETA: 43s - loss: 0.69 - ETA: 43s - loss: 0.69 - ETA: 43s - loss: 0.69 - ETA: 43s - loss: 0.69 - ETA: 42s - loss: 0.69 - ETA: 42s - loss: 0.69 - ETA: 42s - loss: 0.69 - ETA: 42s - loss: 0.69 - ETA: 42s - loss: 0.69 - ETA: 41s - loss: 0.69 - ETA: 41s - loss: 0.69 - ETA: 41s - loss: 0.69 - ETA: 41s - loss: 0.69 - ETA: 41s - loss: 0.69 - ETA: 40s - loss: 0.69 - ETA: 40s - loss: 0.69 - ETA: 40s - loss: 0.69 - ETA: 40s - loss: 0.69 - ETA: 40s - loss: 0.69 - ETA: 39s - loss: 0.69 - ETA: 39s - loss: 0.69 - ETA: 39s - loss: 0.69 - ETA: 39s - loss: 0.69 - ETA: 39s - loss: 0.69 - ETA: 38s - loss: 0.69 - ETA: 38s - loss: 0.69 - ETA: 38s - loss: 0.69 - ETA: 38s - loss: 0.69 - ETA: 38s - loss: 0.69 - ETA: 37s - loss: 0.69 - ETA: 37s - loss: 0.69 - ETA: 37s - loss: 0.69 - ETA: 37s - loss: 0.69 - ETA: 37s - loss: 0.69 - ETA: 36s - loss: 0.69 - ETA: 36s - loss: 0.69 - ETA: 36s - loss: 0.69 - ETA: 36s - loss: 0.69 - ETA: 36s - loss: 0.69 - ETA: 35s - loss: 0.69 - ETA: 35s - loss: 0.69 - ETA: 35s - loss: 0.69 - ETA: 35s - loss: 0.69 - ETA: 35s - loss: 0.69 - ETA: 34s - loss: 0.69 - ETA: 34s - loss: 0.69 - ETA: 34s - loss: 0.69 - ETA: 34s - loss: 0.69 - ETA: 34s - loss: 0.69 - ETA: 33s - loss: 0.69 - ETA: 33s - loss: 0.69 - ETA: 33s - loss: 0.69 - ETA: 33s - loss: 0.69 - ETA: 33s - loss: 0.69 - ETA: 32s - loss: 0.69 - ETA: 32s - loss: 0.69 - ETA: 32s - loss: 0.69 - ETA: 32s - loss: 0.69 - ETA: 32s - loss: 0.69 - ETA: 31s - loss: 0.69 - ETA: 31s - loss: 0.69 - ETA: 31s - loss: 0.69 - ETA: 31s - loss: 0.69 - ETA: 31s - loss: 0.69 - ETA: 30s - loss: 0.69 - ETA: 30s - loss: 0.69 - ETA: 30s - loss: 0.69 - ETA: 30s - loss: 0.69 - ETA: 30s - loss: 0.69 - ETA: 29s - loss: 0.69 - ETA: 29s - loss: 0.69 - ETA: 29s - loss: 0.69 - ETA: 29s - loss: 0.69 - ETA: 29s - loss: 0.69 - ETA: 28s - loss: 0.69 - ETA: 28s - loss: 0.69 - ETA: 28s - loss: 0.69 - ETA: 28s - loss: 0.69 - ETA: 28s - loss: 0.69 - ETA: 28s - loss: 0.69 - ETA: 27s - loss: 0.69 - ETA: 27s - loss: 0.69 - ETA: 27s - loss: 0.69 - ETA: 27s - loss: 0.69 - ETA: 27s - loss: 0.69 - ETA: 26s - loss: 0.69 - ETA: 26s - loss: 0.69 - ETA: 26s - loss: 0.69 - ETA: 26s - loss: 0.69 - ETA: 26s - loss: 0.69 - ETA: 25s - loss: 0.69 - ETA: 25s - loss: 0.69 - ETA: 25s - loss: 0.69 - ETA: 25s - loss: 0.69 - ETA: 25s - loss: 0.69 - ETA: 24s - loss: 0.69 - ETA: 24s - loss: 0.69 - ETA: 24s - loss: 0.69 - ETA: 24s - loss: 0.69 - ETA: 24s - loss: 0.69 - ETA: 23s - loss: 0.69 - ETA: 23s - loss: 0.69 - ETA: 23s - loss: 0.69 - ETA: 23s - loss: 0.69 - ETA: 23s - loss: 0.69 - ETA: 22s - loss: 0.69 - ETA: 22s - loss: 0.69 - ETA: 22s - loss: 0.69 - ETA: 22s - loss: 0.69 - ETA: 22s - loss: 0.69 - ETA: 21s - loss: 0.69 - ETA: 21s - loss: 0.69 - ETA: 21s - loss: 0.69 - ETA: 21s - loss: 0.69 - ETA: 21s - loss: 0.69 - ETA: 20s - loss: 0.69 - ETA: 20s - loss: 0.69 - ETA: 20s - loss: 0.69 - ETA: 20s - loss: 0.69 - ETA: 20s - loss: 0.69 - ETA: 19s - loss: 0.69 - ETA: 19s - loss: 0.69 - ETA: 19s - loss: 0.69 - ETA: 19s - loss: 0.69 - ETA: 19s - loss: 0.69 - ETA: 19s - loss: 0.69 - ETA: 18s - loss: 0.69 - ETA: 18s - loss: 0.69 - ETA: 18s - loss: 0.69 - ETA: 18s - loss: 0.69 - ETA: 18s - loss: 0.69 - ETA: 17s - loss: 0.69 - ETA: 17s - loss: 0.69 - ETA: 17s - loss: 0.69 - ETA: 17s - loss: 0.69 - ETA: 17s - loss: 0.69 - ETA: 16s - loss: 0.69 - ETA: 16s - loss: 0.69 - ETA: 16s - loss: 0.69 - ETA: 16s - loss: 0.69 - ETA: 16s - loss: 0.69 - ETA: 15s - loss: 0.69 - ETA: 15s - loss: 0.69 - ETA: 15s - loss: 0.69 - ETA: 15s - loss: 0.69 - ETA: 15s - loss: 0.69 - ETA: 14s - loss: 0.69 - ETA: 14s - loss: 0.69 - ETA: 14s - loss: 0.69 - ETA: 14s - loss: 0.69 - ETA: 14s - loss: 0.69 - ETA: 13s - loss: 0.69 - ETA: 13s - loss: 0.69 - ETA: 13s - loss: 0.69 - ETA: 13s - loss: 0.69 - ETA: 13s - loss: 0.69 - ETA: 12s - loss: 0.69 - ETA: 12s - loss: 0.69 - ETA: 12s - loss: 0.69 - ETA: 12s - loss: 0.69 - ETA: 12s - loss: 0.69 - ETA: 11s - loss: 0.69 - ETA: 11s - loss: 0.69 - ETA: 11s - loss: 0.69 - ETA: 11s - loss: 0.69 - ETA: 11s - loss: 0.69 - ETA: 10s - loss: 0.69 - ETA: 10s - loss: 0.69 - ETA: 10s - loss: 0.69 - ETA: 10s - loss: 0.69 - ETA: 10s - loss: 0.69 - ETA: 9s - loss: 0.6936 - ETA: 9s - loss: 0.693 - ETA: 9s - loss: 0.693 - ETA: 9s - loss: 0.693 - ETA: 9s - loss: 0.693 - ETA: 9s - loss: 0.693 - ETA: 8s - loss: 0.693 - ETA: 8s - loss: 0.693 - ETA: 8s - loss: 0.693 - ETA: 8s - loss: 0.693 - ETA: 8s - loss: 0.693 - ETA: 7s - loss: 0.693 - ETA: 7s - loss: 0.693 - ETA: 7s - loss: 0.693 - ETA: 7s - loss: 0.693 - ETA: 7s - loss: 0.693 - ETA: 6s - loss: 0.693 - ETA: 6s - loss: 0.693 - ETA: 6s - loss: 0.693 - ETA: 6s - loss: 0.693 - ETA: 6s - loss: 0.693 - ETA: 5s - loss: 0.693 - ETA: 5s - loss: 0.693 - ETA: 5s - loss: 0.693 - ETA: 5s - loss: 0.693 - ETA: 5s - loss: 0.693 - ETA: 4s - loss: 0.693 - ETA: 4s - loss: 0.693 - ETA: 4s - loss: 0.693 - ETA: 4s - loss: 0.693 - ETA: 4s - loss: 0.693 - ETA: 3s - loss: 0.693 - ETA: 3s - loss: 0.693 - ETA: 3s - loss: 0.693 - ETA: 3s - loss: 0.693 - ETA: 3s - loss: 0.693 - ETA: 2s - loss: 0.693 - ETA: 2s - loss: 0.693 - ETA: 2s - loss: 0.693 - ETA: 2s - loss: 0.693 - ETA: 2s - loss: 0.693 - ETA: 1s - loss: 0.693 - ETA: 1s - loss: 0.693 - ETA: 1s - loss: 0.693 - ETA: 1s - loss: 0.693 - ETA: 1s - loss: 0.693 - ETA: 0s - loss: 0.693 - ETA: 0s - loss: 0.693 - ETA: 0s - loss: 0.693 - ETA: 0s - loss: 0.693 - ETA: 0s - loss: 0.693 - 53s 6ms/step - loss: 0.6936 - val_loss: 0.6939\n",
      "Epoch 5/5\n"
     ]
    },
    {
     "name": "stdout",
     "output_type": "stream",
     "text": [
      "8540/8540 [==============================] - ETA: 51s - loss: 0.69 - ETA: 52s - loss: 0.69 - ETA: 52s - loss: 0.69 - ETA: 50s - loss: 0.69 - ETA: 51s - loss: 0.69 - ETA: 51s - loss: 0.69 - ETA: 51s - loss: 0.69 - ETA: 50s - loss: 0.69 - ETA: 50s - loss: 0.69 - ETA: 50s - loss: 0.69 - ETA: 50s - loss: 0.69 - ETA: 49s - loss: 0.69 - ETA: 49s - loss: 0.69 - ETA: 49s - loss: 0.69 - ETA: 49s - loss: 0.69 - ETA: 49s - loss: 0.69 - ETA: 49s - loss: 0.69 - ETA: 48s - loss: 0.69 - ETA: 48s - loss: 0.69 - ETA: 48s - loss: 0.69 - ETA: 48s - loss: 0.69 - ETA: 48s - loss: 0.69 - ETA: 48s - loss: 0.69 - ETA: 47s - loss: 0.69 - ETA: 47s - loss: 0.69 - ETA: 47s - loss: 0.69 - ETA: 47s - loss: 0.69 - ETA: 46s - loss: 0.69 - ETA: 46s - loss: 0.69 - ETA: 46s - loss: 0.69 - ETA: 46s - loss: 0.69 - ETA: 46s - loss: 0.69 - ETA: 45s - loss: 0.69 - ETA: 45s - loss: 0.69 - ETA: 45s - loss: 0.69 - ETA: 45s - loss: 0.69 - ETA: 44s - loss: 0.69 - ETA: 44s - loss: 0.69 - ETA: 44s - loss: 0.69 - ETA: 44s - loss: 0.69 - ETA: 44s - loss: 0.69 - ETA: 44s - loss: 0.69 - ETA: 43s - loss: 0.69 - ETA: 43s - loss: 0.69 - ETA: 43s - loss: 0.69 - ETA: 43s - loss: 0.69 - ETA: 43s - loss: 0.69 - ETA: 42s - loss: 0.69 - ETA: 42s - loss: 0.69 - ETA: 42s - loss: 0.69 - ETA: 42s - loss: 0.69 - ETA: 42s - loss: 0.69 - ETA: 41s - loss: 0.69 - ETA: 41s - loss: 0.69 - ETA: 41s - loss: 0.69 - ETA: 41s - loss: 0.69 - ETA: 41s - loss: 0.69 - ETA: 41s - loss: 0.69 - ETA: 40s - loss: 0.69 - ETA: 40s - loss: 0.69 - ETA: 40s - loss: 0.69 - ETA: 40s - loss: 0.69 - ETA: 40s - loss: 0.69 - ETA: 39s - loss: 0.69 - ETA: 39s - loss: 0.69 - ETA: 39s - loss: 0.69 - ETA: 39s - loss: 0.69 - ETA: 39s - loss: 0.69 - ETA: 38s - loss: 0.69 - ETA: 38s - loss: 0.69 - ETA: 38s - loss: 0.69 - ETA: 38s - loss: 0.69 - ETA: 38s - loss: 0.69 - ETA: 37s - loss: 0.69 - ETA: 37s - loss: 0.69 - ETA: 37s - loss: 0.69 - ETA: 37s - loss: 0.69 - ETA: 37s - loss: 0.69 - ETA: 36s - loss: 0.69 - ETA: 36s - loss: 0.69 - ETA: 36s - loss: 0.69 - ETA: 36s - loss: 0.69 - ETA: 36s - loss: 0.69 - ETA: 35s - loss: 0.69 - ETA: 35s - loss: 0.69 - ETA: 35s - loss: 0.69 - ETA: 35s - loss: 0.69 - ETA: 35s - loss: 0.69 - ETA: 34s - loss: 0.69 - ETA: 34s - loss: 0.69 - ETA: 34s - loss: 0.69 - ETA: 34s - loss: 0.69 - ETA: 34s - loss: 0.69 - ETA: 33s - loss: 0.69 - ETA: 33s - loss: 0.69 - ETA: 33s - loss: 0.69 - ETA: 33s - loss: 0.69 - ETA: 33s - loss: 0.69 - ETA: 32s - loss: 0.69 - ETA: 32s - loss: 0.69 - ETA: 32s - loss: 0.69 - ETA: 32s - loss: 0.69 - ETA: 32s - loss: 0.69 - ETA: 31s - loss: 0.69 - ETA: 31s - loss: 0.69 - ETA: 31s - loss: 0.69 - ETA: 31s - loss: 0.69 - ETA: 31s - loss: 0.69 - ETA: 30s - loss: 0.69 - ETA: 30s - loss: 0.69 - ETA: 30s - loss: 0.69 - ETA: 30s - loss: 0.69 - ETA: 30s - loss: 0.69 - ETA: 29s - loss: 0.69 - ETA: 29s - loss: 0.69 - ETA: 29s - loss: 0.69 - ETA: 29s - loss: 0.69 - ETA: 29s - loss: 0.69 - ETA: 28s - loss: 0.69 - ETA: 28s - loss: 0.69 - ETA: 28s - loss: 0.69 - ETA: 28s - loss: 0.69 - ETA: 28s - loss: 0.69 - ETA: 27s - loss: 0.69 - ETA: 27s - loss: 0.69 - ETA: 27s - loss: 0.69 - ETA: 27s - loss: 0.69 - ETA: 27s - loss: 0.69 - ETA: 26s - loss: 0.69 - ETA: 26s - loss: 0.69 - ETA: 26s - loss: 0.69 - ETA: 26s - loss: 0.69 - ETA: 26s - loss: 0.69 - ETA: 25s - loss: 0.69 - ETA: 25s - loss: 0.69 - ETA: 25s - loss: 0.69 - ETA: 25s - loss: 0.69 - ETA: 25s - loss: 0.69 - ETA: 25s - loss: 0.69 - ETA: 24s - loss: 0.69 - ETA: 24s - loss: 0.69 - ETA: 24s - loss: 0.69 - ETA: 24s - loss: 0.69 - ETA: 24s - loss: 0.69 - ETA: 23s - loss: 0.69 - ETA: 23s - loss: 0.69 - ETA: 23s - loss: 0.69 - ETA: 23s - loss: 0.69 - ETA: 23s - loss: 0.69 - ETA: 22s - loss: 0.69 - ETA: 22s - loss: 0.69 - ETA: 22s - loss: 0.69 - ETA: 22s - loss: 0.69 - ETA: 22s - loss: 0.69 - ETA: 21s - loss: 0.69 - ETA: 21s - loss: 0.69 - ETA: 21s - loss: 0.69 - ETA: 21s - loss: 0.69 - ETA: 21s - loss: 0.69 - ETA: 20s - loss: 0.69 - ETA: 20s - loss: 0.69 - ETA: 20s - loss: 0.69 - ETA: 20s - loss: 0.69 - ETA: 20s - loss: 0.69 - ETA: 19s - loss: 0.69 - ETA: 19s - loss: 0.69 - ETA: 19s - loss: 0.69 - ETA: 19s - loss: 0.69 - ETA: 19s - loss: 0.69 - ETA: 18s - loss: 0.69 - ETA: 18s - loss: 0.69 - ETA: 18s - loss: 0.69 - ETA: 18s - loss: 0.69 - ETA: 18s - loss: 0.69 - ETA: 17s - loss: 0.69 - ETA: 17s - loss: 0.69 - ETA: 17s - loss: 0.69 - ETA: 17s - loss: 0.69 - ETA: 17s - loss: 0.69 - ETA: 16s - loss: 0.69 - ETA: 16s - loss: 0.69 - ETA: 16s - loss: 0.69 - ETA: 16s - loss: 0.69 - ETA: 16s - loss: 0.69 - ETA: 15s - loss: 0.69 - ETA: 15s - loss: 0.69 - ETA: 15s - loss: 0.69 - ETA: 15s - loss: 0.69 - ETA: 15s - loss: 0.69 - ETA: 15s - loss: 0.69 - ETA: 14s - loss: 0.69 - ETA: 14s - loss: 0.69 - ETA: 14s - loss: 0.69 - ETA: 14s - loss: 0.69 - ETA: 14s - loss: 0.69 - ETA: 13s - loss: 0.69 - ETA: 13s - loss: 0.69 - ETA: 13s - loss: 0.69 - ETA: 13s - loss: 0.69 - ETA: 13s - loss: 0.69 - ETA: 12s - loss: 0.69 - ETA: 12s - loss: 0.69 - ETA: 12s - loss: 0.69 - ETA: 12s - loss: 0.69 - ETA: 12s - loss: 0.69 - ETA: 11s - loss: 0.69 - ETA: 11s - loss: 0.69 - ETA: 11s - loss: 0.69 - ETA: 11s - loss: 0.69 - ETA: 11s - loss: 0.69 - ETA: 10s - loss: 0.69 - ETA: 10s - loss: 0.69 - ETA: 10s - loss: 0.69 - ETA: 10s - loss: 0.69 - ETA: 10s - loss: 0.69 - ETA: 9s - loss: 0.6934 - ETA: 9s - loss: 0.693 - ETA: 9s - loss: 0.693 - ETA: 9s - loss: 0.693 - ETA: 9s - loss: 0.693 - ETA: 8s - loss: 0.693 - ETA: 8s - loss: 0.693 - ETA: 8s - loss: 0.693 - ETA: 8s - loss: 0.693 - ETA: 8s - loss: 0.693 - ETA: 7s - loss: 0.693 - ETA: 7s - loss: 0.693 - ETA: 7s - loss: 0.693 - ETA: 7s - loss: 0.693 - ETA: 7s - loss: 0.693 - ETA: 7s - loss: 0.693 - ETA: 6s - loss: 0.693 - ETA: 6s - loss: 0.693 - ETA: 6s - loss: 0.693 - ETA: 6s - loss: 0.693 - ETA: 6s - loss: 0.693 - ETA: 5s - loss: 0.693 - ETA: 5s - loss: 0.693 - ETA: 5s - loss: 0.693 - ETA: 5s - loss: 0.693 - ETA: 5s - loss: 0.693 - ETA: 4s - loss: 0.693 - ETA: 4s - loss: 0.693 - ETA: 4s - loss: 0.693 - ETA: 4s - loss: 0.693 - ETA: 4s - loss: 0.693 - ETA: 3s - loss: 0.693 - ETA: 3s - loss: 0.693 - ETA: 3s - loss: 0.693 - ETA: 3s - loss: 0.693 - ETA: 3s - loss: 0.693 - ETA: 2s - loss: 0.693 - ETA: 2s - loss: 0.693 - ETA: 2s - loss: 0.693 - ETA: 2s - loss: 0.693 - ETA: 2s - loss: 0.693 - ETA: 1s - loss: 0.693 - ETA: 1s - loss: 0.693 - ETA: 1s - loss: 0.693 - ETA: 1s - loss: 0.693 - ETA: 1s - loss: 0.693 - ETA: 0s - loss: 0.693 - ETA: 0s - loss: 0.693 - ETA: 0s - loss: 0.693 - ETA: 0s - loss: 0.693 - ETA: 0s - loss: 0.693 - 52s 6ms/step - loss: 0.6933 - val_loss: 0.6935\n"
     ]
    }
   ],
   "source": [
    "filter_length = 300\n",
    "\n",
    "\n",
    "# model = Sequential()\n",
    "# model.add(Embedding(6119, 71, input_length=1200))\n",
    "# model.add(Dropout(0.1))\n",
    "# model.add(Conv1D(filter_length, 3, padding='valid', activation='relu', strides=1))\n",
    "# model.add(GlobalMaxPool1D())\n",
    "# model.add(Dense(82))\n",
    "checkpoint = ModelCheckpoint(filepath, monitor='val_f1micro', verbose=0, save_best_only=True, mode='max')\n",
    "model = Sequential()\n",
    "# model.add(Embedding(max_words, 20, input_length=maxlen))\n",
    "model.add(Embedding(vocab_size, output_dim=50, input_length=1200))\n",
    "model.add(Dropout(0.15))\n",
    "model.add(GlobalMaxPool1D())\n",
    "model.add(Dense(71, activation='sigmoid'))\n",
    "\n",
    "# model.summary()\n",
    "\n",
    "\n",
    "model.add(Activation('sigmoid'))\n",
    "\n",
    "model.compile(optimizer='adam', loss='binary_crossentropy')\n",
    "model.summary()\n",
    "\n",
    "# callbacks = [\n",
    "#     ReduceLROnPlateau(),\n",
    "#     EarlyStopping(patience=4),\n",
    "#     ModelCheckpoint(filepath='model-2.h5', save_best_only=True)\n",
    "# ]\n",
    "history = model.fit(padded_docs_train, y_train,\n",
    "                    class_weight='balanced',\n",
    "                    epochs=5,\n",
    "                    batch_size=32,\n",
    "                    validation_split=0.1,\n",
    "                    callbacks=[])"
   ]
  },
  {
   "cell_type": "code",
   "execution_count": 69,
   "metadata": {},
   "outputs": [],
   "source": [
    "# callbacks = [\n",
    "#     ReduceLROnPlateau(),\n",
    "#     EarlyStopping(patience=4),\n",
    "#     ModelCheckpoint(filepath='model-3.h5', save_best_only=True)\n",
    "# ]\n",
    "# history = model.fit(padded_docs_train, y_train,\n",
    "#                     class_weight='balanced',\n",
    "#                     epochs=5,\n",
    "#                     batch_size=32,\n",
    "#                     validation_split=0.1,\n",
    "#                     callbacks=callbacks)"
   ]
  },
  {
   "cell_type": "code",
   "execution_count": null,
   "metadata": {},
   "outputs": [],
   "source": []
  },
  {
   "cell_type": "code",
   "execution_count": 73,
   "metadata": {},
   "outputs": [
    {
     "name": "stdout",
     "output_type": "stream",
     "text": [
      "_________________________________________________________________\n",
      "Layer (type)                 Output Shape              Param #   \n",
      "=================================================================\n",
      "embedding_11 (Embedding)     (None, 1200, 71)          7013522   \n",
      "_________________________________________________________________\n",
      "dropout_11 (Dropout)         (None, 1200, 71)          0         \n",
      "_________________________________________________________________\n",
      "conv1d_4 (Conv1D)            (None, 1198, 300)         64200     \n",
      "_________________________________________________________________\n",
      "global_max_pooling1d_9 (Glob (None, 300)               0         \n",
      "_________________________________________________________________\n",
      "dense_9 (Dense)              (None, 71)                21371     \n",
      "_________________________________________________________________\n",
      "activation_5 (Activation)    (None, 71)                0         \n",
      "=================================================================\n",
      "Total params: 7,099,093\n",
      "Trainable params: 7,099,093\n",
      "Non-trainable params: 0\n",
      "_________________________________________________________________\n"
     ]
    }
   ],
   "source": [
    "# filter_length = 300\n",
    "checkpoint = ModelCheckpoint(filepath, monitor='val_f1micro', verbose=0, save_best_only=True, mode='max')\n",
    "model = Sequential()\n",
    "model.add(Embedding(vocab_size, 71, input_length=1200))\n",
    "model.add(Dropout(0.5))\n",
    "model.add(Conv1D(300, 3, activation='relu'))\n",
    "model.add(GlobalMaxPool1D())\n",
    "# model.add(Conv1D(200, 3, activation='relu'))\n",
    "# model.add(GlobalMaxPool1D())\n",
    "model.add(Dense(71))\n",
    "model.add(Activation('sigmoid'))\n",
    "\n",
    "model.compile(optimizer='adam', loss='binary_crossentropy')\n",
    "model.summary()"
   ]
  },
  {
   "cell_type": "code",
   "execution_count": 74,
   "metadata": {},
   "outputs": [
    {
     "name": "stdout",
     "output_type": "stream",
     "text": [
      "Train on 7591 samples, validate on 1898 samples\n",
      "Epoch 1/12\n",
      "7591/7591 [==============================] - ETA: 9:55 - loss: 0.696 - ETA: 6:43 - loss: 0.691 - ETA: 5:34 - loss: 0.685 - ETA: 4:58 - loss: 0.679 - ETA: 4:36 - loss: 0.672 - ETA: 4:23 - loss: 0.666 - ETA: 4:12 - loss: 0.659 - ETA: 4:02 - loss: 0.652 - ETA: 3:56 - loss: 0.645 - ETA: 3:51 - loss: 0.637 - ETA: 3:47 - loss: 0.630 - ETA: 3:45 - loss: 0.622 - ETA: 3:43 - loss: 0.614 - ETA: 3:44 - loss: 0.606 - ETA: 3:42 - loss: 0.597 - ETA: 3:39 - loss: 0.589 - ETA: 3:36 - loss: 0.580 - ETA: 3:33 - loss: 0.571 - ETA: 3:31 - loss: 0.561 - ETA: 3:29 - loss: 0.551 - ETA: 3:26 - loss: 0.541 - ETA: 3:26 - loss: 0.532 - ETA: 3:25 - loss: 0.522 - ETA: 3:24 - loss: 0.512 - ETA: 3:23 - loss: 0.502 - ETA: 3:22 - loss: 0.493 - ETA: 3:20 - loss: 0.482 - ETA: 3:18 - loss: 0.473 - ETA: 3:16 - loss: 0.464 - ETA: 3:15 - loss: 0.455 - ETA: 3:13 - loss: 0.446 - ETA: 3:11 - loss: 0.437 - ETA: 3:10 - loss: 0.429 - ETA: 3:08 - loss: 0.422 - ETA: 3:07 - loss: 0.415 - ETA: 3:05 - loss: 0.407 - ETA: 3:04 - loss: 0.401 - ETA: 3:03 - loss: 0.395 - ETA: 3:02 - loss: 0.389 - ETA: 3:00 - loss: 0.383 - ETA: 2:59 - loss: 0.377 - ETA: 2:57 - loss: 0.372 - ETA: 2:56 - loss: 0.367 - ETA: 2:55 - loss: 0.363 - ETA: 2:54 - loss: 0.358 - ETA: 2:53 - loss: 0.354 - ETA: 2:51 - loss: 0.350 - ETA: 2:50 - loss: 0.345 - ETA: 2:49 - loss: 0.341 - ETA: 2:48 - loss: 0.338 - ETA: 2:47 - loss: 0.335 - ETA: 2:46 - loss: 0.332 - ETA: 2:45 - loss: 0.329 - ETA: 2:44 - loss: 0.326 - ETA: 2:42 - loss: 0.322 - ETA: 2:41 - loss: 0.319 - ETA: 2:40 - loss: 0.316 - ETA: 2:39 - loss: 0.313 - ETA: 2:38 - loss: 0.310 - ETA: 2:37 - loss: 0.307 - ETA: 2:36 - loss: 0.304 - ETA: 2:35 - loss: 0.301 - ETA: 2:34 - loss: 0.299 - ETA: 2:33 - loss: 0.297 - ETA: 2:32 - loss: 0.295 - ETA: 2:31 - loss: 0.293 - ETA: 2:30 - loss: 0.290 - ETA: 2:29 - loss: 0.288 - ETA: 2:28 - loss: 0.286 - ETA: 2:27 - loss: 0.284 - ETA: 2:26 - loss: 0.282 - ETA: 2:25 - loss: 0.280 - ETA: 2:24 - loss: 0.279 - ETA: 2:23 - loss: 0.277 - ETA: 2:22 - loss: 0.275 - ETA: 2:21 - loss: 0.274 - ETA: 2:20 - loss: 0.272 - ETA: 2:19 - loss: 0.270 - ETA: 2:18 - loss: 0.268 - ETA: 2:17 - loss: 0.266 - ETA: 2:16 - loss: 0.265 - ETA: 2:15 - loss: 0.263 - ETA: 2:14 - loss: 0.262 - ETA: 2:13 - loss: 0.261 - ETA: 2:12 - loss: 0.260 - ETA: 2:11 - loss: 0.258 - ETA: 2:11 - loss: 0.257 - ETA: 2:10 - loss: 0.256 - ETA: 2:09 - loss: 0.254 - ETA: 2:08 - loss: 0.253 - ETA: 2:07 - loss: 0.252 - ETA: 2:06 - loss: 0.251 - ETA: 2:05 - loss: 0.250 - ETA: 2:04 - loss: 0.249 - ETA: 2:03 - loss: 0.248 - ETA: 2:02 - loss: 0.247 - ETA: 2:02 - loss: 0.246 - ETA: 2:01 - loss: 0.244 - ETA: 2:00 - loss: 0.243 - ETA: 1:59 - loss: 0.242 - ETA: 1:58 - loss: 0.241 - ETA: 1:57 - loss: 0.240 - ETA: 1:56 - loss: 0.239 - ETA: 1:55 - loss: 0.238 - ETA: 1:54 - loss: 0.237 - ETA: 1:53 - loss: 0.236 - ETA: 1:53 - loss: 0.235 - ETA: 1:52 - loss: 0.234 - ETA: 1:51 - loss: 0.233 - ETA: 1:50 - loss: 0.232 - ETA: 1:49 - loss: 0.231 - ETA: 1:48 - loss: 0.230 - ETA: 1:47 - loss: 0.230 - ETA: 1:46 - loss: 0.229 - ETA: 1:45 - loss: 0.228 - ETA: 1:44 - loss: 0.227 - ETA: 1:44 - loss: 0.227 - ETA: 1:43 - loss: 0.226 - ETA: 1:42 - loss: 0.225 - ETA: 1:41 - loss: 0.224 - ETA: 1:40 - loss: 0.224 - ETA: 1:39 - loss: 0.223 - ETA: 1:38 - loss: 0.222 - ETA: 1:37 - loss: 0.221 - ETA: 1:36 - loss: 0.221 - ETA: 1:35 - loss: 0.220 - ETA: 1:35 - loss: 0.220 - ETA: 1:34 - loss: 0.219 - ETA: 1:33 - loss: 0.219 - ETA: 1:32 - loss: 0.218 - ETA: 1:31 - loss: 0.218 - ETA: 1:30 - loss: 0.217 - ETA: 1:29 - loss: 0.216 - ETA: 1:28 - loss: 0.216 - ETA: 1:28 - loss: 0.215 - ETA: 1:27 - loss: 0.214 - ETA: 1:26 - loss: 0.214 - ETA: 1:25 - loss: 0.213 - ETA: 1:24 - loss: 0.213 - ETA: 1:23 - loss: 0.212 - ETA: 1:22 - loss: 0.212 - ETA: 1:21 - loss: 0.211 - ETA: 1:21 - loss: 0.211 - ETA: 1:20 - loss: 0.211 - ETA: 1:19 - loss: 0.210 - ETA: 1:18 - loss: 0.210 - ETA: 1:17 - loss: 0.209 - ETA: 1:16 - loss: 0.209 - ETA: 1:15 - loss: 0.208 - ETA: 1:14 - loss: 0.208 - ETA: 1:14 - loss: 0.208 - ETA: 1:13 - loss: 0.207 - ETA: 1:12 - loss: 0.207 - ETA: 1:11 - loss: 0.207 - ETA: 1:10 - loss: 0.206 - ETA: 1:09 - loss: 0.206 - ETA: 1:08 - loss: 0.206 - ETA: 1:07 - loss: 0.205 - ETA: 1:07 - loss: 0.205 - ETA: 1:06 - loss: 0.204 - ETA: 1:05 - loss: 0.204 - ETA: 1:04 - loss: 0.204 - ETA: 1:03 - loss: 0.204 - ETA: 1:02 - loss: 0.203 - ETA: 1:01 - loss: 0.203 - ETA: 1:01 - loss: 0.202 - ETA: 1:00 - loss: 0.202 - ETA: 59s - loss: 0.202 - ETA: 58s - loss: 0.20 - ETA: 57s - loss: 0.20 - ETA: 56s - loss: 0.20 - ETA: 55s - loss: 0.20 - ETA: 55s - loss: 0.20 - ETA: 54s - loss: 0.20 - ETA: 53s - loss: 0.19 - ETA: 52s - loss: 0.19 - ETA: 51s - loss: 0.19 - ETA: 50s - loss: 0.19 - ETA: 49s - loss: 0.19 - ETA: 48s - loss: 0.19 - ETA: 48s - loss: 0.19 - ETA: 47s - loss: 0.19 - ETA: 46s - loss: 0.19 - ETA: 45s - loss: 0.19 - ETA: 44s - loss: 0.19 - ETA: 43s - loss: 0.19 - ETA: 42s - loss: 0.19 - ETA: 42s - loss: 0.19 - ETA: 41s - loss: 0.19 - ETA: 40s - loss: 0.19 - ETA: 39s - loss: 0.19 - ETA: 38s - loss: 0.19 - ETA: 37s - loss: 0.19 - ETA: 36s - loss: 0.19 - ETA: 36s - loss: 0.19 - ETA: 35s - loss: 0.19 - ETA: 34s - loss: 0.19 - ETA: 33s - loss: 0.19 - ETA: 32s - loss: 0.19 - ETA: 31s - loss: 0.19 - ETA: 30s - loss: 0.19 - ETA: 30s - loss: 0.19 - ETA: 29s - loss: 0.19 - ETA: 28s - loss: 0.19 - ETA: 27s - loss: 0.19 - ETA: 26s - loss: 0.19 - ETA: 25s - loss: 0.19 - ETA: 24s - loss: 0.19 - ETA: 24s - loss: 0.19 - ETA: 23s - loss: 0.19 - ETA: 22s - loss: 0.19 - ETA: 21s - loss: 0.19 - ETA: 20s - loss: 0.19 - ETA: 19s - loss: 0.19 - ETA: 18s - loss: 0.19 - ETA: 18s - loss: 0.19 - ETA: 17s - loss: 0.19 - ETA: 16s - loss: 0.18 - ETA: 15s - loss: 0.18 - ETA: 14s - loss: 0.18 - ETA: 13s - loss: 0.18 - ETA: 12s - loss: 0.18 - ETA: 12s - loss: 0.18 - ETA: 11s - loss: 0.18 - ETA: 10s - loss: 0.18 - ETA: 9s - loss: 0.1879 - ETA: 8s - loss: 0.187 - ETA: 7s - loss: 0.187 - ETA: 7s - loss: 0.187 - ETA: 6s - loss: 0.187 - ETA: 5s - loss: 0.187 - ETA: 4s - loss: 0.186 - ETA: 3s - loss: 0.186 - ETA: 2s - loss: 0.186 - ETA: 1s - loss: 0.186 - ETA: 1s - loss: 0.186 - ETA: 0s - loss: 0.185 - 209s 28ms/step - loss: 0.1859 - val_loss: 0.1336\n",
      "Epoch 2/12\n"
     ]
    },
    {
     "name": "stdout",
     "output_type": "stream",
     "text": [
      "7591/7591 [==============================] - ETA: 3:19 - loss: 0.172 - ETA: 3:47 - loss: 0.164 - ETA: 3:36 - loss: 0.147 - ETA: 3:31 - loss: 0.151 - ETA: 3:27 - loss: 0.144 - ETA: 3:25 - loss: 0.141 - ETA: 3:22 - loss: 0.141 - ETA: 3:21 - loss: 0.141 - ETA: 3:19 - loss: 0.142 - ETA: 3:17 - loss: 0.142 - ETA: 3:15 - loss: 0.144 - ETA: 3:14 - loss: 0.145 - ETA: 3:13 - loss: 0.143 - ETA: 3:11 - loss: 0.143 - ETA: 3:10 - loss: 0.141 - ETA: 3:09 - loss: 0.142 - ETA: 3:08 - loss: 0.142 - ETA: 3:07 - loss: 0.142 - ETA: 3:06 - loss: 0.142 - ETA: 3:05 - loss: 0.143 - ETA: 3:04 - loss: 0.144 - ETA: 3:03 - loss: 0.144 - ETA: 3:02 - loss: 0.144 - ETA: 3:01 - loss: 0.144 - ETA: 3:00 - loss: 0.143 - ETA: 2:59 - loss: 0.143 - ETA: 2:58 - loss: 0.143 - ETA: 2:57 - loss: 0.144 - ETA: 2:57 - loss: 0.144 - ETA: 2:56 - loss: 0.143 - ETA: 2:55 - loss: 0.142 - ETA: 2:54 - loss: 0.143 - ETA: 2:53 - loss: 0.142 - ETA: 2:52 - loss: 0.143 - ETA: 2:51 - loss: 0.142 - ETA: 2:50 - loss: 0.142 - ETA: 2:49 - loss: 0.142 - ETA: 2:48 - loss: 0.143 - ETA: 2:48 - loss: 0.144 - ETA: 2:47 - loss: 0.144 - ETA: 2:46 - loss: 0.144 - ETA: 2:45 - loss: 0.145 - ETA: 2:44 - loss: 0.145 - ETA: 2:43 - loss: 0.146 - ETA: 2:42 - loss: 0.145 - ETA: 2:41 - loss: 0.146 - ETA: 2:41 - loss: 0.145 - ETA: 2:40 - loss: 0.145 - ETA: 2:39 - loss: 0.145 - ETA: 2:38 - loss: 0.145 - ETA: 2:37 - loss: 0.145 - ETA: 2:36 - loss: 0.145 - ETA: 2:35 - loss: 0.145 - ETA: 2:34 - loss: 0.144 - ETA: 2:34 - loss: 0.145 - ETA: 2:33 - loss: 0.145 - ETA: 2:33 - loss: 0.145 - ETA: 2:32 - loss: 0.144 - ETA: 2:31 - loss: 0.145 - ETA: 2:30 - loss: 0.145 - ETA: 2:29 - loss: 0.145 - ETA: 2:28 - loss: 0.146 - ETA: 2:27 - loss: 0.145 - ETA: 2:26 - loss: 0.145 - ETA: 2:26 - loss: 0.145 - ETA: 2:25 - loss: 0.145 - ETA: 2:24 - loss: 0.145 - ETA: 2:23 - loss: 0.144 - ETA: 2:22 - loss: 0.144 - ETA: 2:21 - loss: 0.144 - ETA: 2:20 - loss: 0.145 - ETA: 2:20 - loss: 0.145 - ETA: 2:19 - loss: 0.145 - ETA: 2:18 - loss: 0.145 - ETA: 2:17 - loss: 0.144 - ETA: 2:16 - loss: 0.144 - ETA: 2:15 - loss: 0.144 - ETA: 2:14 - loss: 0.144 - ETA: 2:14 - loss: 0.144 - ETA: 2:13 - loss: 0.143 - ETA: 2:12 - loss: 0.143 - ETA: 2:11 - loss: 0.144 - ETA: 2:10 - loss: 0.144 - ETA: 2:09 - loss: 0.144 - ETA: 2:08 - loss: 0.144 - ETA: 2:07 - loss: 0.144 - ETA: 2:07 - loss: 0.144 - ETA: 2:06 - loss: 0.144 - ETA: 2:05 - loss: 0.144 - ETA: 2:04 - loss: 0.144 - ETA: 2:03 - loss: 0.144 - ETA: 2:02 - loss: 0.144 - ETA: 2:02 - loss: 0.144 - ETA: 2:01 - loss: 0.145 - ETA: 2:00 - loss: 0.145 - ETA: 1:59 - loss: 0.145 - ETA: 1:58 - loss: 0.145 - ETA: 1:57 - loss: 0.144 - ETA: 1:56 - loss: 0.144 - ETA: 1:56 - loss: 0.145 - ETA: 1:55 - loss: 0.145 - ETA: 1:54 - loss: 0.145 - ETA: 1:53 - loss: 0.145 - ETA: 1:52 - loss: 0.145 - ETA: 1:51 - loss: 0.145 - ETA: 1:50 - loss: 0.145 - ETA: 1:50 - loss: 0.145 - ETA: 1:49 - loss: 0.145 - ETA: 1:48 - loss: 0.145 - ETA: 1:47 - loss: 0.145 - ETA: 1:46 - loss: 0.145 - ETA: 1:45 - loss: 0.145 - ETA: 1:44 - loss: 0.144 - ETA: 1:44 - loss: 0.144 - ETA: 1:43 - loss: 0.144 - ETA: 1:42 - loss: 0.144 - ETA: 1:41 - loss: 0.144 - ETA: 1:40 - loss: 0.145 - ETA: 1:39 - loss: 0.144 - ETA: 1:38 - loss: 0.145 - ETA: 1:38 - loss: 0.145 - ETA: 1:37 - loss: 0.145 - ETA: 1:36 - loss: 0.145 - ETA: 1:35 - loss: 0.144 - ETA: 1:34 - loss: 0.145 - ETA: 1:33 - loss: 0.144 - ETA: 1:32 - loss: 0.144 - ETA: 1:32 - loss: 0.144 - ETA: 1:31 - loss: 0.144 - ETA: 1:30 - loss: 0.144 - ETA: 1:29 - loss: 0.144 - ETA: 1:28 - loss: 0.144 - ETA: 1:27 - loss: 0.145 - ETA: 1:27 - loss: 0.145 - ETA: 1:26 - loss: 0.145 - ETA: 1:25 - loss: 0.145 - ETA: 1:24 - loss: 0.145 - ETA: 1:23 - loss: 0.145 - ETA: 1:22 - loss: 0.145 - ETA: 1:22 - loss: 0.145 - ETA: 1:21 - loss: 0.145 - ETA: 1:20 - loss: 0.145 - ETA: 1:19 - loss: 0.145 - ETA: 1:18 - loss: 0.145 - ETA: 1:17 - loss: 0.145 - ETA: 1:16 - loss: 0.145 - ETA: 1:16 - loss: 0.145 - ETA: 1:15 - loss: 0.145 - ETA: 1:14 - loss: 0.145 - ETA: 1:13 - loss: 0.145 - ETA: 1:12 - loss: 0.145 - ETA: 1:11 - loss: 0.145 - ETA: 1:11 - loss: 0.145 - ETA: 1:10 - loss: 0.145 - ETA: 1:09 - loss: 0.145 - ETA: 1:08 - loss: 0.145 - ETA: 1:07 - loss: 0.145 - ETA: 1:06 - loss: 0.145 - ETA: 1:05 - loss: 0.145 - ETA: 1:05 - loss: 0.145 - ETA: 1:04 - loss: 0.145 - ETA: 1:03 - loss: 0.144 - ETA: 1:02 - loss: 0.144 - ETA: 1:01 - loss: 0.145 - ETA: 1:00 - loss: 0.144 - ETA: 1:00 - loss: 0.144 - ETA: 59s - loss: 0.144 - ETA: 58s - loss: 0.14 - ETA: 57s - loss: 0.14 - ETA: 56s - loss: 0.14 - ETA: 55s - loss: 0.14 - ETA: 54s - loss: 0.14 - ETA: 54s - loss: 0.14 - ETA: 53s - loss: 0.14 - ETA: 52s - loss: 0.14 - ETA: 51s - loss: 0.14 - ETA: 50s - loss: 0.14 - ETA: 49s - loss: 0.14 - ETA: 49s - loss: 0.14 - ETA: 48s - loss: 0.14 - ETA: 47s - loss: 0.14 - ETA: 46s - loss: 0.14 - ETA: 45s - loss: 0.14 - ETA: 44s - loss: 0.14 - ETA: 43s - loss: 0.14 - ETA: 43s - loss: 0.14 - ETA: 42s - loss: 0.14 - ETA: 41s - loss: 0.14 - ETA: 40s - loss: 0.14 - ETA: 39s - loss: 0.14 - ETA: 38s - loss: 0.14 - ETA: 38s - loss: 0.14 - ETA: 37s - loss: 0.14 - ETA: 36s - loss: 0.14 - ETA: 35s - loss: 0.14 - ETA: 34s - loss: 0.14 - ETA: 33s - loss: 0.14 - ETA: 33s - loss: 0.14 - ETA: 32s - loss: 0.14 - ETA: 31s - loss: 0.14 - ETA: 30s - loss: 0.14 - ETA: 29s - loss: 0.14 - ETA: 28s - loss: 0.14 - ETA: 27s - loss: 0.14 - ETA: 27s - loss: 0.14 - ETA: 26s - loss: 0.14 - ETA: 25s - loss: 0.14 - ETA: 24s - loss: 0.14 - ETA: 23s - loss: 0.14 - ETA: 22s - loss: 0.14 - ETA: 22s - loss: 0.14 - ETA: 21s - loss: 0.14 - ETA: 20s - loss: 0.14 - ETA: 19s - loss: 0.14 - ETA: 18s - loss: 0.14 - ETA: 17s - loss: 0.14 - ETA: 17s - loss: 0.14 - ETA: 16s - loss: 0.14 - ETA: 15s - loss: 0.14 - ETA: 14s - loss: 0.14 - ETA: 13s - loss: 0.14 - ETA: 12s - loss: 0.14 - ETA: 11s - loss: 0.14 - ETA: 11s - loss: 0.14 - ETA: 10s - loss: 0.14 - ETA: 9s - loss: 0.1435 - ETA: 8s - loss: 0.143 - ETA: 7s - loss: 0.143 - ETA: 6s - loss: 0.143 - ETA: 6s - loss: 0.143 - ETA: 5s - loss: 0.143 - ETA: 4s - loss: 0.143 - ETA: 3s - loss: 0.143 - ETA: 2s - loss: 0.143 - ETA: 1s - loss: 0.143 - ETA: 1s - loss: 0.143 - ETA: 0s - loss: 0.143 - 206s 27ms/step - loss: 0.1431 - val_loss: 0.1338\n",
      "Epoch 3/12\n"
     ]
    },
    {
     "name": "stdout",
     "output_type": "stream",
     "text": [
      "7591/7591 [==============================] - ETA: 3:18 - loss: 0.162 - ETA: 3:18 - loss: 0.151 - ETA: 3:17 - loss: 0.160 - ETA: 3:15 - loss: 0.152 - ETA: 3:14 - loss: 0.152 - ETA: 3:14 - loss: 0.156 - ETA: 3:13 - loss: 0.152 - ETA: 3:12 - loss: 0.150 - ETA: 3:11 - loss: 0.147 - ETA: 3:10 - loss: 0.146 - ETA: 3:10 - loss: 0.144 - ETA: 3:08 - loss: 0.144 - ETA: 3:08 - loss: 0.145 - ETA: 3:07 - loss: 0.145 - ETA: 3:06 - loss: 0.148 - ETA: 3:05 - loss: 0.147 - ETA: 3:04 - loss: 0.146 - ETA: 3:03 - loss: 0.145 - ETA: 3:03 - loss: 0.144 - ETA: 3:02 - loss: 0.144 - ETA: 3:01 - loss: 0.144 - ETA: 3:00 - loss: 0.144 - ETA: 2:59 - loss: 0.144 - ETA: 2:58 - loss: 0.144 - ETA: 2:57 - loss: 0.145 - ETA: 2:57 - loss: 0.145 - ETA: 2:56 - loss: 0.144 - ETA: 2:55 - loss: 0.143 - ETA: 2:54 - loss: 0.142 - ETA: 2:53 - loss: 0.143 - ETA: 2:52 - loss: 0.143 - ETA: 2:51 - loss: 0.144 - ETA: 2:51 - loss: 0.144 - ETA: 2:50 - loss: 0.144 - ETA: 2:49 - loss: 0.144 - ETA: 2:48 - loss: 0.144 - ETA: 2:48 - loss: 0.144 - ETA: 2:47 - loss: 0.143 - ETA: 2:46 - loss: 0.143 - ETA: 2:45 - loss: 0.143 - ETA: 2:44 - loss: 0.142 - ETA: 2:43 - loss: 0.143 - ETA: 2:42 - loss: 0.143 - ETA: 2:42 - loss: 0.143 - ETA: 2:41 - loss: 0.142 - ETA: 2:40 - loss: 0.142 - ETA: 2:39 - loss: 0.142 - ETA: 2:38 - loss: 0.141 - ETA: 2:37 - loss: 0.141 - ETA: 2:36 - loss: 0.141 - ETA: 2:36 - loss: 0.141 - ETA: 2:35 - loss: 0.141 - ETA: 2:34 - loss: 0.141 - ETA: 2:33 - loss: 0.141 - ETA: 2:32 - loss: 0.141 - ETA: 2:31 - loss: 0.141 - ETA: 2:31 - loss: 0.141 - ETA: 2:30 - loss: 0.141 - ETA: 2:29 - loss: 0.141 - ETA: 2:28 - loss: 0.141 - ETA: 2:27 - loss: 0.141 - ETA: 2:26 - loss: 0.141 - ETA: 2:25 - loss: 0.141 - ETA: 2:25 - loss: 0.141 - ETA: 2:24 - loss: 0.141 - ETA: 2:23 - loss: 0.141 - ETA: 2:22 - loss: 0.141 - ETA: 2:21 - loss: 0.140 - ETA: 2:20 - loss: 0.140 - ETA: 2:19 - loss: 0.141 - ETA: 2:19 - loss: 0.140 - ETA: 2:18 - loss: 0.140 - ETA: 2:17 - loss: 0.140 - ETA: 2:16 - loss: 0.140 - ETA: 2:15 - loss: 0.140 - ETA: 2:14 - loss: 0.140 - ETA: 2:14 - loss: 0.140 - ETA: 2:13 - loss: 0.140 - ETA: 2:12 - loss: 0.140 - ETA: 2:11 - loss: 0.140 - ETA: 2:10 - loss: 0.140 - ETA: 2:09 - loss: 0.140 - ETA: 2:08 - loss: 0.140 - ETA: 2:08 - loss: 0.139 - ETA: 2:07 - loss: 0.139 - ETA: 2:06 - loss: 0.139 - ETA: 2:05 - loss: 0.140 - ETA: 2:04 - loss: 0.140 - ETA: 2:03 - loss: 0.140 - ETA: 2:03 - loss: 0.140 - ETA: 2:02 - loss: 0.140 - ETA: 2:01 - loss: 0.140 - ETA: 2:00 - loss: 0.140 - ETA: 1:59 - loss: 0.140 - ETA: 1:58 - loss: 0.140 - ETA: 1:57 - loss: 0.139 - ETA: 1:57 - loss: 0.139 - ETA: 1:56 - loss: 0.139 - ETA: 1:55 - loss: 0.139 - ETA: 1:54 - loss: 0.139 - ETA: 1:53 - loss: 0.139 - ETA: 1:53 - loss: 0.139 - ETA: 1:52 - loss: 0.139 - ETA: 1:51 - loss: 0.139 - ETA: 1:50 - loss: 0.139 - ETA: 1:49 - loss: 0.139 - ETA: 1:48 - loss: 0.139 - ETA: 1:48 - loss: 0.139 - ETA: 1:47 - loss: 0.139 - ETA: 1:46 - loss: 0.139 - ETA: 1:45 - loss: 0.139 - ETA: 1:44 - loss: 0.139 - ETA: 1:44 - loss: 0.139 - ETA: 1:43 - loss: 0.139 - ETA: 1:42 - loss: 0.139 - ETA: 1:41 - loss: 0.139 - ETA: 1:40 - loss: 0.139 - ETA: 1:39 - loss: 0.138 - ETA: 1:39 - loss: 0.139 - ETA: 1:38 - loss: 0.139 - ETA: 1:37 - loss: 0.139 - ETA: 1:36 - loss: 0.139 - ETA: 1:35 - loss: 0.139 - ETA: 1:34 - loss: 0.139 - ETA: 1:34 - loss: 0.138 - ETA: 1:33 - loss: 0.138 - ETA: 1:32 - loss: 0.138 - ETA: 1:31 - loss: 0.138 - ETA: 1:30 - loss: 0.138 - ETA: 1:29 - loss: 0.139 - ETA: 1:28 - loss: 0.138 - ETA: 1:28 - loss: 0.138 - ETA: 1:27 - loss: 0.138 - ETA: 1:26 - loss: 0.138 - ETA: 1:25 - loss: 0.138 - ETA: 1:24 - loss: 0.138 - ETA: 1:23 - loss: 0.138 - ETA: 1:23 - loss: 0.138 - ETA: 1:22 - loss: 0.138 - ETA: 1:21 - loss: 0.138 - ETA: 1:20 - loss: 0.138 - ETA: 1:19 - loss: 0.138 - ETA: 1:18 - loss: 0.138 - ETA: 1:18 - loss: 0.138 - ETA: 1:17 - loss: 0.138 - ETA: 1:16 - loss: 0.138 - ETA: 1:15 - loss: 0.138 - ETA: 1:14 - loss: 0.138 - ETA: 1:13 - loss: 0.138 - ETA: 1:13 - loss: 0.138 - ETA: 1:12 - loss: 0.138 - ETA: 1:11 - loss: 0.138 - ETA: 1:10 - loss: 0.138 - ETA: 1:09 - loss: 0.138 - ETA: 1:08 - loss: 0.138 - ETA: 1:07 - loss: 0.138 - ETA: 1:07 - loss: 0.138 - ETA: 1:06 - loss: 0.138 - ETA: 1:05 - loss: 0.138 - ETA: 1:04 - loss: 0.138 - ETA: 1:03 - loss: 0.138 - ETA: 1:02 - loss: 0.138 - ETA: 1:02 - loss: 0.138 - ETA: 1:01 - loss: 0.138 - ETA: 1:00 - loss: 0.138 - ETA: 59s - loss: 0.138 - ETA: 58s - loss: 0.13 - ETA: 57s - loss: 0.13 - ETA: 57s - loss: 0.13 - ETA: 56s - loss: 0.13 - ETA: 55s - loss: 0.13 - ETA: 54s - loss: 0.13 - ETA: 53s - loss: 0.13 - ETA: 52s - loss: 0.13 - ETA: 52s - loss: 0.13 - ETA: 51s - loss: 0.13 - ETA: 50s - loss: 0.13 - ETA: 49s - loss: 0.13 - ETA: 48s - loss: 0.13 - ETA: 47s - loss: 0.13 - ETA: 47s - loss: 0.13 - ETA: 46s - loss: 0.13 - ETA: 45s - loss: 0.13 - ETA: 44s - loss: 0.13 - ETA: 43s - loss: 0.13 - ETA: 42s - loss: 0.13 - ETA: 42s - loss: 0.13 - ETA: 41s - loss: 0.13 - ETA: 40s - loss: 0.13 - ETA: 39s - loss: 0.13 - ETA: 38s - loss: 0.13 - ETA: 37s - loss: 0.13 - ETA: 37s - loss: 0.13 - ETA: 36s - loss: 0.13 - ETA: 35s - loss: 0.13 - ETA: 34s - loss: 0.13 - ETA: 33s - loss: 0.13 - ETA: 32s - loss: 0.13 - ETA: 32s - loss: 0.13 - ETA: 31s - loss: 0.13 - ETA: 30s - loss: 0.13 - ETA: 29s - loss: 0.13 - ETA: 28s - loss: 0.13 - ETA: 27s - loss: 0.13 - ETA: 27s - loss: 0.13 - ETA: 26s - loss: 0.13 - ETA: 25s - loss: 0.13 - ETA: 24s - loss: 0.13 - ETA: 23s - loss: 0.13 - ETA: 22s - loss: 0.13 - ETA: 21s - loss: 0.13 - ETA: 21s - loss: 0.13 - ETA: 20s - loss: 0.13 - ETA: 19s - loss: 0.13 - ETA: 18s - loss: 0.13 - ETA: 17s - loss: 0.13 - ETA: 16s - loss: 0.13 - ETA: 16s - loss: 0.13 - ETA: 15s - loss: 0.13 - ETA: 14s - loss: 0.13 - ETA: 13s - loss: 0.13 - ETA: 12s - loss: 0.13 - ETA: 11s - loss: 0.13 - ETA: 11s - loss: 0.13 - ETA: 10s - loss: 0.13 - ETA: 9s - loss: 0.1388 - ETA: 8s - loss: 0.138 - ETA: 7s - loss: 0.138 - ETA: 6s - loss: 0.138 - ETA: 6s - loss: 0.138 - ETA: 5s - loss: 0.138 - ETA: 4s - loss: 0.139 - ETA: 3s - loss: 0.139 - ETA: 2s - loss: 0.138 - ETA: 1s - loss: 0.138 - ETA: 1s - loss: 0.138 - ETA: 0s - loss: 0.138 - 205s 27ms/step - loss: 0.1388 - val_loss: 0.1330\n",
      "Epoch 4/12\n"
     ]
    },
    {
     "name": "stdout",
     "output_type": "stream",
     "text": [
      "7591/7591 [==============================] - ETA: 3:21 - loss: 0.117 - ETA: 3:18 - loss: 0.121 - ETA: 3:16 - loss: 0.136 - ETA: 3:15 - loss: 0.136 - ETA: 3:14 - loss: 0.135 - ETA: 3:13 - loss: 0.139 - ETA: 3:12 - loss: 0.139 - ETA: 3:12 - loss: 0.141 - ETA: 3:11 - loss: 0.146 - ETA: 3:10 - loss: 0.145 - ETA: 3:09 - loss: 0.144 - ETA: 3:09 - loss: 0.145 - ETA: 3:08 - loss: 0.143 - ETA: 3:07 - loss: 0.144 - ETA: 3:07 - loss: 0.144 - ETA: 3:06 - loss: 0.143 - ETA: 3:05 - loss: 0.143 - ETA: 3:05 - loss: 0.143 - ETA: 3:04 - loss: 0.144 - ETA: 3:03 - loss: 0.142 - ETA: 3:02 - loss: 0.140 - ETA: 3:01 - loss: 0.140 - ETA: 3:00 - loss: 0.139 - ETA: 3:00 - loss: 0.138 - ETA: 2:59 - loss: 0.138 - ETA: 2:58 - loss: 0.138 - ETA: 2:57 - loss: 0.138 - ETA: 2:56 - loss: 0.138 - ETA: 2:55 - loss: 0.138 - ETA: 2:54 - loss: 0.139 - ETA: 2:54 - loss: 0.139 - ETA: 2:53 - loss: 0.139 - ETA: 2:52 - loss: 0.139 - ETA: 2:51 - loss: 0.139 - ETA: 2:50 - loss: 0.139 - ETA: 2:49 - loss: 0.139 - ETA: 2:48 - loss: 0.140 - ETA: 2:47 - loss: 0.140 - ETA: 2:46 - loss: 0.140 - ETA: 2:46 - loss: 0.139 - ETA: 2:45 - loss: 0.139 - ETA: 2:44 - loss: 0.138 - ETA: 2:43 - loss: 0.138 - ETA: 2:42 - loss: 0.137 - ETA: 2:41 - loss: 0.137 - ETA: 2:40 - loss: 0.137 - ETA: 2:39 - loss: 0.137 - ETA: 2:39 - loss: 0.139 - ETA: 2:38 - loss: 0.139 - ETA: 2:37 - loss: 0.139 - ETA: 2:36 - loss: 0.139 - ETA: 2:35 - loss: 0.139 - ETA: 2:34 - loss: 0.138 - ETA: 2:33 - loss: 0.138 - ETA: 2:33 - loss: 0.138 - ETA: 2:32 - loss: 0.138 - ETA: 2:31 - loss: 0.138 - ETA: 2:30 - loss: 0.137 - ETA: 2:29 - loss: 0.137 - ETA: 2:28 - loss: 0.138 - ETA: 2:27 - loss: 0.138 - ETA: 2:27 - loss: 0.138 - ETA: 2:26 - loss: 0.137 - ETA: 2:25 - loss: 0.138 - ETA: 2:24 - loss: 0.137 - ETA: 2:23 - loss: 0.137 - ETA: 2:22 - loss: 0.137 - ETA: 2:21 - loss: 0.137 - ETA: 2:21 - loss: 0.137 - ETA: 2:20 - loss: 0.137 - ETA: 2:19 - loss: 0.138 - ETA: 2:18 - loss: 0.138 - ETA: 2:17 - loss: 0.138 - ETA: 2:16 - loss: 0.138 - ETA: 2:16 - loss: 0.139 - ETA: 2:15 - loss: 0.138 - ETA: 2:14 - loss: 0.138 - ETA: 2:13 - loss: 0.138 - ETA: 2:12 - loss: 0.138 - ETA: 2:11 - loss: 0.138 - ETA: 2:11 - loss: 0.138 - ETA: 2:10 - loss: 0.138 - ETA: 2:09 - loss: 0.138 - ETA: 2:08 - loss: 0.138 - ETA: 2:07 - loss: 0.137 - ETA: 2:06 - loss: 0.137 - ETA: 2:05 - loss: 0.137 - ETA: 2:05 - loss: 0.138 - ETA: 2:04 - loss: 0.138 - ETA: 2:03 - loss: 0.138 - ETA: 2:02 - loss: 0.138 - ETA: 2:01 - loss: 0.138 - ETA: 2:00 - loss: 0.138 - ETA: 2:00 - loss: 0.138 - ETA: 1:59 - loss: 0.137 - ETA: 1:58 - loss: 0.137 - ETA: 1:57 - loss: 0.137 - ETA: 1:56 - loss: 0.138 - ETA: 1:55 - loss: 0.137 - ETA: 1:55 - loss: 0.137 - ETA: 1:54 - loss: 0.138 - ETA: 1:53 - loss: 0.138 - ETA: 1:52 - loss: 0.137 - ETA: 1:51 - loss: 0.137 - ETA: 1:50 - loss: 0.138 - ETA: 1:49 - loss: 0.137 - ETA: 1:49 - loss: 0.138 - ETA: 1:48 - loss: 0.138 - ETA: 1:47 - loss: 0.138 - ETA: 1:46 - loss: 0.138 - ETA: 1:45 - loss: 0.138 - ETA: 1:44 - loss: 0.138 - ETA: 1:44 - loss: 0.138 - ETA: 1:43 - loss: 0.138 - ETA: 1:42 - loss: 0.138 - ETA: 1:41 - loss: 0.138 - ETA: 1:40 - loss: 0.138 - ETA: 1:39 - loss: 0.138 - ETA: 1:38 - loss: 0.138 - ETA: 1:38 - loss: 0.138 - ETA: 1:37 - loss: 0.138 - ETA: 1:36 - loss: 0.138 - ETA: 1:35 - loss: 0.138 - ETA: 1:34 - loss: 0.138 - ETA: 1:33 - loss: 0.138 - ETA: 1:33 - loss: 0.138 - ETA: 1:32 - loss: 0.138 - ETA: 1:31 - loss: 0.138 - ETA: 1:30 - loss: 0.138 - ETA: 1:29 - loss: 0.138 - ETA: 1:28 - loss: 0.138 - ETA: 1:28 - loss: 0.138 - ETA: 1:27 - loss: 0.138 - ETA: 1:26 - loss: 0.138 - ETA: 1:25 - loss: 0.138 - ETA: 1:24 - loss: 0.138 - ETA: 1:23 - loss: 0.138 - ETA: 1:23 - loss: 0.138 - ETA: 1:22 - loss: 0.138 - ETA: 1:21 - loss: 0.138 - ETA: 1:20 - loss: 0.138 - ETA: 1:19 - loss: 0.138 - ETA: 1:18 - loss: 0.138 - ETA: 1:18 - loss: 0.138 - ETA: 1:17 - loss: 0.138 - ETA: 1:16 - loss: 0.138 - ETA: 1:15 - loss: 0.138 - ETA: 1:14 - loss: 0.138 - ETA: 1:13 - loss: 0.138 - ETA: 1:13 - loss: 0.138 - ETA: 1:12 - loss: 0.138 - ETA: 1:11 - loss: 0.137 - ETA: 1:10 - loss: 0.138 - ETA: 1:09 - loss: 0.137 - ETA: 1:08 - loss: 0.137 - ETA: 1:07 - loss: 0.137 - ETA: 1:07 - loss: 0.137 - ETA: 1:06 - loss: 0.137 - ETA: 1:05 - loss: 0.138 - ETA: 1:04 - loss: 0.138 - ETA: 1:03 - loss: 0.138 - ETA: 1:02 - loss: 0.138 - ETA: 1:02 - loss: 0.138 - ETA: 1:01 - loss: 0.138 - ETA: 1:00 - loss: 0.138 - ETA: 59s - loss: 0.138 - ETA: 58s - loss: 0.13 - ETA: 57s - loss: 0.13 - ETA: 57s - loss: 0.13 - ETA: 56s - loss: 0.13 - ETA: 55s - loss: 0.13 - ETA: 54s - loss: 0.13 - ETA: 53s - loss: 0.13 - ETA: 52s - loss: 0.13 - ETA: 52s - loss: 0.13 - ETA: 51s - loss: 0.13 - ETA: 50s - loss: 0.13 - ETA: 49s - loss: 0.13 - ETA: 48s - loss: 0.13 - ETA: 47s - loss: 0.13 - ETA: 47s - loss: 0.13 - ETA: 46s - loss: 0.13 - ETA: 45s - loss: 0.13 - ETA: 44s - loss: 0.13 - ETA: 43s - loss: 0.13 - ETA: 42s - loss: 0.13 - ETA: 42s - loss: 0.13 - ETA: 41s - loss: 0.13 - ETA: 40s - loss: 0.13 - ETA: 39s - loss: 0.13 - ETA: 38s - loss: 0.13 - ETA: 37s - loss: 0.13 - ETA: 36s - loss: 0.13 - ETA: 36s - loss: 0.13 - ETA: 35s - loss: 0.13 - ETA: 34s - loss: 0.13 - ETA: 33s - loss: 0.13 - ETA: 32s - loss: 0.13 - ETA: 31s - loss: 0.13 - ETA: 31s - loss: 0.13 - ETA: 30s - loss: 0.13 - ETA: 29s - loss: 0.13 - ETA: 28s - loss: 0.13 - ETA: 27s - loss: 0.13 - ETA: 26s - loss: 0.13 - ETA: 26s - loss: 0.13 - ETA: 25s - loss: 0.13 - ETA: 24s - loss: 0.13 - ETA: 23s - loss: 0.13 - ETA: 22s - loss: 0.13 - ETA: 21s - loss: 0.13 - ETA: 21s - loss: 0.13 - ETA: 20s - loss: 0.13 - ETA: 19s - loss: 0.13 - ETA: 18s - loss: 0.13 - ETA: 17s - loss: 0.13 - ETA: 16s - loss: 0.13 - ETA: 16s - loss: 0.13 - ETA: 15s - loss: 0.13 - ETA: 14s - loss: 0.13 - ETA: 13s - loss: 0.13 - ETA: 12s - loss: 0.13 - ETA: 11s - loss: 0.13 - ETA: 11s - loss: 0.13 - ETA: 10s - loss: 0.13 - ETA: 9s - loss: 0.1371 - ETA: 8s - loss: 0.137 - ETA: 7s - loss: 0.137 - ETA: 6s - loss: 0.137 - ETA: 6s - loss: 0.137 - ETA: 5s - loss: 0.137 - ETA: 4s - loss: 0.136 - ETA: 3s - loss: 0.137 - ETA: 2s - loss: 0.136 - ETA: 1s - loss: 0.136 - ETA: 1s - loss: 0.136 - ETA: 0s - loss: 0.136 - 205s 27ms/step - loss: 0.1369 - val_loss: 0.1298\n",
      "Epoch 5/12\n"
     ]
    },
    {
     "name": "stdout",
     "output_type": "stream",
     "text": [
      "7591/7591 [==============================] - ETA: 3:16 - loss: 0.127 - ETA: 3:16 - loss: 0.123 - ETA: 3:15 - loss: 0.120 - ETA: 3:13 - loss: 0.118 - ETA: 3:12 - loss: 0.124 - ETA: 3:12 - loss: 0.121 - ETA: 3:11 - loss: 0.124 - ETA: 3:11 - loss: 0.126 - ETA: 3:10 - loss: 0.128 - ETA: 3:09 - loss: 0.127 - ETA: 3:08 - loss: 0.127 - ETA: 3:07 - loss: 0.129 - ETA: 3:06 - loss: 0.130 - ETA: 3:05 - loss: 0.129 - ETA: 3:05 - loss: 0.130 - ETA: 3:04 - loss: 0.130 - ETA: 3:03 - loss: 0.128 - ETA: 3:02 - loss: 0.128 - ETA: 3:01 - loss: 0.131 - ETA: 3:00 - loss: 0.130 - ETA: 2:59 - loss: 0.131 - ETA: 2:59 - loss: 0.132 - ETA: 2:58 - loss: 0.131 - ETA: 2:57 - loss: 0.131 - ETA: 2:56 - loss: 0.131 - ETA: 2:55 - loss: 0.132 - ETA: 2:55 - loss: 0.132 - ETA: 2:54 - loss: 0.131 - ETA: 2:53 - loss: 0.131 - ETA: 2:52 - loss: 0.131 - ETA: 2:51 - loss: 0.132 - ETA: 2:51 - loss: 0.132 - ETA: 2:50 - loss: 0.132 - ETA: 2:49 - loss: 0.133 - ETA: 2:48 - loss: 0.133 - ETA: 2:47 - loss: 0.133 - ETA: 2:47 - loss: 0.133 - ETA: 2:46 - loss: 0.134 - ETA: 2:45 - loss: 0.134 - ETA: 2:44 - loss: 0.133 - ETA: 2:43 - loss: 0.134 - ETA: 2:43 - loss: 0.133 - ETA: 2:42 - loss: 0.134 - ETA: 2:41 - loss: 0.133 - ETA: 2:40 - loss: 0.133 - ETA: 2:39 - loss: 0.133 - ETA: 2:38 - loss: 0.133 - ETA: 2:38 - loss: 0.133 - ETA: 2:37 - loss: 0.134 - ETA: 2:36 - loss: 0.134 - ETA: 2:35 - loss: 0.133 - ETA: 2:34 - loss: 0.133 - ETA: 2:33 - loss: 0.133 - ETA: 2:33 - loss: 0.134 - ETA: 2:32 - loss: 0.134 - ETA: 2:31 - loss: 0.134 - ETA: 2:30 - loss: 0.134 - ETA: 2:29 - loss: 0.134 - ETA: 2:28 - loss: 0.134 - ETA: 2:28 - loss: 0.134 - ETA: 2:27 - loss: 0.135 - ETA: 2:26 - loss: 0.135 - ETA: 2:25 - loss: 0.135 - ETA: 2:24 - loss: 0.136 - ETA: 2:23 - loss: 0.135 - ETA: 2:23 - loss: 0.136 - ETA: 2:22 - loss: 0.135 - ETA: 2:21 - loss: 0.136 - ETA: 2:20 - loss: 0.136 - ETA: 2:19 - loss: 0.136 - ETA: 2:18 - loss: 0.136 - ETA: 2:18 - loss: 0.135 - ETA: 2:17 - loss: 0.136 - ETA: 2:16 - loss: 0.135 - ETA: 2:15 - loss: 0.135 - ETA: 2:14 - loss: 0.135 - ETA: 2:13 - loss: 0.136 - ETA: 2:13 - loss: 0.136 - ETA: 2:12 - loss: 0.136 - ETA: 2:11 - loss: 0.136 - ETA: 2:10 - loss: 0.136 - ETA: 2:09 - loss: 0.136 - ETA: 2:08 - loss: 0.136 - ETA: 2:07 - loss: 0.136 - ETA: 2:07 - loss: 0.136 - ETA: 2:06 - loss: 0.136 - ETA: 2:05 - loss: 0.136 - ETA: 2:04 - loss: 0.136 - ETA: 2:03 - loss: 0.136 - ETA: 2:02 - loss: 0.136 - ETA: 2:02 - loss: 0.136 - ETA: 2:01 - loss: 0.136 - ETA: 2:00 - loss: 0.136 - ETA: 1:59 - loss: 0.136 - ETA: 1:58 - loss: 0.137 - ETA: 1:57 - loss: 0.136 - ETA: 1:57 - loss: 0.136 - ETA: 1:56 - loss: 0.136 - ETA: 1:55 - loss: 0.136 - ETA: 1:54 - loss: 0.136 - ETA: 1:53 - loss: 0.136 - ETA: 1:52 - loss: 0.137 - ETA: 1:52 - loss: 0.137 - ETA: 1:51 - loss: 0.137 - ETA: 1:50 - loss: 0.137 - ETA: 1:50 - loss: 0.137 - ETA: 1:49 - loss: 0.137 - ETA: 1:48 - loss: 0.137 - ETA: 1:47 - loss: 0.137 - ETA: 1:47 - loss: 0.137 - ETA: 1:46 - loss: 0.137 - ETA: 1:45 - loss: 0.137 - ETA: 1:44 - loss: 0.137 - ETA: 1:43 - loss: 0.137 - ETA: 1:42 - loss: 0.137 - ETA: 1:42 - loss: 0.137 - ETA: 1:41 - loss: 0.137 - ETA: 1:40 - loss: 0.137 - ETA: 1:39 - loss: 0.137 - ETA: 1:38 - loss: 0.137 - ETA: 1:38 - loss: 0.137 - ETA: 1:37 - loss: 0.137 - ETA: 1:36 - loss: 0.137 - ETA: 1:35 - loss: 0.136 - ETA: 1:34 - loss: 0.136 - ETA: 1:34 - loss: 0.136 - ETA: 1:33 - loss: 0.136 - ETA: 1:32 - loss: 0.136 - ETA: 1:31 - loss: 0.136 - ETA: 1:30 - loss: 0.136 - ETA: 1:29 - loss: 0.136 - ETA: 1:28 - loss: 0.136 - ETA: 1:28 - loss: 0.136 - ETA: 1:27 - loss: 0.136 - ETA: 1:26 - loss: 0.136 - ETA: 1:25 - loss: 0.136 - ETA: 1:24 - loss: 0.136 - ETA: 1:23 - loss: 0.136 - ETA: 1:23 - loss: 0.136 - ETA: 1:22 - loss: 0.136 - ETA: 1:21 - loss: 0.136 - ETA: 1:20 - loss: 0.136 - ETA: 1:19 - loss: 0.136 - ETA: 1:18 - loss: 0.136 - ETA: 1:17 - loss: 0.136 - ETA: 1:17 - loss: 0.136 - ETA: 1:16 - loss: 0.136 - ETA: 1:15 - loss: 0.135 - ETA: 1:14 - loss: 0.136 - ETA: 1:13 - loss: 0.135 - ETA: 1:12 - loss: 0.135 - ETA: 1:11 - loss: 0.135 - ETA: 1:11 - loss: 0.136 - ETA: 1:10 - loss: 0.136 - ETA: 1:09 - loss: 0.136 - ETA: 1:08 - loss: 0.136 - ETA: 1:07 - loss: 0.136 - ETA: 1:06 - loss: 0.136 - ETA: 1:06 - loss: 0.136 - ETA: 1:05 - loss: 0.136 - ETA: 1:04 - loss: 0.135 - ETA: 1:03 - loss: 0.136 - ETA: 1:02 - loss: 0.135 - ETA: 1:01 - loss: 0.135 - ETA: 1:00 - loss: 0.135 - ETA: 1:00 - loss: 0.135 - ETA: 59s - loss: 0.135 - ETA: 58s - loss: 0.13 - ETA: 57s - loss: 0.13 - ETA: 56s - loss: 0.13 - ETA: 55s - loss: 0.13 - ETA: 55s - loss: 0.13 - ETA: 54s - loss: 0.13 - ETA: 53s - loss: 0.13 - ETA: 52s - loss: 0.13 - ETA: 51s - loss: 0.13 - ETA: 50s - loss: 0.13 - ETA: 49s - loss: 0.13 - ETA: 49s - loss: 0.13 - ETA: 48s - loss: 0.13 - ETA: 47s - loss: 0.13 - ETA: 46s - loss: 0.13 - ETA: 45s - loss: 0.13 - ETA: 44s - loss: 0.13 - ETA: 44s - loss: 0.13 - ETA: 43s - loss: 0.13 - ETA: 42s - loss: 0.13 - ETA: 41s - loss: 0.13 - ETA: 40s - loss: 0.13 - ETA: 39s - loss: 0.13 - ETA: 38s - loss: 0.13 - ETA: 38s - loss: 0.13 - ETA: 37s - loss: 0.13 - ETA: 36s - loss: 0.13 - ETA: 35s - loss: 0.13 - ETA: 34s - loss: 0.13 - ETA: 33s - loss: 0.13 - ETA: 33s - loss: 0.13 - ETA: 32s - loss: 0.13 - ETA: 31s - loss: 0.13 - ETA: 30s - loss: 0.13 - ETA: 29s - loss: 0.13 - ETA: 28s - loss: 0.13 - ETA: 27s - loss: 0.13 - ETA: 27s - loss: 0.13 - ETA: 26s - loss: 0.13 - ETA: 25s - loss: 0.13 - ETA: 24s - loss: 0.13 - ETA: 23s - loss: 0.13 - ETA: 22s - loss: 0.13 - ETA: 22s - loss: 0.13 - ETA: 21s - loss: 0.13 - ETA: 20s - loss: 0.13 - ETA: 19s - loss: 0.13 - ETA: 18s - loss: 0.13 - ETA: 17s - loss: 0.13 - ETA: 17s - loss: 0.13 - ETA: 16s - loss: 0.13 - ETA: 15s - loss: 0.13 - ETA: 14s - loss: 0.13 - ETA: 13s - loss: 0.13 - ETA: 12s - loss: 0.13 - ETA: 11s - loss: 0.13 - ETA: 11s - loss: 0.13 - ETA: 10s - loss: 0.13 - ETA: 9s - loss: 0.1348 - ETA: 8s - loss: 0.134 - ETA: 7s - loss: 0.134 - ETA: 6s - loss: 0.134 - ETA: 6s - loss: 0.134 - ETA: 5s - loss: 0.134 - ETA: 4s - loss: 0.134 - ETA: 3s - loss: 0.134 - ETA: 2s - loss: 0.134 - ETA: 1s - loss: 0.134 - ETA: 1s - loss: 0.134 - ETA: 0s - loss: 0.134 - 206s 27ms/step - loss: 0.1344 - val_loss: 0.1366\n",
      "Epoch 6/12\n"
     ]
    },
    {
     "name": "stdout",
     "output_type": "stream",
     "text": [
      "7591/7591 [==============================] - ETA: 3:18 - loss: 0.173 - ETA: 3:16 - loss: 0.156 - ETA: 3:16 - loss: 0.149 - ETA: 3:15 - loss: 0.150 - ETA: 3:14 - loss: 0.149 - ETA: 3:14 - loss: 0.147 - ETA: 3:12 - loss: 0.145 - ETA: 3:12 - loss: 0.145 - ETA: 3:11 - loss: 0.142 - ETA: 3:10 - loss: 0.141 - ETA: 3:09 - loss: 0.141 - ETA: 3:08 - loss: 0.140 - ETA: 3:07 - loss: 0.138 - ETA: 3:07 - loss: 0.140 - ETA: 3:07 - loss: 0.138 - ETA: 3:06 - loss: 0.138 - ETA: 3:06 - loss: 0.138 - ETA: 3:05 - loss: 0.139 - ETA: 3:04 - loss: 0.137 - ETA: 3:03 - loss: 0.138 - ETA: 3:02 - loss: 0.138 - ETA: 3:01 - loss: 0.137 - ETA: 3:00 - loss: 0.136 - ETA: 2:59 - loss: 0.136 - ETA: 2:58 - loss: 0.136 - ETA: 2:57 - loss: 0.136 - ETA: 2:56 - loss: 0.136 - ETA: 2:56 - loss: 0.135 - ETA: 2:55 - loss: 0.135 - ETA: 2:54 - loss: 0.135 - ETA: 2:53 - loss: 0.135 - ETA: 2:52 - loss: 0.135 - ETA: 2:51 - loss: 0.135 - ETA: 2:51 - loss: 0.135 - ETA: 2:50 - loss: 0.136 - ETA: 2:49 - loss: 0.136 - ETA: 2:48 - loss: 0.136 - ETA: 2:47 - loss: 0.135 - ETA: 2:46 - loss: 0.135 - ETA: 2:45 - loss: 0.135 - ETA: 2:45 - loss: 0.134 - ETA: 2:44 - loss: 0.134 - ETA: 2:43 - loss: 0.134 - ETA: 2:42 - loss: 0.135 - ETA: 2:41 - loss: 0.134 - ETA: 2:40 - loss: 0.133 - ETA: 2:39 - loss: 0.133 - ETA: 2:39 - loss: 0.133 - ETA: 2:38 - loss: 0.133 - ETA: 2:37 - loss: 0.133 - ETA: 2:36 - loss: 0.133 - ETA: 2:35 - loss: 0.133 - ETA: 2:34 - loss: 0.132 - ETA: 2:34 - loss: 0.132 - ETA: 2:33 - loss: 0.132 - ETA: 2:32 - loss: 0.132 - ETA: 2:31 - loss: 0.132 - ETA: 2:30 - loss: 0.132 - ETA: 2:29 - loss: 0.132 - ETA: 2:28 - loss: 0.132 - ETA: 2:28 - loss: 0.132 - ETA: 2:27 - loss: 0.132 - ETA: 2:26 - loss: 0.131 - ETA: 2:25 - loss: 0.131 - ETA: 2:24 - loss: 0.131 - ETA: 2:23 - loss: 0.131 - ETA: 2:22 - loss: 0.131 - ETA: 2:22 - loss: 0.131 - ETA: 2:21 - loss: 0.131 - ETA: 2:20 - loss: 0.131 - ETA: 2:19 - loss: 0.131 - ETA: 2:18 - loss: 0.131 - ETA: 2:17 - loss: 0.131 - ETA: 2:17 - loss: 0.131 - ETA: 2:16 - loss: 0.131 - ETA: 2:15 - loss: 0.131 - ETA: 2:14 - loss: 0.131 - ETA: 2:13 - loss: 0.131 - ETA: 2:12 - loss: 0.131 - ETA: 2:12 - loss: 0.132 - ETA: 2:11 - loss: 0.132 - ETA: 2:10 - loss: 0.132 - ETA: 2:09 - loss: 0.132 - ETA: 2:08 - loss: 0.132 - ETA: 2:07 - loss: 0.132 - ETA: 2:06 - loss: 0.132 - ETA: 2:06 - loss: 0.132 - ETA: 2:05 - loss: 0.132 - ETA: 2:04 - loss: 0.131 - ETA: 2:03 - loss: 0.131 - ETA: 2:02 - loss: 0.131 - ETA: 2:01 - loss: 0.131 - ETA: 2:01 - loss: 0.131 - ETA: 2:00 - loss: 0.131 - ETA: 1:59 - loss: 0.131 - ETA: 1:58 - loss: 0.131 - ETA: 1:57 - loss: 0.131 - ETA: 1:56 - loss: 0.131 - ETA: 1:55 - loss: 0.131 - ETA: 1:55 - loss: 0.132 - ETA: 1:54 - loss: 0.132 - ETA: 1:53 - loss: 0.132 - ETA: 1:52 - loss: 0.131 - ETA: 1:51 - loss: 0.131 - ETA: 1:50 - loss: 0.132 - ETA: 1:50 - loss: 0.131 - ETA: 1:49 - loss: 0.132 - ETA: 1:48 - loss: 0.132 - ETA: 1:47 - loss: 0.132 - ETA: 1:46 - loss: 0.131 - ETA: 1:45 - loss: 0.131 - ETA: 1:44 - loss: 0.131 - ETA: 1:44 - loss: 0.131 - ETA: 1:43 - loss: 0.131 - ETA: 1:42 - loss: 0.131 - ETA: 1:41 - loss: 0.131 - ETA: 1:40 - loss: 0.131 - ETA: 1:39 - loss: 0.131 - ETA: 1:39 - loss: 0.131 - ETA: 1:38 - loss: 0.132 - ETA: 1:37 - loss: 0.131 - ETA: 1:36 - loss: 0.132 - ETA: 1:35 - loss: 0.132 - ETA: 1:34 - loss: 0.132 - ETA: 1:33 - loss: 0.132 - ETA: 1:33 - loss: 0.132 - ETA: 1:32 - loss: 0.132 - ETA: 1:31 - loss: 0.132 - ETA: 1:30 - loss: 0.132 - ETA: 1:29 - loss: 0.132 - ETA: 1:28 - loss: 0.132 - ETA: 1:28 - loss: 0.132 - ETA: 1:27 - loss: 0.132 - ETA: 1:26 - loss: 0.131 - ETA: 1:25 - loss: 0.132 - ETA: 1:24 - loss: 0.132 - ETA: 1:23 - loss: 0.131 - ETA: 1:23 - loss: 0.131 - ETA: 1:22 - loss: 0.131 - ETA: 1:21 - loss: 0.131 - ETA: 1:20 - loss: 0.131 - ETA: 1:19 - loss: 0.131 - ETA: 1:18 - loss: 0.131 - ETA: 1:18 - loss: 0.132 - ETA: 1:17 - loss: 0.132 - ETA: 1:16 - loss: 0.132 - ETA: 1:15 - loss: 0.132 - ETA: 1:14 - loss: 0.132 - ETA: 1:13 - loss: 0.131 - ETA: 1:13 - loss: 0.131 - ETA: 1:12 - loss: 0.131 - ETA: 1:11 - loss: 0.131 - ETA: 1:10 - loss: 0.131 - ETA: 1:09 - loss: 0.131 - ETA: 1:08 - loss: 0.131 - ETA: 1:08 - loss: 0.131 - ETA: 1:07 - loss: 0.131 - ETA: 1:06 - loss: 0.131 - ETA: 1:05 - loss: 0.131 - ETA: 1:04 - loss: 0.131 - ETA: 1:03 - loss: 0.131 - ETA: 1:03 - loss: 0.131 - ETA: 1:02 - loss: 0.131 - ETA: 1:01 - loss: 0.131 - ETA: 1:00 - loss: 0.131 - ETA: 59s - loss: 0.131 - ETA: 59s - loss: 0.13 - ETA: 58s - loss: 0.13 - ETA: 57s - loss: 0.13 - ETA: 56s - loss: 0.13 - ETA: 55s - loss: 0.13 - ETA: 54s - loss: 0.13 - ETA: 53s - loss: 0.13 - ETA: 53s - loss: 0.13 - ETA: 52s - loss: 0.13 - ETA: 51s - loss: 0.13 - ETA: 50s - loss: 0.13 - ETA: 49s - loss: 0.13 - ETA: 48s - loss: 0.13 - ETA: 48s - loss: 0.13 - ETA: 47s - loss: 0.13 - ETA: 46s - loss: 0.13 - ETA: 45s - loss: 0.13 - ETA: 44s - loss: 0.13 - ETA: 43s - loss: 0.13 - ETA: 43s - loss: 0.13 - ETA: 42s - loss: 0.13 - ETA: 41s - loss: 0.13 - ETA: 40s - loss: 0.13 - ETA: 39s - loss: 0.13 - ETA: 38s - loss: 0.13 - ETA: 37s - loss: 0.13 - ETA: 37s - loss: 0.13 - ETA: 36s - loss: 0.13 - ETA: 35s - loss: 0.13 - ETA: 34s - loss: 0.13 - ETA: 33s - loss: 0.13 - ETA: 32s - loss: 0.13 - ETA: 32s - loss: 0.13 - ETA: 31s - loss: 0.13 - ETA: 30s - loss: 0.13 - ETA: 29s - loss: 0.13 - ETA: 28s - loss: 0.13 - ETA: 27s - loss: 0.13 - ETA: 27s - loss: 0.13 - ETA: 26s - loss: 0.13 - ETA: 25s - loss: 0.13 - ETA: 24s - loss: 0.13 - ETA: 23s - loss: 0.13 - ETA: 22s - loss: 0.13 - ETA: 22s - loss: 0.13 - ETA: 21s - loss: 0.13 - ETA: 20s - loss: 0.13 - ETA: 19s - loss: 0.13 - ETA: 18s - loss: 0.13 - ETA: 17s - loss: 0.13 - ETA: 16s - loss: 0.13 - ETA: 16s - loss: 0.13 - ETA: 15s - loss: 0.13 - ETA: 14s - loss: 0.13 - ETA: 13s - loss: 0.13 - ETA: 12s - loss: 0.13 - ETA: 11s - loss: 0.13 - ETA: 11s - loss: 0.13 - ETA: 10s - loss: 0.13 - ETA: 9s - loss: 0.1313 - ETA: 8s - loss: 0.131 - ETA: 7s - loss: 0.131 - ETA: 6s - loss: 0.131 - ETA: 6s - loss: 0.131 - ETA: 5s - loss: 0.131 - ETA: 4s - loss: 0.131 - ETA: 3s - loss: 0.131 - ETA: 2s - loss: 0.131 - ETA: 1s - loss: 0.131 - ETA: 1s - loss: 0.131 - ETA: 0s - loss: 0.131 - 206s 27ms/step - loss: 0.1312 - val_loss: 0.1356\n",
      "Epoch 7/12\n"
     ]
    },
    {
     "name": "stdout",
     "output_type": "stream",
     "text": [
      "7591/7591 [==============================] - ETA: 3:24 - loss: 0.109 - ETA: 3:19 - loss: 0.112 - ETA: 3:18 - loss: 0.115 - ETA: 3:17 - loss: 0.116 - ETA: 3:16 - loss: 0.112 - ETA: 3:15 - loss: 0.112 - ETA: 3:13 - loss: 0.114 - ETA: 3:12 - loss: 0.113 - ETA: 3:11 - loss: 0.112 - ETA: 3:10 - loss: 0.113 - ETA: 3:10 - loss: 0.112 - ETA: 3:09 - loss: 0.113 - ETA: 3:08 - loss: 0.118 - ETA: 3:08 - loss: 0.119 - ETA: 3:06 - loss: 0.119 - ETA: 3:05 - loss: 0.121 - ETA: 3:05 - loss: 0.120 - ETA: 3:04 - loss: 0.120 - ETA: 3:03 - loss: 0.120 - ETA: 3:02 - loss: 0.121 - ETA: 3:01 - loss: 0.120 - ETA: 3:00 - loss: 0.121 - ETA: 2:59 - loss: 0.122 - ETA: 2:59 - loss: 0.123 - ETA: 2:58 - loss: 0.122 - ETA: 2:57 - loss: 0.122 - ETA: 2:56 - loss: 0.121 - ETA: 2:55 - loss: 0.120 - ETA: 2:54 - loss: 0.121 - ETA: 2:54 - loss: 0.121 - ETA: 2:53 - loss: 0.121 - ETA: 2:52 - loss: 0.122 - ETA: 2:51 - loss: 0.123 - ETA: 2:50 - loss: 0.123 - ETA: 2:49 - loss: 0.123 - ETA: 2:48 - loss: 0.123 - ETA: 2:47 - loss: 0.123 - ETA: 2:47 - loss: 0.123 - ETA: 2:46 - loss: 0.123 - ETA: 2:45 - loss: 0.123 - ETA: 2:44 - loss: 0.122 - ETA: 2:43 - loss: 0.123 - ETA: 2:42 - loss: 0.122 - ETA: 2:42 - loss: 0.123 - ETA: 2:41 - loss: 0.123 - ETA: 2:40 - loss: 0.123 - ETA: 2:39 - loss: 0.123 - ETA: 2:38 - loss: 0.123 - ETA: 2:37 - loss: 0.122 - ETA: 2:36 - loss: 0.123 - ETA: 2:35 - loss: 0.122 - ETA: 2:35 - loss: 0.122 - ETA: 2:34 - loss: 0.122 - ETA: 2:33 - loss: 0.122 - ETA: 2:32 - loss: 0.122 - ETA: 2:31 - loss: 0.122 - ETA: 2:31 - loss: 0.122 - ETA: 2:30 - loss: 0.122 - ETA: 2:29 - loss: 0.122 - ETA: 2:28 - loss: 0.122 - ETA: 2:27 - loss: 0.122 - ETA: 2:26 - loss: 0.121 - ETA: 2:26 - loss: 0.122 - ETA: 2:25 - loss: 0.122 - ETA: 2:24 - loss: 0.122 - ETA: 2:23 - loss: 0.122 - ETA: 2:22 - loss: 0.122 - ETA: 2:21 - loss: 0.122 - ETA: 2:20 - loss: 0.122 - ETA: 2:20 - loss: 0.122 - ETA: 2:19 - loss: 0.122 - ETA: 2:18 - loss: 0.122 - ETA: 2:17 - loss: 0.122 - ETA: 2:16 - loss: 0.122 - ETA: 2:15 - loss: 0.122 - ETA: 2:15 - loss: 0.122 - ETA: 2:14 - loss: 0.122 - ETA: 2:13 - loss: 0.123 - ETA: 2:12 - loss: 0.123 - ETA: 2:11 - loss: 0.123 - ETA: 2:11 - loss: 0.123 - ETA: 2:10 - loss: 0.124 - ETA: 2:09 - loss: 0.124 - ETA: 2:08 - loss: 0.124 - ETA: 2:07 - loss: 0.124 - ETA: 2:06 - loss: 0.124 - ETA: 2:05 - loss: 0.124 - ETA: 2:05 - loss: 0.124 - ETA: 2:04 - loss: 0.125 - ETA: 2:03 - loss: 0.125 - ETA: 2:02 - loss: 0.125 - ETA: 2:01 - loss: 0.125 - ETA: 2:00 - loss: 0.125 - ETA: 2:00 - loss: 0.125 - ETA: 1:59 - loss: 0.125 - ETA: 1:58 - loss: 0.125 - ETA: 1:57 - loss: 0.125 - ETA: 1:56 - loss: 0.125 - ETA: 1:55 - loss: 0.125 - ETA: 1:54 - loss: 0.124 - ETA: 1:54 - loss: 0.125 - ETA: 1:53 - loss: 0.125 - ETA: 1:52 - loss: 0.125 - ETA: 1:51 - loss: 0.125 - ETA: 1:50 - loss: 0.125 - ETA: 1:49 - loss: 0.125 - ETA: 1:49 - loss: 0.125 - ETA: 1:48 - loss: 0.125 - ETA: 1:47 - loss: 0.125 - ETA: 1:46 - loss: 0.125 - ETA: 1:45 - loss: 0.125 - ETA: 1:44 - loss: 0.125 - ETA: 1:44 - loss: 0.125 - ETA: 1:43 - loss: 0.125 - ETA: 1:42 - loss: 0.126 - ETA: 1:41 - loss: 0.126 - ETA: 1:40 - loss: 0.126 - ETA: 1:39 - loss: 0.125 - ETA: 1:39 - loss: 0.126 - ETA: 1:38 - loss: 0.126 - ETA: 1:37 - loss: 0.125 - ETA: 1:36 - loss: 0.125 - ETA: 1:35 - loss: 0.125 - ETA: 1:34 - loss: 0.126 - ETA: 1:34 - loss: 0.126 - ETA: 1:33 - loss: 0.126 - ETA: 1:32 - loss: 0.126 - ETA: 1:31 - loss: 0.126 - ETA: 1:30 - loss: 0.126 - ETA: 1:29 - loss: 0.126 - ETA: 1:29 - loss: 0.126 - ETA: 1:28 - loss: 0.126 - ETA: 1:27 - loss: 0.126 - ETA: 1:26 - loss: 0.126 - ETA: 1:25 - loss: 0.126 - ETA: 1:24 - loss: 0.126 - ETA: 1:23 - loss: 0.126 - ETA: 1:23 - loss: 0.126 - ETA: 1:22 - loss: 0.126 - ETA: 1:21 - loss: 0.126 - ETA: 1:20 - loss: 0.126 - ETA: 1:19 - loss: 0.126 - ETA: 1:18 - loss: 0.126 - ETA: 1:18 - loss: 0.126 - ETA: 1:17 - loss: 0.126 - ETA: 1:16 - loss: 0.126 - ETA: 1:15 - loss: 0.126 - ETA: 1:14 - loss: 0.126 - ETA: 1:13 - loss: 0.126 - ETA: 1:13 - loss: 0.126 - ETA: 1:12 - loss: 0.126 - ETA: 1:11 - loss: 0.126 - ETA: 1:10 - loss: 0.126 - ETA: 1:09 - loss: 0.126 - ETA: 1:08 - loss: 0.126 - ETA: 1:08 - loss: 0.126 - ETA: 1:07 - loss: 0.126 - ETA: 1:06 - loss: 0.126 - ETA: 1:05 - loss: 0.126 - ETA: 1:04 - loss: 0.126 - ETA: 1:03 - loss: 0.126 - ETA: 1:02 - loss: 0.126 - ETA: 1:02 - loss: 0.126 - ETA: 1:01 - loss: 0.126 - ETA: 1:00 - loss: 0.126 - ETA: 59s - loss: 0.126 - ETA: 58s - loss: 0.12 - ETA: 57s - loss: 0.12 - ETA: 57s - loss: 0.12 - ETA: 56s - loss: 0.12 - ETA: 55s - loss: 0.12 - ETA: 54s - loss: 0.12 - ETA: 53s - loss: 0.12 - ETA: 52s - loss: 0.12 - ETA: 52s - loss: 0.12 - ETA: 51s - loss: 0.12 - ETA: 50s - loss: 0.12 - ETA: 49s - loss: 0.12 - ETA: 48s - loss: 0.12 - ETA: 47s - loss: 0.12 - ETA: 47s - loss: 0.12 - ETA: 46s - loss: 0.12 - ETA: 45s - loss: 0.12 - ETA: 44s - loss: 0.12 - ETA: 43s - loss: 0.12 - ETA: 42s - loss: 0.12 - ETA: 42s - loss: 0.12 - ETA: 41s - loss: 0.12 - ETA: 40s - loss: 0.12 - ETA: 39s - loss: 0.12 - ETA: 38s - loss: 0.12 - ETA: 37s - loss: 0.12 - ETA: 37s - loss: 0.12 - ETA: 36s - loss: 0.12 - ETA: 35s - loss: 0.12 - ETA: 34s - loss: 0.12 - ETA: 33s - loss: 0.12 - ETA: 32s - loss: 0.12 - ETA: 32s - loss: 0.12 - ETA: 31s - loss: 0.12 - ETA: 30s - loss: 0.12 - ETA: 29s - loss: 0.12 - ETA: 28s - loss: 0.12 - ETA: 27s - loss: 0.12 - ETA: 26s - loss: 0.12 - ETA: 26s - loss: 0.12 - ETA: 25s - loss: 0.12 - ETA: 24s - loss: 0.12 - ETA: 23s - loss: 0.12 - ETA: 22s - loss: 0.12 - ETA: 21s - loss: 0.12 - ETA: 21s - loss: 0.12 - ETA: 20s - loss: 0.12 - ETA: 19s - loss: 0.12 - ETA: 18s - loss: 0.12 - ETA: 17s - loss: 0.12 - ETA: 16s - loss: 0.12 - ETA: 16s - loss: 0.12 - ETA: 15s - loss: 0.12 - ETA: 14s - loss: 0.12 - ETA: 13s - loss: 0.12 - ETA: 12s - loss: 0.12 - ETA: 11s - loss: 0.12 - ETA: 11s - loss: 0.12 - ETA: 10s - loss: 0.12 - ETA: 9s - loss: 0.1270 - ETA: 8s - loss: 0.127 - ETA: 7s - loss: 0.127 - ETA: 6s - loss: 0.127 - ETA: 6s - loss: 0.127 - ETA: 5s - loss: 0.127 - ETA: 4s - loss: 0.127 - ETA: 3s - loss: 0.127 - ETA: 2s - loss: 0.127 - ETA: 1s - loss: 0.127 - ETA: 1s - loss: 0.126 - ETA: 0s - loss: 0.127 - 205s 27ms/step - loss: 0.1270 - val_loss: 0.1299\n",
      "Epoch 8/12\n"
     ]
    },
    {
     "name": "stdout",
     "output_type": "stream",
     "text": [
      "7591/7591 [==============================] - ETA: 3:18 - loss: 0.125 - ETA: 3:17 - loss: 0.124 - ETA: 3:16 - loss: 0.121 - ETA: 3:14 - loss: 0.120 - ETA: 3:14 - loss: 0.120 - ETA: 3:13 - loss: 0.120 - ETA: 3:13 - loss: 0.122 - ETA: 3:12 - loss: 0.123 - ETA: 3:11 - loss: 0.124 - ETA: 3:10 - loss: 0.124 - ETA: 3:09 - loss: 0.124 - ETA: 3:08 - loss: 0.123 - ETA: 3:07 - loss: 0.122 - ETA: 3:06 - loss: 0.122 - ETA: 3:06 - loss: 0.123 - ETA: 3:06 - loss: 0.123 - ETA: 3:05 - loss: 0.122 - ETA: 3:04 - loss: 0.122 - ETA: 3:03 - loss: 0.122 - ETA: 3:02 - loss: 0.121 - ETA: 3:02 - loss: 0.121 - ETA: 3:01 - loss: 0.120 - ETA: 3:00 - loss: 0.119 - ETA: 2:59 - loss: 0.119 - ETA: 2:58 - loss: 0.117 - ETA: 2:57 - loss: 0.116 - ETA: 2:56 - loss: 0.117 - ETA: 2:56 - loss: 0.116 - ETA: 2:55 - loss: 0.116 - ETA: 2:54 - loss: 0.117 - ETA: 2:53 - loss: 0.117 - ETA: 2:52 - loss: 0.117 - ETA: 2:51 - loss: 0.117 - ETA: 2:50 - loss: 0.118 - ETA: 2:49 - loss: 0.118 - ETA: 2:48 - loss: 0.118 - ETA: 2:48 - loss: 0.119 - ETA: 2:47 - loss: 0.119 - ETA: 2:46 - loss: 0.120 - ETA: 2:45 - loss: 0.120 - ETA: 2:44 - loss: 0.120 - ETA: 2:43 - loss: 0.120 - ETA: 2:42 - loss: 0.121 - ETA: 2:42 - loss: 0.120 - ETA: 2:41 - loss: 0.120 - ETA: 2:40 - loss: 0.120 - ETA: 2:39 - loss: 0.120 - ETA: 2:38 - loss: 0.121 - ETA: 2:37 - loss: 0.121 - ETA: 2:37 - loss: 0.121 - ETA: 2:36 - loss: 0.121 - ETA: 2:35 - loss: 0.122 - ETA: 2:34 - loss: 0.121 - ETA: 2:33 - loss: 0.121 - ETA: 2:32 - loss: 0.122 - ETA: 2:32 - loss: 0.121 - ETA: 2:31 - loss: 0.122 - ETA: 2:30 - loss: 0.122 - ETA: 2:29 - loss: 0.122 - ETA: 2:28 - loss: 0.122 - ETA: 2:27 - loss: 0.122 - ETA: 2:26 - loss: 0.122 - ETA: 2:26 - loss: 0.123 - ETA: 2:25 - loss: 0.122 - ETA: 2:24 - loss: 0.122 - ETA: 2:23 - loss: 0.123 - ETA: 2:22 - loss: 0.123 - ETA: 2:21 - loss: 0.124 - ETA: 2:21 - loss: 0.124 - ETA: 2:20 - loss: 0.124 - ETA: 2:19 - loss: 0.124 - ETA: 2:18 - loss: 0.123 - ETA: 2:17 - loss: 0.123 - ETA: 2:16 - loss: 0.124 - ETA: 2:16 - loss: 0.123 - ETA: 2:15 - loss: 0.123 - ETA: 2:14 - loss: 0.123 - ETA: 2:13 - loss: 0.123 - ETA: 2:12 - loss: 0.123 - ETA: 2:11 - loss: 0.123 - ETA: 2:10 - loss: 0.123 - ETA: 2:10 - loss: 0.124 - ETA: 2:09 - loss: 0.123 - ETA: 2:08 - loss: 0.123 - ETA: 2:07 - loss: 0.123 - ETA: 2:06 - loss: 0.123 - ETA: 2:05 - loss: 0.123 - ETA: 2:05 - loss: 0.123 - ETA: 2:04 - loss: 0.123 - ETA: 2:03 - loss: 0.123 - ETA: 2:02 - loss: 0.122 - ETA: 2:01 - loss: 0.122 - ETA: 2:00 - loss: 0.122 - ETA: 2:00 - loss: 0.122 - ETA: 1:59 - loss: 0.122 - ETA: 1:58 - loss: 0.122 - ETA: 1:57 - loss: 0.122 - ETA: 1:56 - loss: 0.123 - ETA: 1:55 - loss: 0.122 - ETA: 1:55 - loss: 0.122 - ETA: 1:54 - loss: 0.122 - ETA: 1:53 - loss: 0.123 - ETA: 1:52 - loss: 0.122 - ETA: 1:51 - loss: 0.123 - ETA: 1:50 - loss: 0.123 - ETA: 1:49 - loss: 0.123 - ETA: 1:49 - loss: 0.122 - ETA: 1:48 - loss: 0.122 - ETA: 1:47 - loss: 0.123 - ETA: 1:46 - loss: 0.122 - ETA: 1:45 - loss: 0.123 - ETA: 1:44 - loss: 0.122 - ETA: 1:44 - loss: 0.122 - ETA: 1:43 - loss: 0.122 - ETA: 1:42 - loss: 0.122 - ETA: 1:41 - loss: 0.122 - ETA: 1:40 - loss: 0.122 - ETA: 1:39 - loss: 0.122 - ETA: 1:38 - loss: 0.122 - ETA: 1:38 - loss: 0.122 - ETA: 1:37 - loss: 0.122 - ETA: 1:36 - loss: 0.122 - ETA: 1:35 - loss: 0.122 - ETA: 1:34 - loss: 0.122 - ETA: 1:33 - loss: 0.122 - ETA: 1:33 - loss: 0.122 - ETA: 1:32 - loss: 0.122 - ETA: 1:31 - loss: 0.122 - ETA: 1:30 - loss: 0.122 - ETA: 1:29 - loss: 0.122 - ETA: 1:28 - loss: 0.122 - ETA: 1:28 - loss: 0.122 - ETA: 1:27 - loss: 0.122 - ETA: 1:26 - loss: 0.122 - ETA: 1:25 - loss: 0.122 - ETA: 1:24 - loss: 0.122 - ETA: 1:23 - loss: 0.122 - ETA: 1:23 - loss: 0.122 - ETA: 1:22 - loss: 0.122 - ETA: 1:21 - loss: 0.122 - ETA: 1:20 - loss: 0.122 - ETA: 1:19 - loss: 0.122 - ETA: 1:18 - loss: 0.122 - ETA: 1:18 - loss: 0.122 - ETA: 1:17 - loss: 0.122 - ETA: 1:16 - loss: 0.122 - ETA: 1:15 - loss: 0.122 - ETA: 1:14 - loss: 0.122 - ETA: 1:13 - loss: 0.122 - ETA: 1:12 - loss: 0.121 - ETA: 1:12 - loss: 0.122 - ETA: 1:11 - loss: 0.121 - ETA: 1:10 - loss: 0.121 - ETA: 1:09 - loss: 0.121 - ETA: 1:08 - loss: 0.121 - ETA: 1:07 - loss: 0.121 - ETA: 1:07 - loss: 0.121 - ETA: 1:06 - loss: 0.121 - ETA: 1:05 - loss: 0.121 - ETA: 1:04 - loss: 0.121 - ETA: 1:03 - loss: 0.121 - ETA: 1:02 - loss: 0.122 - ETA: 1:02 - loss: 0.121 - ETA: 1:01 - loss: 0.121 - ETA: 1:00 - loss: 0.121 - ETA: 59s - loss: 0.121 - ETA: 58s - loss: 0.12 - ETA: 57s - loss: 0.12 - ETA: 57s - loss: 0.12 - ETA: 56s - loss: 0.12 - ETA: 55s - loss: 0.12 - ETA: 54s - loss: 0.12 - ETA: 53s - loss: 0.12 - ETA: 52s - loss: 0.12 - ETA: 52s - loss: 0.12 - ETA: 51s - loss: 0.12 - ETA: 50s - loss: 0.12 - ETA: 49s - loss: 0.12 - ETA: 48s - loss: 0.12 - ETA: 47s - loss: 0.12 - ETA: 47s - loss: 0.12 - ETA: 46s - loss: 0.12 - ETA: 45s - loss: 0.12 - ETA: 44s - loss: 0.12 - ETA: 43s - loss: 0.12 - ETA: 42s - loss: 0.12 - ETA: 42s - loss: 0.12 - ETA: 41s - loss: 0.12 - ETA: 40s - loss: 0.12 - ETA: 39s - loss: 0.12 - ETA: 38s - loss: 0.12 - ETA: 37s - loss: 0.12 - ETA: 36s - loss: 0.12 - ETA: 36s - loss: 0.12 - ETA: 35s - loss: 0.12 - ETA: 34s - loss: 0.12 - ETA: 33s - loss: 0.12 - ETA: 32s - loss: 0.12 - ETA: 31s - loss: 0.12 - ETA: 31s - loss: 0.12 - ETA: 30s - loss: 0.12 - ETA: 29s - loss: 0.12 - ETA: 28s - loss: 0.12 - ETA: 27s - loss: 0.12 - ETA: 26s - loss: 0.12 - ETA: 26s - loss: 0.12 - ETA: 25s - loss: 0.12 - ETA: 24s - loss: 0.12 - ETA: 23s - loss: 0.12 - ETA: 22s - loss: 0.12 - ETA: 21s - loss: 0.12 - ETA: 21s - loss: 0.12 - ETA: 20s - loss: 0.12 - ETA: 19s - loss: 0.12 - ETA: 18s - loss: 0.12 - ETA: 17s - loss: 0.12 - ETA: 16s - loss: 0.12 - ETA: 16s - loss: 0.12 - ETA: 15s - loss: 0.12 - ETA: 14s - loss: 0.12 - ETA: 13s - loss: 0.12 - ETA: 12s - loss: 0.12 - ETA: 11s - loss: 0.12 - ETA: 11s - loss: 0.12 - ETA: 10s - loss: 0.12 - ETA: 9s - loss: 0.1219 - ETA: 8s - loss: 0.122 - ETA: 7s - loss: 0.121 - ETA: 6s - loss: 0.121 - ETA: 6s - loss: 0.122 - ETA: 5s - loss: 0.122 - ETA: 4s - loss: 0.121 - ETA: 3s - loss: 0.122 - ETA: 2s - loss: 0.122 - ETA: 1s - loss: 0.122 - ETA: 1s - loss: 0.122 - ETA: 0s - loss: 0.122 - 205s 27ms/step - loss: 0.1224 - val_loss: 0.1416\n",
      "Epoch 9/12\n"
     ]
    },
    {
     "name": "stdout",
     "output_type": "stream",
     "text": [
      "7591/7591 [==============================] - ETA: 3:19 - loss: 0.119 - ETA: 3:17 - loss: 0.119 - ETA: 3:15 - loss: 0.115 - ETA: 3:14 - loss: 0.112 - ETA: 3:14 - loss: 0.115 - ETA: 3:13 - loss: 0.115 - ETA: 3:12 - loss: 0.114 - ETA: 3:11 - loss: 0.114 - ETA: 3:10 - loss: 0.116 - ETA: 3:09 - loss: 0.115 - ETA: 3:08 - loss: 0.115 - ETA: 3:08 - loss: 0.116 - ETA: 3:07 - loss: 0.115 - ETA: 3:06 - loss: 0.115 - ETA: 3:05 - loss: 0.114 - ETA: 3:04 - loss: 0.114 - ETA: 3:03 - loss: 0.116 - ETA: 3:03 - loss: 0.116 - ETA: 3:02 - loss: 0.116 - ETA: 3:01 - loss: 0.116 - ETA: 3:00 - loss: 0.115 - ETA: 2:59 - loss: 0.115 - ETA: 2:59 - loss: 0.116 - ETA: 2:58 - loss: 0.116 - ETA: 2:57 - loss: 0.117 - ETA: 2:56 - loss: 0.117 - ETA: 2:55 - loss: 0.116 - ETA: 2:54 - loss: 0.117 - ETA: 2:54 - loss: 0.117 - ETA: 2:53 - loss: 0.117 - ETA: 2:52 - loss: 0.117 - ETA: 2:51 - loss: 0.117 - ETA: 2:50 - loss: 0.117 - ETA: 2:49 - loss: 0.116 - ETA: 2:49 - loss: 0.116 - ETA: 2:48 - loss: 0.116 - ETA: 2:47 - loss: 0.115 - ETA: 2:46 - loss: 0.115 - ETA: 2:45 - loss: 0.115 - ETA: 2:44 - loss: 0.115 - ETA: 2:43 - loss: 0.115 - ETA: 2:43 - loss: 0.115 - ETA: 2:42 - loss: 0.115 - ETA: 2:41 - loss: 0.116 - ETA: 2:40 - loss: 0.116 - ETA: 2:39 - loss: 0.117 - ETA: 2:38 - loss: 0.117 - ETA: 2:38 - loss: 0.118 - ETA: 2:37 - loss: 0.118 - ETA: 2:36 - loss: 0.118 - ETA: 2:35 - loss: 0.118 - ETA: 2:34 - loss: 0.118 - ETA: 2:33 - loss: 0.118 - ETA: 2:33 - loss: 0.118 - ETA: 2:32 - loss: 0.118 - ETA: 2:31 - loss: 0.118 - ETA: 2:30 - loss: 0.118 - ETA: 2:29 - loss: 0.118 - ETA: 2:28 - loss: 0.117 - ETA: 2:28 - loss: 0.117 - ETA: 2:27 - loss: 0.117 - ETA: 2:26 - loss: 0.117 - ETA: 2:25 - loss: 0.117 - ETA: 2:24 - loss: 0.117 - ETA: 2:23 - loss: 0.117 - ETA: 2:23 - loss: 0.118 - ETA: 2:22 - loss: 0.118 - ETA: 2:21 - loss: 0.118 - ETA: 2:20 - loss: 0.118 - ETA: 2:19 - loss: 0.118 - ETA: 2:18 - loss: 0.118 - ETA: 2:17 - loss: 0.118 - ETA: 2:17 - loss: 0.118 - ETA: 2:16 - loss: 0.118 - ETA: 2:15 - loss: 0.118 - ETA: 2:14 - loss: 0.118 - ETA: 2:13 - loss: 0.118 - ETA: 2:12 - loss: 0.118 - ETA: 2:12 - loss: 0.118 - ETA: 2:11 - loss: 0.118 - ETA: 2:10 - loss: 0.118 - ETA: 2:09 - loss: 0.118 - ETA: 2:08 - loss: 0.118 - ETA: 2:08 - loss: 0.117 - ETA: 2:07 - loss: 0.118 - ETA: 2:06 - loss: 0.118 - ETA: 2:05 - loss: 0.117 - ETA: 2:04 - loss: 0.118 - ETA: 2:03 - loss: 0.117 - ETA: 2:02 - loss: 0.117 - ETA: 2:02 - loss: 0.117 - ETA: 2:01 - loss: 0.117 - ETA: 2:00 - loss: 0.117 - ETA: 1:59 - loss: 0.117 - ETA: 1:58 - loss: 0.117 - ETA: 1:57 - loss: 0.117 - ETA: 1:57 - loss: 0.117 - ETA: 1:56 - loss: 0.117 - ETA: 1:55 - loss: 0.117 - ETA: 1:54 - loss: 0.117 - ETA: 1:53 - loss: 0.117 - ETA: 1:53 - loss: 0.117 - ETA: 1:52 - loss: 0.117 - ETA: 1:51 - loss: 0.117 - ETA: 1:50 - loss: 0.117 - ETA: 1:49 - loss: 0.117 - ETA: 1:48 - loss: 0.117 - ETA: 1:47 - loss: 0.117 - ETA: 1:47 - loss: 0.117 - ETA: 1:46 - loss: 0.117 - ETA: 1:45 - loss: 0.117 - ETA: 1:44 - loss: 0.117 - ETA: 1:43 - loss: 0.117 - ETA: 1:42 - loss: 0.117 - ETA: 1:42 - loss: 0.116 - ETA: 1:41 - loss: 0.116 - ETA: 1:40 - loss: 0.116 - ETA: 1:39 - loss: 0.116 - ETA: 1:38 - loss: 0.116 - ETA: 1:37 - loss: 0.116 - ETA: 1:37 - loss: 0.116 - ETA: 1:36 - loss: 0.116 - ETA: 1:35 - loss: 0.116 - ETA: 1:34 - loss: 0.116 - ETA: 1:33 - loss: 0.116 - ETA: 1:32 - loss: 0.116 - ETA: 1:32 - loss: 0.116 - ETA: 1:31 - loss: 0.116 - ETA: 1:30 - loss: 0.116 - ETA: 1:29 - loss: 0.116 - ETA: 1:28 - loss: 0.116 - ETA: 1:27 - loss: 0.116 - ETA: 1:27 - loss: 0.116 - ETA: 1:26 - loss: 0.116 - ETA: 1:25 - loss: 0.116 - ETA: 1:24 - loss: 0.116 - ETA: 1:23 - loss: 0.116 - ETA: 1:23 - loss: 0.116 - ETA: 1:22 - loss: 0.116 - ETA: 1:21 - loss: 0.116 - ETA: 1:20 - loss: 0.116 - ETA: 1:19 - loss: 0.116 - ETA: 1:18 - loss: 0.116 - ETA: 1:18 - loss: 0.116 - ETA: 1:17 - loss: 0.116 - ETA: 1:16 - loss: 0.116 - ETA: 1:15 - loss: 0.116 - ETA: 1:14 - loss: 0.117 - ETA: 1:13 - loss: 0.117 - ETA: 1:12 - loss: 0.117 - ETA: 1:12 - loss: 0.117 - ETA: 1:11 - loss: 0.117 - ETA: 1:10 - loss: 0.117 - ETA: 1:09 - loss: 0.117 - ETA: 1:08 - loss: 0.117 - ETA: 1:07 - loss: 0.117 - ETA: 1:07 - loss: 0.117 - ETA: 1:06 - loss: 0.117 - ETA: 1:05 - loss: 0.117 - ETA: 1:04 - loss: 0.117 - ETA: 1:03 - loss: 0.117 - ETA: 1:02 - loss: 0.117 - ETA: 1:02 - loss: 0.117 - ETA: 1:01 - loss: 0.117 - ETA: 1:00 - loss: 0.117 - ETA: 59s - loss: 0.117 - ETA: 58s - loss: 0.11 - ETA: 57s - loss: 0.11 - ETA: 57s - loss: 0.11 - ETA: 56s - loss: 0.11 - ETA: 55s - loss: 0.11 - ETA: 54s - loss: 0.11 - ETA: 53s - loss: 0.11 - ETA: 52s - loss: 0.11 - ETA: 52s - loss: 0.11 - ETA: 51s - loss: 0.11 - ETA: 50s - loss: 0.11 - ETA: 49s - loss: 0.11 - ETA: 48s - loss: 0.11 - ETA: 47s - loss: 0.11 - ETA: 47s - loss: 0.11 - ETA: 46s - loss: 0.11 - ETA: 45s - loss: 0.11 - ETA: 44s - loss: 0.11 - ETA: 43s - loss: 0.11 - ETA: 42s - loss: 0.11 - ETA: 42s - loss: 0.11 - ETA: 41s - loss: 0.11 - ETA: 40s - loss: 0.11 - ETA: 39s - loss: 0.11 - ETA: 38s - loss: 0.11 - ETA: 37s - loss: 0.11 - ETA: 36s - loss: 0.11 - ETA: 36s - loss: 0.11 - ETA: 35s - loss: 0.11 - ETA: 34s - loss: 0.11 - ETA: 33s - loss: 0.11 - ETA: 32s - loss: 0.11 - ETA: 31s - loss: 0.11 - ETA: 31s - loss: 0.11 - ETA: 30s - loss: 0.11 - ETA: 29s - loss: 0.11 - ETA: 28s - loss: 0.11 - ETA: 27s - loss: 0.11 - ETA: 26s - loss: 0.11 - ETA: 26s - loss: 0.11 - ETA: 25s - loss: 0.11 - ETA: 24s - loss: 0.11 - ETA: 23s - loss: 0.11 - ETA: 22s - loss: 0.11 - ETA: 21s - loss: 0.11 - ETA: 21s - loss: 0.11 - ETA: 20s - loss: 0.11 - ETA: 19s - loss: 0.11 - ETA: 18s - loss: 0.11 - ETA: 17s - loss: 0.11 - ETA: 16s - loss: 0.11 - ETA: 16s - loss: 0.11 - ETA: 15s - loss: 0.11 - ETA: 14s - loss: 0.11 - ETA: 13s - loss: 0.11 - ETA: 12s - loss: 0.11 - ETA: 11s - loss: 0.11 - ETA: 11s - loss: 0.11 - ETA: 10s - loss: 0.11 - ETA: 9s - loss: 0.1171 - ETA: 8s - loss: 0.117 - ETA: 7s - loss: 0.117 - ETA: 6s - loss: 0.117 - ETA: 6s - loss: 0.117 - ETA: 5s - loss: 0.117 - ETA: 4s - loss: 0.117 - ETA: 3s - loss: 0.117 - ETA: 2s - loss: 0.117 - ETA: 1s - loss: 0.117 - ETA: 1s - loss: 0.117 - ETA: 0s - loss: 0.117 - 205s 27ms/step - loss: 0.1174 - val_loss: 0.1333\n",
      "Epoch 10/12\n"
     ]
    },
    {
     "name": "stdout",
     "output_type": "stream",
     "text": [
      "7591/7591 [==============================] - ETA: 3:18 - loss: 0.120 - ETA: 3:19 - loss: 0.112 - ETA: 3:18 - loss: 0.109 - ETA: 3:16 - loss: 0.107 - ETA: 3:15 - loss: 0.106 - ETA: 3:14 - loss: 0.111 - ETA: 3:13 - loss: 0.110 - ETA: 3:13 - loss: 0.110 - ETA: 3:12 - loss: 0.109 - ETA: 3:11 - loss: 0.110 - ETA: 3:10 - loss: 0.111 - ETA: 3:09 - loss: 0.111 - ETA: 3:08 - loss: 0.110 - ETA: 3:06 - loss: 0.109 - ETA: 3:06 - loss: 0.109 - ETA: 3:05 - loss: 0.109 - ETA: 3:04 - loss: 0.109 - ETA: 3:03 - loss: 0.111 - ETA: 3:02 - loss: 0.112 - ETA: 3:01 - loss: 0.112 - ETA: 3:01 - loss: 0.113 - ETA: 3:00 - loss: 0.114 - ETA: 2:59 - loss: 0.113 - ETA: 2:58 - loss: 0.113 - ETA: 2:57 - loss: 0.112 - ETA: 2:57 - loss: 0.113 - ETA: 2:56 - loss: 0.112 - ETA: 2:55 - loss: 0.113 - ETA: 2:54 - loss: 0.112 - ETA: 2:53 - loss: 0.113 - ETA: 2:52 - loss: 0.114 - ETA: 2:51 - loss: 0.113 - ETA: 2:50 - loss: 0.113 - ETA: 2:50 - loss: 0.113 - ETA: 2:49 - loss: 0.113 - ETA: 2:48 - loss: 0.113 - ETA: 2:47 - loss: 0.114 - ETA: 2:47 - loss: 0.114 - ETA: 2:46 - loss: 0.114 - ETA: 2:45 - loss: 0.114 - ETA: 2:44 - loss: 0.114 - ETA: 2:43 - loss: 0.114 - ETA: 2:42 - loss: 0.114 - ETA: 2:41 - loss: 0.114 - ETA: 2:41 - loss: 0.114 - ETA: 2:40 - loss: 0.114 - ETA: 2:39 - loss: 0.114 - ETA: 2:38 - loss: 0.115 - ETA: 2:37 - loss: 0.115 - ETA: 2:36 - loss: 0.115 - ETA: 2:35 - loss: 0.114 - ETA: 2:35 - loss: 0.115 - ETA: 2:34 - loss: 0.115 - ETA: 2:33 - loss: 0.114 - ETA: 2:32 - loss: 0.114 - ETA: 2:31 - loss: 0.114 - ETA: 2:30 - loss: 0.114 - ETA: 2:30 - loss: 0.114 - ETA: 2:29 - loss: 0.114 - ETA: 2:28 - loss: 0.113 - ETA: 2:27 - loss: 0.113 - ETA: 2:26 - loss: 0.113 - ETA: 2:25 - loss: 0.113 - ETA: 2:24 - loss: 0.112 - ETA: 2:24 - loss: 0.112 - ETA: 2:23 - loss: 0.112 - ETA: 2:22 - loss: 0.112 - ETA: 2:21 - loss: 0.112 - ETA: 2:20 - loss: 0.112 - ETA: 2:19 - loss: 0.112 - ETA: 2:19 - loss: 0.112 - ETA: 2:18 - loss: 0.112 - ETA: 2:17 - loss: 0.112 - ETA: 2:16 - loss: 0.112 - ETA: 2:15 - loss: 0.112 - ETA: 2:14 - loss: 0.112 - ETA: 2:14 - loss: 0.112 - ETA: 2:13 - loss: 0.112 - ETA: 2:12 - loss: 0.112 - ETA: 2:11 - loss: 0.112 - ETA: 2:10 - loss: 0.112 - ETA: 2:10 - loss: 0.112 - ETA: 2:09 - loss: 0.111 - ETA: 2:08 - loss: 0.112 - ETA: 2:07 - loss: 0.112 - ETA: 2:06 - loss: 0.112 - ETA: 2:05 - loss: 0.112 - ETA: 2:05 - loss: 0.112 - ETA: 2:04 - loss: 0.112 - ETA: 2:03 - loss: 0.112 - ETA: 2:02 - loss: 0.112 - ETA: 2:01 - loss: 0.112 - ETA: 2:00 - loss: 0.112 - ETA: 2:00 - loss: 0.112 - ETA: 1:59 - loss: 0.112 - ETA: 1:58 - loss: 0.112 - ETA: 1:57 - loss: 0.112 - ETA: 1:56 - loss: 0.112 - ETA: 1:55 - loss: 0.112 - ETA: 1:55 - loss: 0.112 - ETA: 1:54 - loss: 0.112 - ETA: 1:53 - loss: 0.112 - ETA: 1:52 - loss: 0.112 - ETA: 1:51 - loss: 0.112 - ETA: 1:50 - loss: 0.112 - ETA: 1:50 - loss: 0.112 - ETA: 1:49 - loss: 0.112 - ETA: 1:48 - loss: 0.112 - ETA: 1:47 - loss: 0.112 - ETA: 1:46 - loss: 0.112 - ETA: 1:45 - loss: 0.112 - ETA: 1:45 - loss: 0.112 - ETA: 1:44 - loss: 0.112 - ETA: 1:43 - loss: 0.112 - ETA: 1:42 - loss: 0.112 - ETA: 1:41 - loss: 0.112 - ETA: 1:40 - loss: 0.112 - ETA: 1:40 - loss: 0.112 - ETA: 1:39 - loss: 0.112 - ETA: 1:38 - loss: 0.111 - ETA: 1:37 - loss: 0.111 - ETA: 1:36 - loss: 0.111 - ETA: 1:35 - loss: 0.111 - ETA: 1:34 - loss: 0.111 - ETA: 1:34 - loss: 0.111 - ETA: 1:33 - loss: 0.111 - ETA: 1:32 - loss: 0.112 - ETA: 1:31 - loss: 0.112 - ETA: 1:30 - loss: 0.112 - ETA: 1:29 - loss: 0.112 - ETA: 1:29 - loss: 0.112 - ETA: 1:28 - loss: 0.112 - ETA: 1:27 - loss: 0.112 - ETA: 1:26 - loss: 0.112 - ETA: 1:25 - loss: 0.112 - ETA: 1:24 - loss: 0.112 - ETA: 1:24 - loss: 0.112 - ETA: 1:23 - loss: 0.111 - ETA: 1:22 - loss: 0.111 - ETA: 1:21 - loss: 0.111 - ETA: 1:20 - loss: 0.111 - ETA: 1:19 - loss: 0.111 - ETA: 1:18 - loss: 0.111 - ETA: 1:18 - loss: 0.111 - ETA: 1:17 - loss: 0.111 - ETA: 1:16 - loss: 0.111 - ETA: 1:15 - loss: 0.111 - ETA: 1:14 - loss: 0.111 - ETA: 1:13 - loss: 0.111 - ETA: 1:13 - loss: 0.111 - ETA: 1:12 - loss: 0.111 - ETA: 1:11 - loss: 0.111 - ETA: 1:10 - loss: 0.111 - ETA: 1:09 - loss: 0.111 - ETA: 1:08 - loss: 0.111 - ETA: 1:08 - loss: 0.111 - ETA: 1:07 - loss: 0.111 - ETA: 1:06 - loss: 0.111 - ETA: 1:05 - loss: 0.111 - ETA: 1:04 - loss: 0.111 - ETA: 1:03 - loss: 0.111 - ETA: 1:03 - loss: 0.111 - ETA: 1:02 - loss: 0.111 - ETA: 1:01 - loss: 0.111 - ETA: 1:00 - loss: 0.111 - ETA: 59s - loss: 0.111 - ETA: 58s - loss: 0.11 - ETA: 57s - loss: 0.11 - ETA: 57s - loss: 0.11 - ETA: 56s - loss: 0.11 - ETA: 55s - loss: 0.11 - ETA: 54s - loss: 0.11 - ETA: 53s - loss: 0.11 - ETA: 52s - loss: 0.11 - ETA: 52s - loss: 0.11 - ETA: 51s - loss: 0.11 - ETA: 50s - loss: 0.11 - ETA: 49s - loss: 0.11 - ETA: 48s - loss: 0.11 - ETA: 47s - loss: 0.11 - ETA: 47s - loss: 0.11 - ETA: 46s - loss: 0.11 - ETA: 45s - loss: 0.11 - ETA: 44s - loss: 0.11 - ETA: 43s - loss: 0.11 - ETA: 42s - loss: 0.11 - ETA: 42s - loss: 0.11 - ETA: 41s - loss: 0.11 - ETA: 40s - loss: 0.11 - ETA: 39s - loss: 0.11 - ETA: 38s - loss: 0.11 - ETA: 37s - loss: 0.11 - ETA: 37s - loss: 0.11 - ETA: 36s - loss: 0.11 - ETA: 35s - loss: 0.11 - ETA: 34s - loss: 0.11 - ETA: 33s - loss: 0.11 - ETA: 32s - loss: 0.11 - ETA: 32s - loss: 0.11 - ETA: 31s - loss: 0.11 - ETA: 30s - loss: 0.11 - ETA: 29s - loss: 0.11 - ETA: 28s - loss: 0.11 - ETA: 27s - loss: 0.11 - ETA: 26s - loss: 0.11 - ETA: 26s - loss: 0.11 - ETA: 25s - loss: 0.11 - ETA: 24s - loss: 0.11 - ETA: 23s - loss: 0.11 - ETA: 22s - loss: 0.11 - ETA: 21s - loss: 0.11 - ETA: 21s - loss: 0.11 - ETA: 20s - loss: 0.11 - ETA: 19s - loss: 0.11 - ETA: 18s - loss: 0.11 - ETA: 17s - loss: 0.11 - ETA: 16s - loss: 0.11 - ETA: 16s - loss: 0.11 - ETA: 15s - loss: 0.11 - ETA: 14s - loss: 0.11 - ETA: 13s - loss: 0.11 - ETA: 12s - loss: 0.11 - ETA: 11s - loss: 0.11 - ETA: 11s - loss: 0.11 - ETA: 10s - loss: 0.11 - ETA: 9s - loss: 0.1117 - ETA: 8s - loss: 0.111 - ETA: 7s - loss: 0.111 - ETA: 6s - loss: 0.111 - ETA: 6s - loss: 0.111 - ETA: 5s - loss: 0.111 - ETA: 4s - loss: 0.111 - ETA: 3s - loss: 0.111 - ETA: 2s - loss: 0.111 - ETA: 1s - loss: 0.111 - ETA: 1s - loss: 0.111 - ETA: 0s - loss: 0.111 - 205s 27ms/step - loss: 0.1117 - val_loss: 0.1360\n",
      "Epoch 11/12\n"
     ]
    },
    {
     "name": "stdout",
     "output_type": "stream",
     "text": [
      "7591/7591 [==============================] - ETA: 3:17 - loss: 0.101 - ETA: 3:18 - loss: 0.104 - ETA: 3:17 - loss: 0.098 - ETA: 3:16 - loss: 0.096 - ETA: 3:15 - loss: 0.099 - ETA: 3:14 - loss: 0.101 - ETA: 3:13 - loss: 0.106 - ETA: 3:12 - loss: 0.106 - ETA: 3:12 - loss: 0.103 - ETA: 3:11 - loss: 0.105 - ETA: 3:10 - loss: 0.105 - ETA: 3:09 - loss: 0.104 - ETA: 3:08 - loss: 0.103 - ETA: 3:07 - loss: 0.103 - ETA: 3:06 - loss: 0.102 - ETA: 3:05 - loss: 0.101 - ETA: 3:04 - loss: 0.101 - ETA: 3:03 - loss: 0.101 - ETA: 3:02 - loss: 0.101 - ETA: 3:01 - loss: 0.102 - ETA: 3:01 - loss: 0.102 - ETA: 3:00 - loss: 0.102 - ETA: 2:59 - loss: 0.102 - ETA: 2:58 - loss: 0.102 - ETA: 2:57 - loss: 0.102 - ETA: 2:56 - loss: 0.103 - ETA: 2:55 - loss: 0.104 - ETA: 2:54 - loss: 0.104 - ETA: 2:54 - loss: 0.105 - ETA: 2:53 - loss: 0.105 - ETA: 2:52 - loss: 0.106 - ETA: 2:51 - loss: 0.105 - ETA: 2:50 - loss: 0.105 - ETA: 2:50 - loss: 0.105 - ETA: 2:49 - loss: 0.105 - ETA: 2:48 - loss: 0.105 - ETA: 2:47 - loss: 0.105 - ETA: 2:46 - loss: 0.104 - ETA: 2:46 - loss: 0.104 - ETA: 2:45 - loss: 0.104 - ETA: 2:44 - loss: 0.105 - ETA: 2:43 - loss: 0.104 - ETA: 2:42 - loss: 0.105 - ETA: 2:41 - loss: 0.105 - ETA: 2:40 - loss: 0.105 - ETA: 2:40 - loss: 0.104 - ETA: 2:39 - loss: 0.104 - ETA: 2:38 - loss: 0.104 - ETA: 2:37 - loss: 0.104 - ETA: 2:36 - loss: 0.104 - ETA: 2:36 - loss: 0.104 - ETA: 2:35 - loss: 0.103 - ETA: 2:34 - loss: 0.103 - ETA: 2:33 - loss: 0.103 - ETA: 2:32 - loss: 0.104 - ETA: 2:31 - loss: 0.104 - ETA: 2:31 - loss: 0.104 - ETA: 2:30 - loss: 0.104 - ETA: 2:29 - loss: 0.103 - ETA: 2:28 - loss: 0.103 - ETA: 2:27 - loss: 0.103 - ETA: 2:26 - loss: 0.103 - ETA: 2:25 - loss: 0.103 - ETA: 2:25 - loss: 0.104 - ETA: 2:24 - loss: 0.104 - ETA: 2:23 - loss: 0.105 - ETA: 2:22 - loss: 0.105 - ETA: 2:21 - loss: 0.105 - ETA: 2:20 - loss: 0.105 - ETA: 2:20 - loss: 0.105 - ETA: 2:19 - loss: 0.105 - ETA: 2:18 - loss: 0.105 - ETA: 2:17 - loss: 0.105 - ETA: 2:16 - loss: 0.105 - ETA: 2:15 - loss: 0.105 - ETA: 2:15 - loss: 0.105 - ETA: 2:14 - loss: 0.105 - ETA: 2:13 - loss: 0.105 - ETA: 2:12 - loss: 0.105 - ETA: 2:11 - loss: 0.105 - ETA: 2:10 - loss: 0.105 - ETA: 2:10 - loss: 0.105 - ETA: 2:09 - loss: 0.105 - ETA: 2:08 - loss: 0.105 - ETA: 2:07 - loss: 0.105 - ETA: 2:06 - loss: 0.105 - ETA: 2:05 - loss: 0.105 - ETA: 2:05 - loss: 0.105 - ETA: 2:04 - loss: 0.105 - ETA: 2:03 - loss: 0.105 - ETA: 2:02 - loss: 0.106 - ETA: 2:01 - loss: 0.106 - ETA: 2:00 - loss: 0.106 - ETA: 1:59 - loss: 0.106 - ETA: 1:59 - loss: 0.106 - ETA: 1:58 - loss: 0.106 - ETA: 1:57 - loss: 0.106 - ETA: 1:56 - loss: 0.106 - ETA: 1:55 - loss: 0.105 - ETA: 1:54 - loss: 0.106 - ETA: 1:54 - loss: 0.105 - ETA: 1:53 - loss: 0.105 - ETA: 1:52 - loss: 0.105 - ETA: 1:51 - loss: 0.105 - ETA: 1:50 - loss: 0.105 - ETA: 1:49 - loss: 0.105 - ETA: 1:48 - loss: 0.105 - ETA: 1:48 - loss: 0.105 - ETA: 1:47 - loss: 0.105 - ETA: 1:46 - loss: 0.105 - ETA: 1:45 - loss: 0.106 - ETA: 1:44 - loss: 0.106 - ETA: 1:43 - loss: 0.106 - ETA: 1:43 - loss: 0.106 - ETA: 1:42 - loss: 0.106 - ETA: 1:41 - loss: 0.106 - ETA: 1:40 - loss: 0.106 - ETA: 1:39 - loss: 0.106 - ETA: 1:38 - loss: 0.106 - ETA: 1:38 - loss: 0.106 - ETA: 1:37 - loss: 0.106 - ETA: 1:37 - loss: 0.105 - ETA: 1:36 - loss: 0.105 - ETA: 1:36 - loss: 0.105 - ETA: 1:36 - loss: 0.106 - ETA: 1:35 - loss: 0.105 - ETA: 1:35 - loss: 0.105 - ETA: 1:34 - loss: 0.106 - ETA: 1:34 - loss: 0.105 - ETA: 1:33 - loss: 0.105 - ETA: 1:33 - loss: 0.105 - ETA: 1:32 - loss: 0.106 - ETA: 1:32 - loss: 0.105 - ETA: 1:31 - loss: 0.105 - ETA: 1:31 - loss: 0.106 - ETA: 1:30 - loss: 0.105 - ETA: 1:30 - loss: 0.105 - ETA: 1:29 - loss: 0.105 - ETA: 1:29 - loss: 0.106 - ETA: 1:28 - loss: 0.106 - ETA: 1:28 - loss: 0.106 - ETA: 1:27 - loss: 0.106 - ETA: 1:26 - loss: 0.106 - ETA: 1:26 - loss: 0.106 - ETA: 1:25 - loss: 0.106 - ETA: 1:24 - loss: 0.106 - ETA: 1:24 - loss: 0.106 - ETA: 1:23 - loss: 0.106 - ETA: 1:22 - loss: 0.106 - ETA: 1:22 - loss: 0.105 - ETA: 1:21 - loss: 0.106 - ETA: 1:20 - loss: 0.106 - ETA: 1:19 - loss: 0.105 - ETA: 1:19 - loss: 0.105 - ETA: 1:18 - loss: 0.105 - ETA: 1:17 - loss: 0.105 - ETA: 1:17 - loss: 0.105 - ETA: 1:16 - loss: 0.105 - ETA: 1:15 - loss: 0.105 - ETA: 1:14 - loss: 0.105 - ETA: 1:13 - loss: 0.105 - ETA: 1:13 - loss: 0.105 - ETA: 1:12 - loss: 0.105 - ETA: 1:11 - loss: 0.106 - ETA: 1:10 - loss: 0.106 - ETA: 1:09 - loss: 0.106 - ETA: 1:09 - loss: 0.106 - ETA: 1:08 - loss: 0.106 - ETA: 1:07 - loss: 0.105 - ETA: 1:06 - loss: 0.105 - ETA: 1:05 - loss: 0.105 - ETA: 1:04 - loss: 0.105 - ETA: 1:03 - loss: 0.105 - ETA: 1:03 - loss: 0.106 - ETA: 1:02 - loss: 0.106 - ETA: 1:01 - loss: 0.106 - ETA: 1:00 - loss: 0.105 - ETA: 59s - loss: 0.106 - ETA: 58s - loss: 0.10 - ETA: 57s - loss: 0.10 - ETA: 56s - loss: 0.10 - ETA: 55s - loss: 0.10 - ETA: 55s - loss: 0.10 - ETA: 54s - loss: 0.10 - ETA: 53s - loss: 0.10 - ETA: 52s - loss: 0.10 - ETA: 51s - loss: 0.10 - ETA: 50s - loss: 0.10 - ETA: 49s - loss: 0.10 - ETA: 48s - loss: 0.10 - ETA: 47s - loss: 0.10 - ETA: 46s - loss: 0.10 - ETA: 45s - loss: 0.10 - ETA: 44s - loss: 0.10 - ETA: 43s - loss: 0.10 - ETA: 42s - loss: 0.10 - ETA: 41s - loss: 0.10 - ETA: 40s - loss: 0.10 - ETA: 39s - loss: 0.10 - ETA: 38s - loss: 0.10 - ETA: 37s - loss: 0.10 - ETA: 36s - loss: 0.10 - ETA: 35s - loss: 0.10 - ETA: 34s - loss: 0.10 - ETA: 33s - loss: 0.10 - ETA: 32s - loss: 0.10 - ETA: 31s - loss: 0.10 - ETA: 30s - loss: 0.10 - ETA: 29s - loss: 0.10 - ETA: 28s - loss: 0.10 - ETA: 27s - loss: 0.10 - ETA: 26s - loss: 0.10 - ETA: 25s - loss: 0.10 - ETA: 24s - loss: 0.10 - ETA: 23s - loss: 0.10 - ETA: 22s - loss: 0.10 - ETA: 21s - loss: 0.10 - ETA: 20s - loss: 0.10 - ETA: 19s - loss: 0.10 - ETA: 18s - loss: 0.10 - ETA: 17s - loss: 0.10 - ETA: 16s - loss: 0.10 - ETA: 15s - loss: 0.10 - ETA: 14s - loss: 0.10 - ETA: 13s - loss: 0.10 - ETA: 12s - loss: 0.10 - ETA: 11s - loss: 0.10 - ETA: 9s - loss: 0.1060 - ETA: 8s - loss: 0.106 - ETA: 7s - loss: 0.106 - ETA: 6s - loss: 0.106 - ETA: 5s - loss: 0.106 - ETA: 4s - loss: 0.106 - ETA: 3s - loss: 0.106 - ETA: 2s - loss: 0.106 - ETA: 1s - loss: 0.106 - ETA: 0s - loss: 0.106 - 270s 36ms/step - loss: 0.1061 - val_loss: 0.1412\n",
      "Epoch 12/12\n"
     ]
    },
    {
     "name": "stdout",
     "output_type": "stream",
     "text": [
      "7591/7591 [==============================] - ETA: 5:17 - loss: 0.154 - ETA: 5:14 - loss: 0.121 - ETA: 5:15 - loss: 0.105 - ETA: 5:13 - loss: 0.102 - ETA: 5:12 - loss: 0.101 - ETA: 5:11 - loss: 0.099 - ETA: 5:10 - loss: 0.097 - ETA: 5:08 - loss: 0.096 - ETA: 5:06 - loss: 0.097 - ETA: 5:05 - loss: 0.095 - ETA: 5:04 - loss: 0.096 - ETA: 5:02 - loss: 0.096 - ETA: 5:01 - loss: 0.096 - ETA: 5:00 - loss: 0.095 - ETA: 4:58 - loss: 0.095 - ETA: 4:57 - loss: 0.095 - ETA: 4:56 - loss: 0.094 - ETA: 4:54 - loss: 0.093 - ETA: 4:53 - loss: 0.096 - ETA: 4:52 - loss: 0.096 - ETA: 4:50 - loss: 0.098 - ETA: 4:49 - loss: 0.098 - ETA: 4:47 - loss: 0.099 - ETA: 4:46 - loss: 0.099 - ETA: 4:45 - loss: 0.099 - ETA: 4:44 - loss: 0.098 - ETA: 4:43 - loss: 0.098 - ETA: 4:41 - loss: 0.098 - ETA: 4:40 - loss: 0.098 - ETA: 4:38 - loss: 0.098 - ETA: 4:37 - loss: 0.097 - ETA: 4:36 - loss: 0.099 - ETA: 4:34 - loss: 0.099 - ETA: 4:33 - loss: 0.098 - ETA: 4:31 - loss: 0.098 - ETA: 4:30 - loss: 0.098 - ETA: 4:29 - loss: 0.098 - ETA: 4:28 - loss: 0.098 - ETA: 4:26 - loss: 0.098 - ETA: 4:25 - loss: 0.097 - ETA: 4:23 - loss: 0.098 - ETA: 4:22 - loss: 0.098 - ETA: 4:21 - loss: 0.098 - ETA: 4:19 - loss: 0.099 - ETA: 4:18 - loss: 0.099 - ETA: 4:17 - loss: 0.099 - ETA: 4:15 - loss: 0.099 - ETA: 4:14 - loss: 0.099 - ETA: 4:13 - loss: 0.099 - ETA: 4:11 - loss: 0.099 - ETA: 4:10 - loss: 0.099 - ETA: 4:09 - loss: 0.099 - ETA: 4:07 - loss: 0.099 - ETA: 4:07 - loss: 0.100 - ETA: 4:06 - loss: 0.099 - ETA: 4:04 - loss: 0.099 - ETA: 4:03 - loss: 0.099 - ETA: 4:01 - loss: 0.100 - ETA: 4:00 - loss: 0.100 - ETA: 3:59 - loss: 0.100 - ETA: 3:57 - loss: 0.100 - ETA: 3:56 - loss: 0.099 - ETA: 3:55 - loss: 0.099 - ETA: 3:54 - loss: 0.100 - ETA: 3:52 - loss: 0.099 - ETA: 3:51 - loss: 0.100 - ETA: 3:49 - loss: 0.100 - ETA: 3:48 - loss: 0.100 - ETA: 3:47 - loss: 0.100 - ETA: 3:45 - loss: 0.100 - ETA: 3:44 - loss: 0.100 - ETA: 3:43 - loss: 0.101 - ETA: 3:41 - loss: 0.101 - ETA: 3:40 - loss: 0.101 - ETA: 3:39 - loss: 0.100 - ETA: 3:37 - loss: 0.100 - ETA: 3:36 - loss: 0.100 - ETA: 3:35 - loss: 0.100 - ETA: 3:33 - loss: 0.100 - ETA: 3:32 - loss: 0.100 - ETA: 3:30 - loss: 0.101 - ETA: 3:29 - loss: 0.100 - ETA: 3:28 - loss: 0.100 - ETA: 3:26 - loss: 0.101 - ETA: 3:25 - loss: 0.100 - ETA: 3:24 - loss: 0.100 - ETA: 3:22 - loss: 0.101 - ETA: 3:21 - loss: 0.100 - ETA: 3:20 - loss: 0.100 - ETA: 3:18 - loss: 0.100 - ETA: 3:17 - loss: 0.100 - ETA: 3:16 - loss: 0.100 - ETA: 3:14 - loss: 0.100 - ETA: 3:13 - loss: 0.100 - ETA: 3:12 - loss: 0.100 - ETA: 3:10 - loss: 0.100 - ETA: 3:09 - loss: 0.100 - ETA: 3:08 - loss: 0.100 - ETA: 3:06 - loss: 0.100 - ETA: 3:05 - loss: 0.100 - ETA: 3:04 - loss: 0.100 - ETA: 3:02 - loss: 0.100 - ETA: 3:01 - loss: 0.100 - ETA: 3:00 - loss: 0.100 - ETA: 2:58 - loss: 0.100 - ETA: 2:57 - loss: 0.100 - ETA: 2:56 - loss: 0.100 - ETA: 2:54 - loss: 0.100 - ETA: 2:53 - loss: 0.100 - ETA: 2:52 - loss: 0.100 - ETA: 2:50 - loss: 0.100 - ETA: 2:49 - loss: 0.100 - ETA: 2:47 - loss: 0.099 - ETA: 2:46 - loss: 0.100 - ETA: 2:45 - loss: 0.100 - ETA: 2:43 - loss: 0.100 - ETA: 2:42 - loss: 0.100 - ETA: 2:41 - loss: 0.100 - ETA: 2:39 - loss: 0.100 - ETA: 2:38 - loss: 0.100 - ETA: 2:37 - loss: 0.100 - ETA: 2:35 - loss: 0.100 - ETA: 2:34 - loss: 0.100 - ETA: 2:33 - loss: 0.100 - ETA: 2:31 - loss: 0.100 - ETA: 2:30 - loss: 0.100 - ETA: 2:28 - loss: 0.101 - ETA: 2:27 - loss: 0.101 - ETA: 2:26 - loss: 0.101 - ETA: 2:24 - loss: 0.101 - ETA: 2:23 - loss: 0.101 - ETA: 2:22 - loss: 0.101 - ETA: 2:20 - loss: 0.101 - ETA: 2:19 - loss: 0.101 - ETA: 2:18 - loss: 0.101 - ETA: 2:16 - loss: 0.101 - ETA: 2:15 - loss: 0.101 - ETA: 2:14 - loss: 0.101 - ETA: 2:12 - loss: 0.101 - ETA: 2:11 - loss: 0.101 - ETA: 2:09 - loss: 0.101 - ETA: 2:08 - loss: 0.101 - ETA: 2:07 - loss: 0.101 - ETA: 2:05 - loss: 0.101 - ETA: 2:04 - loss: 0.101 - ETA: 2:03 - loss: 0.101 - ETA: 2:01 - loss: 0.101 - ETA: 2:00 - loss: 0.101 - ETA: 1:59 - loss: 0.101 - ETA: 1:57 - loss: 0.101 - ETA: 1:56 - loss: 0.101 - ETA: 1:55 - loss: 0.101 - ETA: 1:53 - loss: 0.101 - ETA: 1:52 - loss: 0.101 - ETA: 1:50 - loss: 0.101 - ETA: 1:49 - loss: 0.102 - ETA: 1:48 - loss: 0.102 - ETA: 1:46 - loss: 0.102 - ETA: 1:45 - loss: 0.101 - ETA: 1:44 - loss: 0.101 - ETA: 1:42 - loss: 0.101 - ETA: 1:41 - loss: 0.101 - ETA: 1:40 - loss: 0.101 - ETA: 1:38 - loss: 0.101 - ETA: 1:37 - loss: 0.101 - ETA: 1:36 - loss: 0.101 - ETA: 1:34 - loss: 0.101 - ETA: 1:33 - loss: 0.101 - ETA: 1:32 - loss: 0.101 - ETA: 1:30 - loss: 0.101 - ETA: 1:29 - loss: 0.101 - ETA: 1:28 - loss: 0.101 - ETA: 1:26 - loss: 0.101 - ETA: 1:25 - loss: 0.101 - ETA: 1:24 - loss: 0.101 - ETA: 1:22 - loss: 0.101 - ETA: 1:21 - loss: 0.101 - ETA: 1:19 - loss: 0.101 - ETA: 1:18 - loss: 0.101 - ETA: 1:17 - loss: 0.101 - ETA: 1:15 - loss: 0.101 - ETA: 1:14 - loss: 0.101 - ETA: 1:13 - loss: 0.100 - ETA: 1:11 - loss: 0.100 - ETA: 1:10 - loss: 0.100 - ETA: 1:09 - loss: 0.100 - ETA: 1:07 - loss: 0.100 - ETA: 1:06 - loss: 0.100 - ETA: 1:05 - loss: 0.100 - ETA: 1:03 - loss: 0.100 - ETA: 1:02 - loss: 0.100 - ETA: 1:01 - loss: 0.100 - ETA: 59s - loss: 0.100 - ETA: 58s - loss: 0.10 - ETA: 56s - loss: 0.10 - ETA: 55s - loss: 0.10 - ETA: 54s - loss: 0.10 - ETA: 52s - loss: 0.10 - ETA: 51s - loss: 0.10 - ETA: 50s - loss: 0.10 - ETA: 48s - loss: 0.10 - ETA: 47s - loss: 0.10 - ETA: 46s - loss: 0.10 - ETA: 44s - loss: 0.10 - ETA: 43s - loss: 0.10 - ETA: 42s - loss: 0.10 - ETA: 40s - loss: 0.10 - ETA: 39s - loss: 0.10 - ETA: 38s - loss: 0.10 - ETA: 36s - loss: 0.10 - ETA: 35s - loss: 0.10 - ETA: 34s - loss: 0.10 - ETA: 32s - loss: 0.10 - ETA: 31s - loss: 0.10 - ETA: 29s - loss: 0.10 - ETA: 28s - loss: 0.10 - ETA: 27s - loss: 0.10 - ETA: 25s - loss: 0.10 - ETA: 24s - loss: 0.10 - ETA: 23s - loss: 0.10 - ETA: 21s - loss: 0.10 - ETA: 20s - loss: 0.10 - ETA: 19s - loss: 0.10 - ETA: 17s - loss: 0.10 - ETA: 16s - loss: 0.10 - ETA: 15s - loss: 0.10 - ETA: 13s - loss: 0.10 - ETA: 12s - loss: 0.10 - ETA: 11s - loss: 0.10 - ETA: 9s - loss: 0.1005 - ETA: 8s - loss: 0.100 - ETA: 7s - loss: 0.100 - ETA: 5s - loss: 0.100 - ETA: 4s - loss: 0.100 - ETA: 2s - loss: 0.100 - ETA: 1s - loss: 0.100 - ETA: 0s - loss: 0.100 - 331s 44ms/step - loss: 0.1004 - val_loss: 0.1333\n"
     ]
    },
    {
     "data": {
      "text/plain": [
       "<keras.callbacks.History at 0x18499209e48>"
      ]
     },
     "execution_count": 74,
     "metadata": {},
     "output_type": "execute_result"
    }
   ],
   "source": [
    "# model.fit(x_train, y_train, batch_size=16, epochs=10)\n",
    "# log_path=str('C:\\Users\\Cyborg\\Documents\\GitHub\\Movie-Plot-Synopses')\n",
    "# model_saver =  ModelCheckpoint(log_path + \"/model.ckpt.{epoch:04d}.hdf5\", monitor='loss', period=1)\n",
    "# callbacks = [tensorboard, TerminateOnNaN(), model_saver]\n",
    "\n",
    "\n",
    "model.fit(padded_docs_train, y_train,\n",
    "          class_weight='balanced',\n",
    "          epochs=12,\n",
    "          batch_size=32,\n",
    "          validation_split=0.2)\n",
    "predictions=model.predict(padded_docs_test)"
   ]
  },
  {
   "cell_type": "code",
   "execution_count": null,
   "metadata": {},
   "outputs": [],
   "source": [
    "n_classes=71"
   ]
  },
  {
   "cell_type": "code",
   "execution_count": 54,
   "metadata": {},
   "outputs": [],
   "source": [
    "# score = model.evaluate(x_test, y_test, batch_size=16)"
   ]
  },
  {
   "cell_type": "code",
   "execution_count": 75,
   "metadata": {},
   "outputs": [
    {
     "name": "stdout",
     "output_type": "stream",
     "text": [
      "_________________________________________________________________\n",
      "Layer (type)                 Output Shape              Param #   \n",
      "=================================================================\n",
      "embedding_12 (Embedding)     (None, 1200, 50)          4939100   \n",
      "_________________________________________________________________\n",
      "lstm_3 (LSTM)                (None, 128)               91648     \n",
      "_________________________________________________________________\n",
      "dropout_12 (Dropout)         (None, 128)               0         \n",
      "_________________________________________________________________\n",
      "dense_10 (Dense)             (None, 71)                9159      \n",
      "=================================================================\n",
      "Total params: 5,039,907\n",
      "Trainable params: 5,039,907\n",
      "Non-trainable params: 0\n",
      "_________________________________________________________________\n"
     ]
    }
   ],
   "source": [
    "checkpoint = ModelCheckpoint(filepath, monitor='val_f1micro', verbose=0, save_best_only=True, mode='max')\n",
    "model = Sequential()\n",
    "# Configuring the parameters\n",
    "# model.add(LSTM(6119, input_shape=(timesteps, input_dim)))\n",
    "model.add(Embedding(vocab_size, output_dim=50, input_length=1200))\n",
    "model.add(LSTM(128))\n",
    "# Adding a dropout layer\n",
    "model.add(Dropout(0.5))\n",
    "# Adding a dense output layer with sigmoid activation\n",
    "model.add(Dense(n_classes, activation='sigmoid'))\n",
    "model.summary()\n",
    "# pred=[]\n",
    "# x= model.predict(y_test)\n",
    "# for i in x:\n",
    "#     pred.append(i[:])  \n",
    "    "
   ]
  },
  {
   "cell_type": "code",
   "execution_count": 76,
   "metadata": {
    "scrolled": false
   },
   "outputs": [
    {
     "name": "stdout",
     "output_type": "stream",
     "text": [
      "_________________________________________________________________\n",
      "Layer (type)                 Output Shape              Param #   \n",
      "=================================================================\n",
      "embedding_12 (Embedding)     (None, 1200, 50)          4939100   \n",
      "_________________________________________________________________\n",
      "lstm_3 (LSTM)                (None, 128)               91648     \n",
      "_________________________________________________________________\n",
      "dropout_12 (Dropout)         (None, 128)               0         \n",
      "_________________________________________________________________\n",
      "dense_10 (Dense)             (None, 71)                9159      \n",
      "=================================================================\n",
      "Total params: 5,039,907\n",
      "Trainable params: 5,039,907\n",
      "Non-trainable params: 0\n",
      "_________________________________________________________________\n",
      "Train on 8540 samples, validate on 949 samples\n",
      "Epoch 1/5\n",
      "8540/8540 [==============================] - ETA: 26:08 - loss: 0.69 - ETA: 18:47 - loss: 0.69 - ETA: 16:27 - loss: 0.69 - ETA: 15:14 - loss: 0.68 - ETA: 14:29 - loss: 0.68 - ETA: 13:58 - loss: 0.68 - ETA: 13:37 - loss: 0.68 - ETA: 13:20 - loss: 0.67 - ETA: 13:07 - loss: 0.67 - ETA: 12:53 - loss: 0.66 - ETA: 12:42 - loss: 0.65 - ETA: 12:34 - loss: 0.63 - ETA: 12:27 - loss: 0.62 - ETA: 12:21 - loss: 0.60 - ETA: 12:13 - loss: 0.59 - ETA: 12:06 - loss: 0.57 - ETA: 12:00 - loss: 0.56 - ETA: 11:55 - loss: 0.55 - ETA: 11:49 - loss: 0.54 - ETA: 11:44 - loss: 0.52 - ETA: 11:39 - loss: 0.51 - ETA: 11:35 - loss: 0.50 - ETA: 11:31 - loss: 0.49 - ETA: 11:27 - loss: 0.47 - ETA: 11:23 - loss: 0.46 - ETA: 11:19 - loss: 0.45 - ETA: 11:16 - loss: 0.44 - ETA: 11:12 - loss: 0.44 - ETA: 11:07 - loss: 0.43 - ETA: 11:04 - loss: 0.42 - ETA: 11:01 - loss: 0.41 - ETA: 10:57 - loss: 0.40 - ETA: 10:54 - loss: 0.40 - ETA: 10:50 - loss: 0.39 - ETA: 10:47 - loss: 0.38 - ETA: 10:43 - loss: 0.38 - ETA: 10:40 - loss: 0.37 - ETA: 10:36 - loss: 0.37 - ETA: 10:33 - loss: 0.36 - ETA: 10:30 - loss: 0.35 - ETA: 10:27 - loss: 0.35 - ETA: 10:24 - loss: 0.34 - ETA: 10:21 - loss: 0.34 - ETA: 10:17 - loss: 0.34 - ETA: 10:14 - loss: 0.33 - ETA: 10:11 - loss: 0.33 - ETA: 10:08 - loss: 0.32 - ETA: 10:05 - loss: 0.32 - ETA: 10:01 - loss: 0.32 - ETA: 9:58 - loss: 0.3189 - ETA: 9:56 - loss: 0.316 - ETA: 9:52 - loss: 0.312 - ETA: 9:50 - loss: 0.311 - ETA: 9:46 - loss: 0.308 - ETA: 9:43 - loss: 0.306 - ETA: 9:40 - loss: 0.303 - ETA: 9:37 - loss: 0.301 - ETA: 9:34 - loss: 0.299 - ETA: 9:31 - loss: 0.297 - ETA: 9:28 - loss: 0.295 - ETA: 9:25 - loss: 0.293 - ETA: 9:22 - loss: 0.291 - ETA: 9:19 - loss: 0.288 - ETA: 9:16 - loss: 0.286 - ETA: 9:13 - loss: 0.284 - ETA: 9:11 - loss: 0.282 - ETA: 9:08 - loss: 0.281 - ETA: 9:05 - loss: 0.279 - ETA: 9:02 - loss: 0.277 - ETA: 8:59 - loss: 0.275 - ETA: 8:56 - loss: 0.274 - ETA: 8:53 - loss: 0.272 - ETA: 8:50 - loss: 0.271 - ETA: 8:47 - loss: 0.270 - ETA: 8:45 - loss: 0.269 - ETA: 8:42 - loss: 0.267 - ETA: 8:39 - loss: 0.266 - ETA: 8:36 - loss: 0.264 - ETA: 8:33 - loss: 0.263 - ETA: 8:30 - loss: 0.262 - ETA: 8:27 - loss: 0.260 - ETA: 8:25 - loss: 0.259 - ETA: 8:22 - loss: 0.258 - ETA: 8:19 - loss: 0.257 - ETA: 8:16 - loss: 0.255 - ETA: 8:13 - loss: 0.254 - ETA: 8:11 - loss: 0.253 - ETA: 8:08 - loss: 0.252 - ETA: 8:05 - loss: 0.250 - ETA: 8:02 - loss: 0.249 - ETA: 7:59 - loss: 0.248 - ETA: 7:57 - loss: 0.247 - ETA: 7:54 - loss: 0.245 - ETA: 7:51 - loss: 0.244 - ETA: 7:48 - loss: 0.243 - ETA: 7:45 - loss: 0.242 - ETA: 7:43 - loss: 0.241 - ETA: 7:40 - loss: 0.240 - ETA: 7:37 - loss: 0.239 - ETA: 7:34 - loss: 0.238 - ETA: 7:31 - loss: 0.238 - ETA: 7:28 - loss: 0.237 - ETA: 7:26 - loss: 0.236 - ETA: 7:23 - loss: 0.235 - ETA: 7:20 - loss: 0.234 - ETA: 7:17 - loss: 0.234 - ETA: 7:14 - loss: 0.233 - ETA: 7:12 - loss: 0.233 - ETA: 7:09 - loss: 0.232 - ETA: 7:06 - loss: 0.231 - ETA: 7:03 - loss: 0.231 - ETA: 7:01 - loss: 0.230 - ETA: 6:58 - loss: 0.230 - ETA: 6:55 - loss: 0.229 - ETA: 6:52 - loss: 0.228 - ETA: 6:49 - loss: 0.228 - ETA: 6:46 - loss: 0.227 - ETA: 6:43 - loss: 0.226 - ETA: 6:40 - loss: 0.226 - ETA: 6:37 - loss: 0.226 - ETA: 6:35 - loss: 0.225 - ETA: 6:32 - loss: 0.225 - ETA: 6:29 - loss: 0.224 - ETA: 6:26 - loss: 0.223 - ETA: 6:24 - loss: 0.223 - ETA: 6:21 - loss: 0.223 - ETA: 6:18 - loss: 0.222 - ETA: 6:15 - loss: 0.222 - ETA: 6:13 - loss: 0.222 - ETA: 6:10 - loss: 0.221 - ETA: 6:07 - loss: 0.221 - ETA: 6:04 - loss: 0.220 - ETA: 6:02 - loss: 0.220 - ETA: 5:59 - loss: 0.219 - ETA: 5:56 - loss: 0.219 - ETA: 5:54 - loss: 0.218 - ETA: 5:51 - loss: 0.218 - ETA: 5:48 - loss: 0.217 - ETA: 5:45 - loss: 0.217 - ETA: 5:43 - loss: 0.217 - ETA: 5:40 - loss: 0.216 - ETA: 5:37 - loss: 0.216 - ETA: 5:35 - loss: 0.215 - ETA: 5:32 - loss: 0.215 - ETA: 5:29 - loss: 0.215 - ETA: 5:26 - loss: 0.214 - ETA: 5:24 - loss: 0.214 - ETA: 5:21 - loss: 0.213 - ETA: 5:18 - loss: 0.213 - ETA: 5:15 - loss: 0.212 - ETA: 5:13 - loss: 0.212 - ETA: 5:10 - loss: 0.212 - ETA: 5:07 - loss: 0.211 - ETA: 5:05 - loss: 0.211 - ETA: 5:02 - loss: 0.211 - ETA: 4:59 - loss: 0.210 - ETA: 4:57 - loss: 0.210 - ETA: 4:54 - loss: 0.210 - ETA: 4:51 - loss: 0.209 - ETA: 4:48 - loss: 0.209 - ETA: 4:46 - loss: 0.209 - ETA: 4:43 - loss: 0.208 - ETA: 4:40 - loss: 0.208 - ETA: 4:38 - loss: 0.208 - ETA: 4:35 - loss: 0.207 - ETA: 4:32 - loss: 0.207 - ETA: 4:29 - loss: 0.207 - ETA: 4:27 - loss: 0.206 - ETA: 4:24 - loss: 0.206 - ETA: 4:21 - loss: 0.205 - ETA: 4:19 - loss: 0.205 - ETA: 4:16 - loss: 0.205 - ETA: 4:13 - loss: 0.204 - ETA: 4:10 - loss: 0.204 - ETA: 4:08 - loss: 0.204 - ETA: 4:05 - loss: 0.203 - ETA: 4:02 - loss: 0.203 - ETA: 4:00 - loss: 0.203 - ETA: 3:57 - loss: 0.203 - ETA: 3:54 - loss: 0.202 - ETA: 3:52 - loss: 0.202 - ETA: 3:49 - loss: 0.202 - ETA: 3:46 - loss: 0.202 - ETA: 3:43 - loss: 0.201 - ETA: 3:40 - loss: 0.201 - ETA: 3:38 - loss: 0.201 - ETA: 3:35 - loss: 0.201 - ETA: 3:32 - loss: 0.200 - ETA: 3:29 - loss: 0.200 - ETA: 3:26 - loss: 0.200 - ETA: 3:23 - loss: 0.199 - ETA: 3:20 - loss: 0.199 - ETA: 3:17 - loss: 0.199 - ETA: 3:15 - loss: 0.199 - ETA: 3:12 - loss: 0.199 - ETA: 3:09 - loss: 0.198 - ETA: 3:06 - loss: 0.198 - ETA: 3:04 - loss: 0.198 - ETA: 3:01 - loss: 0.197 - ETA: 2:58 - loss: 0.197 - ETA: 2:55 - loss: 0.197 - ETA: 2:52 - loss: 0.197 - ETA: 2:49 - loss: 0.197 - ETA: 2:46 - loss: 0.196 - ETA: 2:43 - loss: 0.196 - ETA: 2:40 - loss: 0.196 - ETA: 2:37 - loss: 0.196 - ETA: 2:34 - loss: 0.195 - ETA: 2:31 - loss: 0.195 - ETA: 2:29 - loss: 0.195 - ETA: 2:26 - loss: 0.195 - ETA: 2:23 - loss: 0.195 - ETA: 2:20 - loss: 0.194 - ETA: 2:17 - loss: 0.194 - ETA: 2:14 - loss: 0.194 - ETA: 2:11 - loss: 0.194 - ETA: 2:09 - loss: 0.193 - ETA: 2:06 - loss: 0.193 - ETA: 2:03 - loss: 0.193 - ETA: 2:00 - loss: 0.192 - ETA: 1:57 - loss: 0.192 - ETA: 1:55 - loss: 0.192 - ETA: 1:52 - loss: 0.192 - ETA: 1:49 - loss: 0.192 - ETA: 1:46 - loss: 0.192 - ETA: 1:44 - loss: 0.192 - ETA: 1:41 - loss: 0.192 - ETA: 1:38 - loss: 0.192 - ETA: 1:36 - loss: 0.191 - ETA: 1:33 - loss: 0.191 - ETA: 1:30 - loss: 0.191 - ETA: 1:28 - loss: 0.191 - ETA: 1:25 - loss: 0.190 - ETA: 1:22 - loss: 0.190 - ETA: 1:20 - loss: 0.190 - ETA: 1:17 - loss: 0.190 - ETA: 1:14 - loss: 0.190 - ETA: 1:12 - loss: 0.190 - ETA: 1:09 - loss: 0.190 - ETA: 1:07 - loss: 0.190 - ETA: 1:04 - loss: 0.189 - ETA: 1:01 - loss: 0.189 - ETA: 59s - loss: 0.189 - ETA: 56s - loss: 0.18 - ETA: 54s - loss: 0.18 - ETA: 51s - loss: 0.18 - ETA: 49s - loss: 0.18 - ETA: 46s - loss: 0.18 - ETA: 44s - loss: 0.18 - ETA: 41s - loss: 0.18 - ETA: 39s - loss: 0.18 - ETA: 36s - loss: 0.18 - ETA: 33s - loss: 0.18 - ETA: 31s - loss: 0.18 - ETA: 29s - loss: 0.18 - ETA: 26s - loss: 0.18 - ETA: 24s - loss: 0.18 - ETA: 21s - loss: 0.18 - ETA: 19s - loss: 0.18 - ETA: 16s - loss: 0.18 - ETA: 14s - loss: 0.18 - ETA: 11s - loss: 0.18 - ETA: 9s - loss: 0.1866 - ETA: 6s - loss: 0.186 - ETA: 4s - loss: 0.186 - ETA: 2s - loss: 0.186 - 650s 76ms/step - loss: 0.1862 - val_loss: 0.1091\n",
      "Epoch 2/5\n"
     ]
    },
    {
     "name": "stdout",
     "output_type": "stream",
     "text": [
      "8540/8540 [==============================] - ETA: 6:05 - loss: 0.134 - ETA: 6:07 - loss: 0.160 - ETA: 6:06 - loss: 0.152 - ETA: 6:06 - loss: 0.150 - ETA: 6:04 - loss: 0.153 - ETA: 6:03 - loss: 0.154 - ETA: 6:01 - loss: 0.151 - ETA: 6:00 - loss: 0.149 - ETA: 5:58 - loss: 0.151 - ETA: 5:56 - loss: 0.149 - ETA: 5:56 - loss: 0.149 - ETA: 5:54 - loss: 0.149 - ETA: 5:52 - loss: 0.151 - ETA: 5:51 - loss: 0.151 - ETA: 5:49 - loss: 0.149 - ETA: 5:48 - loss: 0.149 - ETA: 5:46 - loss: 0.149 - ETA: 5:45 - loss: 0.150 - ETA: 5:43 - loss: 0.150 - ETA: 5:42 - loss: 0.152 - ETA: 5:41 - loss: 0.151 - ETA: 5:39 - loss: 0.152 - ETA: 5:38 - loss: 0.153 - ETA: 5:36 - loss: 0.152 - ETA: 5:35 - loss: 0.150 - ETA: 5:34 - loss: 0.150 - ETA: 5:32 - loss: 0.150 - ETA: 5:31 - loss: 0.150 - ETA: 5:29 - loss: 0.151 - ETA: 5:28 - loss: 0.151 - ETA: 5:27 - loss: 0.150 - ETA: 5:25 - loss: 0.151 - ETA: 5:24 - loss: 0.150 - ETA: 5:22 - loss: 0.150 - ETA: 5:21 - loss: 0.150 - ETA: 5:20 - loss: 0.151 - ETA: 5:18 - loss: 0.150 - ETA: 5:17 - loss: 0.150 - ETA: 5:16 - loss: 0.150 - ETA: 5:14 - loss: 0.151 - ETA: 5:13 - loss: 0.151 - ETA: 5:11 - loss: 0.151 - ETA: 5:10 - loss: 0.150 - ETA: 5:09 - loss: 0.151 - ETA: 5:07 - loss: 0.150 - ETA: 5:06 - loss: 0.150 - ETA: 5:05 - loss: 0.151 - ETA: 5:03 - loss: 0.150 - ETA: 5:02 - loss: 0.150 - ETA: 5:00 - loss: 0.150 - ETA: 4:59 - loss: 0.150 - ETA: 4:57 - loss: 0.150 - ETA: 4:56 - loss: 0.149 - ETA: 4:55 - loss: 0.150 - ETA: 4:53 - loss: 0.150 - ETA: 4:52 - loss: 0.150 - ETA: 4:51 - loss: 0.150 - ETA: 4:49 - loss: 0.150 - ETA: 4:48 - loss: 0.150 - ETA: 4:46 - loss: 0.150 - ETA: 4:45 - loss: 0.150 - ETA: 4:44 - loss: 0.150 - ETA: 4:42 - loss: 0.149 - ETA: 4:41 - loss: 0.149 - ETA: 4:39 - loss: 0.150 - ETA: 4:38 - loss: 0.150 - ETA: 4:37 - loss: 0.150 - ETA: 4:35 - loss: 0.150 - ETA: 4:34 - loss: 0.150 - ETA: 4:32 - loss: 0.150 - ETA: 4:31 - loss: 0.149 - ETA: 4:30 - loss: 0.149 - ETA: 4:28 - loss: 0.150 - ETA: 4:27 - loss: 0.150 - ETA: 4:25 - loss: 0.150 - ETA: 4:24 - loss: 0.150 - ETA: 4:23 - loss: 0.150 - ETA: 4:21 - loss: 0.150 - ETA: 4:20 - loss: 0.151 - ETA: 4:19 - loss: 0.151 - ETA: 4:17 - loss: 0.151 - ETA: 4:16 - loss: 0.151 - ETA: 4:14 - loss: 0.151 - ETA: 4:13 - loss: 0.151 - ETA: 4:12 - loss: 0.151 - ETA: 4:10 - loss: 0.151 - ETA: 4:09 - loss: 0.151 - ETA: 4:08 - loss: 0.151 - ETA: 4:06 - loss: 0.151 - ETA: 4:05 - loss: 0.151 - ETA: 4:03 - loss: 0.151 - ETA: 4:02 - loss: 0.151 - ETA: 4:01 - loss: 0.151 - ETA: 3:59 - loss: 0.151 - ETA: 3:58 - loss: 0.151 - ETA: 3:56 - loss: 0.151 - ETA: 3:55 - loss: 0.151 - ETA: 3:54 - loss: 0.151 - ETA: 3:52 - loss: 0.151 - ETA: 3:51 - loss: 0.151 - ETA: 3:50 - loss: 0.151 - ETA: 3:48 - loss: 0.151 - ETA: 3:47 - loss: 0.151 - ETA: 3:45 - loss: 0.151 - ETA: 3:44 - loss: 0.151 - ETA: 3:43 - loss: 0.151 - ETA: 3:41 - loss: 0.151 - ETA: 3:40 - loss: 0.151 - ETA: 3:38 - loss: 0.151 - ETA: 3:37 - loss: 0.151 - ETA: 3:36 - loss: 0.151 - ETA: 3:34 - loss: 0.150 - ETA: 3:33 - loss: 0.151 - ETA: 3:31 - loss: 0.151 - ETA: 3:30 - loss: 0.151 - ETA: 3:29 - loss: 0.150 - ETA: 3:27 - loss: 0.150 - ETA: 3:26 - loss: 0.150 - ETA: 3:25 - loss: 0.150 - ETA: 3:23 - loss: 0.150 - ETA: 3:22 - loss: 0.149 - ETA: 3:20 - loss: 0.150 - ETA: 3:19 - loss: 0.150 - ETA: 3:18 - loss: 0.150 - ETA: 3:16 - loss: 0.150 - ETA: 3:15 - loss: 0.150 - ETA: 3:14 - loss: 0.150 - ETA: 3:12 - loss: 0.150 - ETA: 3:11 - loss: 0.150 - ETA: 3:09 - loss: 0.150 - ETA: 3:08 - loss: 0.150 - ETA: 3:07 - loss: 0.150 - ETA: 3:05 - loss: 0.150 - ETA: 3:04 - loss: 0.150 - ETA: 3:02 - loss: 0.150 - ETA: 3:01 - loss: 0.150 - ETA: 3:00 - loss: 0.150 - ETA: 2:58 - loss: 0.150 - ETA: 2:57 - loss: 0.150 - ETA: 2:55 - loss: 0.150 - ETA: 2:54 - loss: 0.150 - ETA: 2:53 - loss: 0.150 - ETA: 2:51 - loss: 0.150 - ETA: 2:50 - loss: 0.150 - ETA: 2:49 - loss: 0.150 - ETA: 2:47 - loss: 0.150 - ETA: 2:46 - loss: 0.150 - ETA: 2:44 - loss: 0.150 - ETA: 2:43 - loss: 0.150 - ETA: 2:42 - loss: 0.150 - ETA: 2:40 - loss: 0.150 - ETA: 2:39 - loss: 0.150 - ETA: 2:37 - loss: 0.150 - ETA: 2:36 - loss: 0.150 - ETA: 2:35 - loss: 0.150 - ETA: 2:33 - loss: 0.150 - ETA: 2:32 - loss: 0.150 - ETA: 2:30 - loss: 0.150 - ETA: 2:29 - loss: 0.150 - ETA: 2:28 - loss: 0.150 - ETA: 2:26 - loss: 0.150 - ETA: 2:25 - loss: 0.150 - ETA: 2:24 - loss: 0.150 - ETA: 2:22 - loss: 0.149 - ETA: 2:21 - loss: 0.149 - ETA: 2:19 - loss: 0.149 - ETA: 2:18 - loss: 0.149 - ETA: 2:17 - loss: 0.149 - ETA: 2:15 - loss: 0.149 - ETA: 2:14 - loss: 0.149 - ETA: 2:13 - loss: 0.149 - ETA: 2:11 - loss: 0.149 - ETA: 2:10 - loss: 0.149 - ETA: 2:08 - loss: 0.149 - ETA: 2:07 - loss: 0.149 - ETA: 2:06 - loss: 0.149 - ETA: 2:04 - loss: 0.149 - ETA: 2:03 - loss: 0.149 - ETA: 2:01 - loss: 0.149 - ETA: 2:00 - loss: 0.149 - ETA: 1:59 - loss: 0.149 - ETA: 1:57 - loss: 0.149 - ETA: 1:56 - loss: 0.149 - ETA: 1:54 - loss: 0.149 - ETA: 1:53 - loss: 0.149 - ETA: 1:52 - loss: 0.149 - ETA: 1:50 - loss: 0.149 - ETA: 1:49 - loss: 0.149 - ETA: 1:48 - loss: 0.149 - ETA: 1:46 - loss: 0.149 - ETA: 1:45 - loss: 0.149 - ETA: 1:43 - loss: 0.149 - ETA: 1:42 - loss: 0.148 - ETA: 1:41 - loss: 0.149 - ETA: 1:39 - loss: 0.149 - ETA: 1:38 - loss: 0.148 - ETA: 1:36 - loss: 0.148 - ETA: 1:35 - loss: 0.148 - ETA: 1:34 - loss: 0.148 - ETA: 1:32 - loss: 0.148 - ETA: 1:31 - loss: 0.149 - ETA: 1:30 - loss: 0.149 - ETA: 1:28 - loss: 0.149 - ETA: 1:27 - loss: 0.148 - ETA: 1:25 - loss: 0.148 - ETA: 1:24 - loss: 0.148 - ETA: 1:23 - loss: 0.148 - ETA: 1:21 - loss: 0.148 - ETA: 1:20 - loss: 0.148 - ETA: 1:18 - loss: 0.148 - ETA: 1:17 - loss: 0.148 - ETA: 1:16 - loss: 0.148 - ETA: 1:14 - loss: 0.148 - ETA: 1:13 - loss: 0.148 - ETA: 1:12 - loss: 0.148 - ETA: 1:10 - loss: 0.148 - ETA: 1:09 - loss: 0.148 - ETA: 1:07 - loss: 0.148 - ETA: 1:06 - loss: 0.148 - ETA: 1:05 - loss: 0.148 - ETA: 1:03 - loss: 0.148 - ETA: 1:02 - loss: 0.148 - ETA: 1:00 - loss: 0.148 - ETA: 59s - loss: 0.148 - ETA: 58s - loss: 0.14 - ETA: 56s - loss: 0.14 - ETA: 55s - loss: 0.14 - ETA: 53s - loss: 0.14 - ETA: 52s - loss: 0.14 - ETA: 51s - loss: 0.14 - ETA: 49s - loss: 0.14 - ETA: 48s - loss: 0.14 - ETA: 47s - loss: 0.14 - ETA: 45s - loss: 0.14 - ETA: 44s - loss: 0.14 - ETA: 42s - loss: 0.14 - ETA: 41s - loss: 0.14 - ETA: 40s - loss: 0.14 - ETA: 38s - loss: 0.14 - ETA: 37s - loss: 0.14 - ETA: 35s - loss: 0.14 - ETA: 34s - loss: 0.14 - ETA: 33s - loss: 0.14 - ETA: 31s - loss: 0.14 - ETA: 30s - loss: 0.14 - ETA: 28s - loss: 0.14 - ETA: 27s - loss: 0.14 - ETA: 26s - loss: 0.14 - ETA: 24s - loss: 0.14 - ETA: 23s - loss: 0.14 - ETA: 22s - loss: 0.14 - ETA: 20s - loss: 0.14 - ETA: 19s - loss: 0.14 - ETA: 17s - loss: 0.14 - ETA: 16s - loss: 0.14 - ETA: 15s - loss: 0.14 - ETA: 13s - loss: 0.14 - ETA: 12s - loss: 0.14 - ETA: 10s - loss: 0.14 - ETA: 9s - loss: 0.1486 - ETA: 8s - loss: 0.148 - ETA: 6s - loss: 0.148 - ETA: 5s - loss: 0.148 - ETA: 3s - loss: 0.148 - ETA: 2s - loss: 0.148 - ETA: 1s - loss: 0.148 - 378s 44ms/step - loss: 0.1485 - val_loss: 0.1108\n",
      "Epoch 3/5\n"
     ]
    },
    {
     "name": "stdout",
     "output_type": "stream",
     "text": [
      "8540/8540 [==============================] - ETA: 6:10 - loss: 0.141 - ETA: 6:07 - loss: 0.139 - ETA: 6:04 - loss: 0.139 - ETA: 6:03 - loss: 0.150 - ETA: 6:02 - loss: 0.156 - ETA: 6:01 - loss: 0.151 - ETA: 6:00 - loss: 0.146 - ETA: 5:58 - loss: 0.145 - ETA: 5:57 - loss: 0.143 - ETA: 5:56 - loss: 0.145 - ETA: 5:55 - loss: 0.144 - ETA: 5:53 - loss: 0.147 - ETA: 5:51 - loss: 0.147 - ETA: 5:50 - loss: 0.145 - ETA: 5:49 - loss: 0.145 - ETA: 5:48 - loss: 0.145 - ETA: 5:46 - loss: 0.145 - ETA: 5:45 - loss: 0.146 - ETA: 5:43 - loss: 0.145 - ETA: 5:42 - loss: 0.144 - ETA: 5:40 - loss: 0.144 - ETA: 5:39 - loss: 0.143 - ETA: 5:38 - loss: 0.144 - ETA: 5:36 - loss: 0.143 - ETA: 5:35 - loss: 0.143 - ETA: 5:33 - loss: 0.143 - ETA: 5:32 - loss: 0.144 - ETA: 5:31 - loss: 0.145 - ETA: 5:30 - loss: 0.145 - ETA: 5:28 - loss: 0.144 - ETA: 5:27 - loss: 0.143 - ETA: 5:26 - loss: 0.143 - ETA: 5:24 - loss: 0.145 - ETA: 5:23 - loss: 0.145 - ETA: 5:21 - loss: 0.144 - ETA: 5:20 - loss: 0.145 - ETA: 5:19 - loss: 0.145 - ETA: 5:18 - loss: 0.145 - ETA: 5:16 - loss: 0.145 - ETA: 5:15 - loss: 0.144 - ETA: 5:14 - loss: 0.145 - ETA: 5:12 - loss: 0.145 - ETA: 5:11 - loss: 0.145 - ETA: 5:09 - loss: 0.145 - ETA: 5:08 - loss: 0.145 - ETA: 5:07 - loss: 0.145 - ETA: 5:05 - loss: 0.145 - ETA: 5:04 - loss: 0.145 - ETA: 5:03 - loss: 0.144 - ETA: 5:01 - loss: 0.145 - ETA: 5:00 - loss: 0.145 - ETA: 4:58 - loss: 0.146 - ETA: 4:57 - loss: 0.147 - ETA: 4:55 - loss: 0.146 - ETA: 4:54 - loss: 0.146 - ETA: 4:53 - loss: 0.146 - ETA: 4:51 - loss: 0.147 - ETA: 4:50 - loss: 0.147 - ETA: 4:48 - loss: 0.147 - ETA: 4:47 - loss: 0.147 - ETA: 4:46 - loss: 0.147 - ETA: 4:44 - loss: 0.147 - ETA: 4:43 - loss: 0.147 - ETA: 4:41 - loss: 0.147 - ETA: 4:40 - loss: 0.147 - ETA: 4:39 - loss: 0.148 - ETA: 4:37 - loss: 0.148 - ETA: 4:36 - loss: 0.148 - ETA: 4:34 - loss: 0.148 - ETA: 4:33 - loss: 0.148 - ETA: 4:32 - loss: 0.148 - ETA: 4:30 - loss: 0.148 - ETA: 4:29 - loss: 0.148 - ETA: 4:28 - loss: 0.148 - ETA: 4:26 - loss: 0.148 - ETA: 4:25 - loss: 0.147 - ETA: 4:23 - loss: 0.148 - ETA: 4:22 - loss: 0.148 - ETA: 4:21 - loss: 0.148 - ETA: 4:19 - loss: 0.148 - ETA: 4:18 - loss: 0.148 - ETA: 4:16 - loss: 0.148 - ETA: 4:15 - loss: 0.148 - ETA: 4:14 - loss: 0.147 - ETA: 4:12 - loss: 0.148 - ETA: 4:11 - loss: 0.148 - ETA: 4:10 - loss: 0.148 - ETA: 4:08 - loss: 0.148 - ETA: 4:07 - loss: 0.148 - ETA: 4:05 - loss: 0.148 - ETA: 4:04 - loss: 0.148 - ETA: 4:02 - loss: 0.148 - ETA: 4:01 - loss: 0.148 - ETA: 4:00 - loss: 0.148 - ETA: 3:58 - loss: 0.148 - ETA: 3:57 - loss: 0.148 - ETA: 3:55 - loss: 0.148 - ETA: 3:54 - loss: 0.148 - ETA: 3:53 - loss: 0.148 - ETA: 3:51 - loss: 0.148 - ETA: 3:50 - loss: 0.148 - ETA: 3:48 - loss: 0.148 - ETA: 3:47 - loss: 0.147 - ETA: 3:46 - loss: 0.147 - ETA: 3:44 - loss: 0.147 - ETA: 3:43 - loss: 0.147 - ETA: 3:42 - loss: 0.147 - ETA: 3:40 - loss: 0.147 - ETA: 3:39 - loss: 0.147 - ETA: 3:37 - loss: 0.147 - ETA: 3:36 - loss: 0.147 - ETA: 3:35 - loss: 0.147 - ETA: 3:33 - loss: 0.147 - ETA: 3:32 - loss: 0.147 - ETA: 3:30 - loss: 0.146 - ETA: 3:29 - loss: 0.147 - ETA: 3:28 - loss: 0.147 - ETA: 3:26 - loss: 0.147 - ETA: 3:25 - loss: 0.147 - ETA: 3:24 - loss: 0.146 - ETA: 3:22 - loss: 0.146 - ETA: 3:21 - loss: 0.146 - ETA: 3:19 - loss: 0.147 - ETA: 3:18 - loss: 0.147 - ETA: 3:17 - loss: 0.147 - ETA: 3:15 - loss: 0.147 - ETA: 3:14 - loss: 0.147 - ETA: 3:13 - loss: 0.147 - ETA: 3:11 - loss: 0.147 - ETA: 3:10 - loss: 0.147 - ETA: 3:08 - loss: 0.146 - ETA: 3:07 - loss: 0.146 - ETA: 3:06 - loss: 0.146 - ETA: 3:04 - loss: 0.146 - ETA: 3:03 - loss: 0.146 - ETA: 3:01 - loss: 0.146 - ETA: 3:00 - loss: 0.146 - ETA: 2:59 - loss: 0.146 - ETA: 2:57 - loss: 0.146 - ETA: 2:56 - loss: 0.146 - ETA: 2:54 - loss: 0.146 - ETA: 2:53 - loss: 0.146 - ETA: 2:52 - loss: 0.146 - ETA: 2:50 - loss: 0.146 - ETA: 2:49 - loss: 0.146 - ETA: 2:47 - loss: 0.146 - ETA: 2:46 - loss: 0.146 - ETA: 2:45 - loss: 0.146 - ETA: 2:43 - loss: 0.146 - ETA: 2:42 - loss: 0.146 - ETA: 2:40 - loss: 0.146 - ETA: 2:39 - loss: 0.146 - ETA: 2:38 - loss: 0.146 - ETA: 2:36 - loss: 0.146 - ETA: 2:35 - loss: 0.146 - ETA: 2:34 - loss: 0.146 - ETA: 2:32 - loss: 0.146 - ETA: 2:31 - loss: 0.146 - ETA: 2:29 - loss: 0.146 - ETA: 2:28 - loss: 0.146 - ETA: 2:27 - loss: 0.146 - ETA: 2:25 - loss: 0.146 - ETA: 2:24 - loss: 0.146 - ETA: 2:22 - loss: 0.146 - ETA: 2:21 - loss: 0.146 - ETA: 2:20 - loss: 0.146 - ETA: 2:18 - loss: 0.146 - ETA: 2:17 - loss: 0.146 - ETA: 2:16 - loss: 0.146 - ETA: 2:14 - loss: 0.146 - ETA: 2:13 - loss: 0.146 - ETA: 2:11 - loss: 0.146 - ETA: 2:10 - loss: 0.146 - ETA: 2:09 - loss: 0.146 - ETA: 2:07 - loss: 0.146 - ETA: 2:06 - loss: 0.146 - ETA: 2:04 - loss: 0.146 - ETA: 2:03 - loss: 0.146 - ETA: 2:02 - loss: 0.146 - ETA: 2:00 - loss: 0.146 - ETA: 1:59 - loss: 0.146 - ETA: 1:57 - loss: 0.146 - ETA: 1:56 - loss: 0.146 - ETA: 1:55 - loss: 0.146 - ETA: 1:53 - loss: 0.146 - ETA: 1:52 - loss: 0.146 - ETA: 1:50 - loss: 0.146 - ETA: 1:49 - loss: 0.146 - ETA: 1:48 - loss: 0.146 - ETA: 1:46 - loss: 0.146 - ETA: 1:45 - loss: 0.146 - ETA: 1:44 - loss: 0.146 - ETA: 1:42 - loss: 0.146 - ETA: 1:41 - loss: 0.146 - ETA: 1:39 - loss: 0.146 - ETA: 1:38 - loss: 0.146 - ETA: 1:37 - loss: 0.146 - ETA: 1:35 - loss: 0.146 - ETA: 1:34 - loss: 0.146 - ETA: 1:32 - loss: 0.146 - ETA: 1:31 - loss: 0.146 - ETA: 1:30 - loss: 0.146 - ETA: 1:28 - loss: 0.146 - ETA: 1:27 - loss: 0.146 - ETA: 1:25 - loss: 0.146 - ETA: 1:24 - loss: 0.146 - ETA: 1:23 - loss: 0.146 - ETA: 1:21 - loss: 0.146 - ETA: 1:20 - loss: 0.146 - ETA: 1:18 - loss: 0.146 - ETA: 1:17 - loss: 0.146 - ETA: 1:16 - loss: 0.146 - ETA: 1:14 - loss: 0.146 - ETA: 1:13 - loss: 0.146 - ETA: 1:12 - loss: 0.146 - ETA: 1:10 - loss: 0.146 - ETA: 1:09 - loss: 0.146 - ETA: 1:07 - loss: 0.146 - ETA: 1:06 - loss: 0.146 - ETA: 1:05 - loss: 0.146 - ETA: 1:03 - loss: 0.146 - ETA: 1:02 - loss: 0.146 - ETA: 1:00 - loss: 0.146 - ETA: 59s - loss: 0.146 - ETA: 58s - loss: 0.14 - ETA: 56s - loss: 0.14 - ETA: 55s - loss: 0.14 - ETA: 53s - loss: 0.14 - ETA: 52s - loss: 0.14 - ETA: 51s - loss: 0.14 - ETA: 49s - loss: 0.14 - ETA: 48s - loss: 0.14 - ETA: 47s - loss: 0.14 - ETA: 45s - loss: 0.14 - ETA: 44s - loss: 0.14 - ETA: 42s - loss: 0.14 - ETA: 41s - loss: 0.14 - ETA: 40s - loss: 0.14 - ETA: 38s - loss: 0.14 - ETA: 37s - loss: 0.14 - ETA: 35s - loss: 0.14 - ETA: 34s - loss: 0.14 - ETA: 33s - loss: 0.14 - ETA: 31s - loss: 0.14 - ETA: 30s - loss: 0.14 - ETA: 28s - loss: 0.14 - ETA: 27s - loss: 0.14 - ETA: 26s - loss: 0.14 - ETA: 24s - loss: 0.14 - ETA: 23s - loss: 0.14 - ETA: 22s - loss: 0.14 - ETA: 20s - loss: 0.14 - ETA: 19s - loss: 0.14 - ETA: 17s - loss: 0.14 - ETA: 16s - loss: 0.14 - ETA: 15s - loss: 0.14 - ETA: 13s - loss: 0.14 - ETA: 12s - loss: 0.14 - ETA: 10s - loss: 0.14 - ETA: 9s - loss: 0.1460 - ETA: 8s - loss: 0.146 - ETA: 6s - loss: 0.145 - ETA: 5s - loss: 0.145 - ETA: 3s - loss: 0.146 - ETA: 2s - loss: 0.145 - ETA: 1s - loss: 0.146 - 378s 44ms/step - loss: 0.1460 - val_loss: 0.1100\n",
      "Epoch 4/5\n"
     ]
    },
    {
     "name": "stdout",
     "output_type": "stream",
     "text": [
      "8540/8540 [==============================] - ETA: 6:05 - loss: 0.150 - ETA: 6:03 - loss: 0.147 - ETA: 6:06 - loss: 0.152 - ETA: 6:05 - loss: 0.150 - ETA: 6:03 - loss: 0.151 - ETA: 6:01 - loss: 0.148 - ETA: 6:00 - loss: 0.144 - ETA: 5:58 - loss: 0.142 - ETA: 5:57 - loss: 0.144 - ETA: 5:56 - loss: 0.145 - ETA: 5:55 - loss: 0.142 - ETA: 5:53 - loss: 0.145 - ETA: 5:52 - loss: 0.147 - ETA: 5:51 - loss: 0.145 - ETA: 5:50 - loss: 0.145 - ETA: 5:48 - loss: 0.144 - ETA: 5:47 - loss: 0.144 - ETA: 5:46 - loss: 0.143 - ETA: 5:44 - loss: 0.145 - ETA: 5:43 - loss: 0.145 - ETA: 5:41 - loss: 0.145 - ETA: 5:40 - loss: 0.146 - ETA: 5:39 - loss: 0.147 - ETA: 5:37 - loss: 0.146 - ETA: 5:36 - loss: 0.146 - ETA: 5:35 - loss: 0.147 - ETA: 5:33 - loss: 0.146 - ETA: 5:32 - loss: 0.146 - ETA: 5:30 - loss: 0.145 - ETA: 5:29 - loss: 0.145 - ETA: 5:27 - loss: 0.145 - ETA: 5:26 - loss: 0.145 - ETA: 5:25 - loss: 0.145 - ETA: 5:23 - loss: 0.145 - ETA: 5:22 - loss: 0.144 - ETA: 5:20 - loss: 0.144 - ETA: 5:19 - loss: 0.144 - ETA: 5:17 - loss: 0.144 - ETA: 5:16 - loss: 0.145 - ETA: 5:15 - loss: 0.144 - ETA: 5:13 - loss: 0.145 - ETA: 5:12 - loss: 0.145 - ETA: 5:10 - loss: 0.145 - ETA: 5:09 - loss: 0.145 - ETA: 5:08 - loss: 0.146 - ETA: 5:06 - loss: 0.146 - ETA: 5:05 - loss: 0.145 - ETA: 5:03 - loss: 0.145 - ETA: 5:02 - loss: 0.146 - ETA: 5:01 - loss: 0.146 - ETA: 5:00 - loss: 0.145 - ETA: 4:58 - loss: 0.145 - ETA: 4:57 - loss: 0.146 - ETA: 4:56 - loss: 0.145 - ETA: 4:54 - loss: 0.145 - ETA: 4:53 - loss: 0.145 - ETA: 4:52 - loss: 0.145 - ETA: 4:50 - loss: 0.145 - ETA: 4:49 - loss: 0.145 - ETA: 4:47 - loss: 0.146 - ETA: 4:46 - loss: 0.145 - ETA: 4:45 - loss: 0.145 - ETA: 4:43 - loss: 0.145 - ETA: 4:42 - loss: 0.144 - ETA: 4:40 - loss: 0.144 - ETA: 4:39 - loss: 0.144 - ETA: 4:38 - loss: 0.144 - ETA: 4:36 - loss: 0.144 - ETA: 4:35 - loss: 0.144 - ETA: 4:33 - loss: 0.144 - ETA: 4:32 - loss: 0.144 - ETA: 4:31 - loss: 0.143 - ETA: 4:29 - loss: 0.144 - ETA: 4:28 - loss: 0.144 - ETA: 4:26 - loss: 0.144 - ETA: 4:25 - loss: 0.144 - ETA: 4:24 - loss: 0.145 - ETA: 4:22 - loss: 0.145 - ETA: 4:21 - loss: 0.145 - ETA: 4:19 - loss: 0.145 - ETA: 4:18 - loss: 0.145 - ETA: 4:17 - loss: 0.144 - ETA: 4:15 - loss: 0.144 - ETA: 4:14 - loss: 0.144 - ETA: 4:12 - loss: 0.144 - ETA: 4:11 - loss: 0.144 - ETA: 4:10 - loss: 0.144 - ETA: 4:08 - loss: 0.144 - ETA: 4:07 - loss: 0.144 - ETA: 4:05 - loss: 0.144 - ETA: 4:04 - loss: 0.144 - ETA: 4:03 - loss: 0.144 - ETA: 4:01 - loss: 0.144 - ETA: 4:00 - loss: 0.144 - ETA: 3:59 - loss: 0.145 - ETA: 3:57 - loss: 0.144 - ETA: 3:56 - loss: 0.144 - ETA: 3:54 - loss: 0.144 - ETA: 3:53 - loss: 0.144 - ETA: 3:52 - loss: 0.144 - ETA: 3:50 - loss: 0.144 - ETA: 3:49 - loss: 0.144 - ETA: 3:47 - loss: 0.144 - ETA: 3:46 - loss: 0.144 - ETA: 3:45 - loss: 0.144 - ETA: 3:43 - loss: 0.144 - ETA: 3:42 - loss: 0.144 - ETA: 3:41 - loss: 0.144 - ETA: 3:39 - loss: 0.144 - ETA: 3:38 - loss: 0.144 - ETA: 3:36 - loss: 0.144 - ETA: 3:35 - loss: 0.144 - ETA: 3:34 - loss: 0.144 - ETA: 3:32 - loss: 0.145 - ETA: 3:31 - loss: 0.144 - ETA: 3:29 - loss: 0.144 - ETA: 3:28 - loss: 0.144 - ETA: 3:27 - loss: 0.144 - ETA: 3:25 - loss: 0.144 - ETA: 3:24 - loss: 0.144 - ETA: 3:22 - loss: 0.144 - ETA: 3:21 - loss: 0.144 - ETA: 3:20 - loss: 0.144 - ETA: 3:18 - loss: 0.144 - ETA: 3:17 - loss: 0.144 - ETA: 3:15 - loss: 0.145 - ETA: 3:14 - loss: 0.144 - ETA: 3:13 - loss: 0.144 - ETA: 3:11 - loss: 0.144 - ETA: 3:10 - loss: 0.145 - ETA: 3:09 - loss: 0.145 - ETA: 3:07 - loss: 0.145 - ETA: 3:06 - loss: 0.145 - ETA: 3:04 - loss: 0.145 - ETA: 3:03 - loss: 0.145 - ETA: 3:02 - loss: 0.145 - ETA: 3:00 - loss: 0.145 - ETA: 2:59 - loss: 0.145 - ETA: 2:57 - loss: 0.145 - ETA: 2:56 - loss: 0.145 - ETA: 2:55 - loss: 0.144 - ETA: 2:53 - loss: 0.144 - ETA: 2:52 - loss: 0.144 - ETA: 2:50 - loss: 0.145 - ETA: 2:49 - loss: 0.145 - ETA: 2:48 - loss: 0.145 - ETA: 2:46 - loss: 0.145 - ETA: 2:45 - loss: 0.145 - ETA: 2:43 - loss: 0.145 - ETA: 2:42 - loss: 0.145 - ETA: 2:41 - loss: 0.145 - ETA: 2:39 - loss: 0.145 - ETA: 2:38 - loss: 0.145 - ETA: 2:36 - loss: 0.144 - ETA: 2:35 - loss: 0.144 - ETA: 2:34 - loss: 0.145 - ETA: 2:32 - loss: 0.145 - ETA: 2:31 - loss: 0.144 - ETA: 2:30 - loss: 0.144 - ETA: 2:28 - loss: 0.144 - ETA: 2:27 - loss: 0.144 - ETA: 2:25 - loss: 0.144 - ETA: 2:24 - loss: 0.144 - ETA: 2:23 - loss: 0.144 - ETA: 2:21 - loss: 0.144 - ETA: 2:20 - loss: 0.144 - ETA: 2:18 - loss: 0.144 - ETA: 2:17 - loss: 0.144 - ETA: 2:16 - loss: 0.144 - ETA: 2:14 - loss: 0.144 - ETA: 2:13 - loss: 0.144 - ETA: 2:11 - loss: 0.144 - ETA: 2:10 - loss: 0.144 - ETA: 2:09 - loss: 0.144 - ETA: 2:07 - loss: 0.144 - ETA: 2:06 - loss: 0.144 - ETA: 2:04 - loss: 0.144 - ETA: 2:03 - loss: 0.144 - ETA: 2:02 - loss: 0.144 - ETA: 2:00 - loss: 0.144 - ETA: 1:59 - loss: 0.144 - ETA: 1:57 - loss: 0.144 - ETA: 1:56 - loss: 0.144 - ETA: 1:55 - loss: 0.144 - ETA: 1:53 - loss: 0.144 - ETA: 1:52 - loss: 0.144 - ETA: 1:51 - loss: 0.144 - ETA: 1:49 - loss: 0.144 - ETA: 1:48 - loss: 0.144 - ETA: 1:46 - loss: 0.144 - ETA: 1:45 - loss: 0.143 - ETA: 1:44 - loss: 0.143 - ETA: 1:42 - loss: 0.143 - ETA: 1:41 - loss: 0.143 - ETA: 1:39 - loss: 0.143 - ETA: 1:38 - loss: 0.143 - ETA: 1:37 - loss: 0.143 - ETA: 1:35 - loss: 0.143 - ETA: 1:34 - loss: 0.143 - ETA: 1:33 - loss: 0.143 - ETA: 1:31 - loss: 0.143 - ETA: 1:30 - loss: 0.143 - ETA: 1:28 - loss: 0.143 - ETA: 1:27 - loss: 0.143 - ETA: 1:26 - loss: 0.143 - ETA: 1:24 - loss: 0.143 - ETA: 1:23 - loss: 0.143 - ETA: 1:21 - loss: 0.143 - ETA: 1:20 - loss: 0.143 - ETA: 1:19 - loss: 0.143 - ETA: 1:17 - loss: 0.143 - ETA: 1:16 - loss: 0.143 - ETA: 1:14 - loss: 0.143 - ETA: 1:13 - loss: 0.143 - ETA: 1:12 - loss: 0.143 - ETA: 1:10 - loss: 0.143 - ETA: 1:09 - loss: 0.143 - ETA: 1:07 - loss: 0.143 - ETA: 1:06 - loss: 0.143 - ETA: 1:05 - loss: 0.144 - ETA: 1:03 - loss: 0.144 - ETA: 1:02 - loss: 0.144 - ETA: 1:01 - loss: 0.144 - ETA: 59s - loss: 0.144 - ETA: 58s - loss: 0.14 - ETA: 56s - loss: 0.14 - ETA: 55s - loss: 0.14 - ETA: 54s - loss: 0.14 - ETA: 52s - loss: 0.14 - ETA: 51s - loss: 0.14 - ETA: 49s - loss: 0.14 - ETA: 48s - loss: 0.14 - ETA: 47s - loss: 0.14 - ETA: 45s - loss: 0.14 - ETA: 44s - loss: 0.14 - ETA: 42s - loss: 0.14 - ETA: 41s - loss: 0.14 - ETA: 40s - loss: 0.14 - ETA: 38s - loss: 0.14 - ETA: 37s - loss: 0.14 - ETA: 36s - loss: 0.14 - ETA: 34s - loss: 0.14 - ETA: 33s - loss: 0.14 - ETA: 31s - loss: 0.14 - ETA: 30s - loss: 0.14 - ETA: 29s - loss: 0.14 - ETA: 27s - loss: 0.14 - ETA: 26s - loss: 0.14 - ETA: 24s - loss: 0.14 - ETA: 23s - loss: 0.14 - ETA: 22s - loss: 0.14 - ETA: 20s - loss: 0.14 - ETA: 19s - loss: 0.14 - ETA: 17s - loss: 0.14 - ETA: 16s - loss: 0.14 - ETA: 15s - loss: 0.14 - ETA: 13s - loss: 0.14 - ETA: 12s - loss: 0.14 - ETA: 10s - loss: 0.14 - ETA: 9s - loss: 0.1443 - ETA: 8s - loss: 0.144 - ETA: 6s - loss: 0.144 - ETA: 5s - loss: 0.144 - ETA: 3s - loss: 0.144 - ETA: 2s - loss: 0.144 - ETA: 1s - loss: 0.144 - 378s 44ms/step - loss: 0.1442 - val_loss: 0.1103\n",
      "Epoch 5/5\n"
     ]
    },
    {
     "name": "stdout",
     "output_type": "stream",
     "text": [
      "8540/8540 [==============================] - ETA: 6:15 - loss: 0.144 - ETA: 6:13 - loss: 0.156 - ETA: 6:09 - loss: 0.150 - ETA: 6:06 - loss: 0.140 - ETA: 6:05 - loss: 0.140 - ETA: 6:03 - loss: 0.136 - ETA: 6:01 - loss: 0.136 - ETA: 6:00 - loss: 0.136 - ETA: 5:59 - loss: 0.139 - ETA: 5:57 - loss: 0.142 - ETA: 5:56 - loss: 0.148 - ETA: 5:54 - loss: 0.148 - ETA: 5:53 - loss: 0.148 - ETA: 5:51 - loss: 0.147 - ETA: 5:50 - loss: 0.146 - ETA: 5:49 - loss: 0.145 - ETA: 5:47 - loss: 0.146 - ETA: 5:45 - loss: 0.144 - ETA: 5:44 - loss: 0.145 - ETA: 5:43 - loss: 0.145 - ETA: 5:42 - loss: 0.145 - ETA: 5:40 - loss: 0.145 - ETA: 5:39 - loss: 0.145 - ETA: 5:37 - loss: 0.146 - ETA: 5:36 - loss: 0.146 - ETA: 5:35 - loss: 0.147 - ETA: 5:33 - loss: 0.146 - ETA: 5:32 - loss: 0.145 - ETA: 5:31 - loss: 0.145 - ETA: 5:29 - loss: 0.145 - ETA: 5:28 - loss: 0.145 - ETA: 5:26 - loss: 0.144 - ETA: 5:25 - loss: 0.144 - ETA: 5:23 - loss: 0.143 - ETA: 5:22 - loss: 0.144 - ETA: 5:20 - loss: 0.144 - ETA: 5:19 - loss: 0.145 - ETA: 5:18 - loss: 0.144 - ETA: 5:16 - loss: 0.144 - ETA: 5:15 - loss: 0.143 - ETA: 5:13 - loss: 0.144 - ETA: 5:12 - loss: 0.143 - ETA: 5:11 - loss: 0.143 - ETA: 5:09 - loss: 0.142 - ETA: 5:08 - loss: 0.142 - ETA: 5:07 - loss: 0.143 - ETA: 5:05 - loss: 0.142 - ETA: 5:04 - loss: 0.142 - ETA: 5:02 - loss: 0.142 - ETA: 5:01 - loss: 0.143 - ETA: 4:59 - loss: 0.144 - ETA: 4:58 - loss: 0.144 - ETA: 4:57 - loss: 0.143 - ETA: 4:55 - loss: 0.143 - ETA: 4:54 - loss: 0.143 - ETA: 4:52 - loss: 0.142 - ETA: 4:51 - loss: 0.143 - ETA: 4:50 - loss: 0.143 - ETA: 4:48 - loss: 0.143 - ETA: 4:47 - loss: 0.143 - ETA: 4:45 - loss: 0.143 - ETA: 4:44 - loss: 0.143 - ETA: 4:43 - loss: 0.142 - ETA: 4:41 - loss: 0.142 - ETA: 4:40 - loss: 0.142 - ETA: 4:38 - loss: 0.142 - ETA: 4:37 - loss: 0.142 - ETA: 4:36 - loss: 0.142 - ETA: 4:34 - loss: 0.142 - ETA: 4:33 - loss: 0.142 - ETA: 4:32 - loss: 0.142 - ETA: 4:30 - loss: 0.142 - ETA: 4:29 - loss: 0.142 - ETA: 4:27 - loss: 0.142 - ETA: 4:26 - loss: 0.142 - ETA: 4:25 - loss: 0.142 - ETA: 4:23 - loss: 0.142 - ETA: 4:22 - loss: 0.142 - ETA: 4:20 - loss: 0.142 - ETA: 4:19 - loss: 0.142 - ETA: 4:18 - loss: 0.142 - ETA: 4:16 - loss: 0.142 - ETA: 4:15 - loss: 0.142 - ETA: 4:13 - loss: 0.142 - ETA: 4:12 - loss: 0.142 - ETA: 4:11 - loss: 0.142 - ETA: 4:09 - loss: 0.142 - ETA: 4:08 - loss: 0.142 - ETA: 4:06 - loss: 0.142 - ETA: 4:05 - loss: 0.142 - ETA: 4:04 - loss: 0.142 - ETA: 4:02 - loss: 0.142 - ETA: 4:01 - loss: 0.142 - ETA: 3:59 - loss: 0.142 - ETA: 3:58 - loss: 0.142 - ETA: 3:57 - loss: 0.142 - ETA: 3:55 - loss: 0.142 - ETA: 3:54 - loss: 0.142 - ETA: 3:52 - loss: 0.142 - ETA: 3:51 - loss: 0.142 - ETA: 3:50 - loss: 0.142 - ETA: 3:48 - loss: 0.142 - ETA: 3:47 - loss: 0.142 - ETA: 3:45 - loss: 0.142 - ETA: 3:44 - loss: 0.142 - ETA: 3:43 - loss: 0.142 - ETA: 3:41 - loss: 0.142 - ETA: 3:40 - loss: 0.142 - ETA: 3:39 - loss: 0.142 - ETA: 3:37 - loss: 0.142 - ETA: 3:36 - loss: 0.142 - ETA: 3:34 - loss: 0.142 - ETA: 3:33 - loss: 0.142 - ETA: 3:32 - loss: 0.142 - ETA: 3:30 - loss: 0.142 - ETA: 3:29 - loss: 0.142 - ETA: 3:28 - loss: 0.142 - ETA: 3:26 - loss: 0.142 - ETA: 3:25 - loss: 0.142 - ETA: 3:23 - loss: 0.143 - ETA: 3:22 - loss: 0.143 - ETA: 3:21 - loss: 0.143 - ETA: 3:19 - loss: 0.143 - ETA: 3:18 - loss: 0.143 - ETA: 3:16 - loss: 0.143 - ETA: 3:15 - loss: 0.143 - ETA: 3:14 - loss: 0.143 - ETA: 3:12 - loss: 0.143 - ETA: 3:11 - loss: 0.143 - ETA: 3:09 - loss: 0.143 - ETA: 3:08 - loss: 0.143 - ETA: 3:07 - loss: 0.143 - ETA: 3:05 - loss: 0.143 - ETA: 3:04 - loss: 0.143 - ETA: 3:03 - loss: 0.142 - ETA: 3:01 - loss: 0.142 - ETA: 3:00 - loss: 0.142 - ETA: 2:58 - loss: 0.143 - ETA: 2:57 - loss: 0.143 - ETA: 2:56 - loss: 0.143 - ETA: 2:54 - loss: 0.143 - ETA: 2:53 - loss: 0.143 - ETA: 2:51 - loss: 0.143 - ETA: 2:50 - loss: 0.143 - ETA: 2:49 - loss: 0.143 - ETA: 2:47 - loss: 0.143 - ETA: 2:46 - loss: 0.143 - ETA: 2:44 - loss: 0.142 - ETA: 2:43 - loss: 0.142 - ETA: 2:42 - loss: 0.142 - ETA: 2:40 - loss: 0.142 - ETA: 2:39 - loss: 0.142 - ETA: 2:37 - loss: 0.142 - ETA: 2:36 - loss: 0.142 - ETA: 2:35 - loss: 0.142 - ETA: 2:33 - loss: 0.142 - ETA: 2:32 - loss: 0.142 - ETA: 2:31 - loss: 0.142 - ETA: 2:29 - loss: 0.142 - ETA: 2:28 - loss: 0.142 - ETA: 2:26 - loss: 0.142 - ETA: 2:25 - loss: 0.142 - ETA: 2:24 - loss: 0.142 - ETA: 2:22 - loss: 0.142 - ETA: 2:21 - loss: 0.142 - ETA: 2:19 - loss: 0.142 - ETA: 2:18 - loss: 0.142 - ETA: 2:17 - loss: 0.142 - ETA: 2:15 - loss: 0.142 - ETA: 2:14 - loss: 0.143 - ETA: 2:13 - loss: 0.142 - ETA: 2:11 - loss: 0.142 - ETA: 2:10 - loss: 0.142 - ETA: 2:08 - loss: 0.142 - ETA: 2:07 - loss: 0.142 - ETA: 2:06 - loss: 0.142 - ETA: 2:04 - loss: 0.142 - ETA: 2:03 - loss: 0.142 - ETA: 2:01 - loss: 0.142 - ETA: 2:00 - loss: 0.142 - ETA: 1:59 - loss: 0.142 - ETA: 1:57 - loss: 0.142 - ETA: 1:56 - loss: 0.142 - ETA: 1:54 - loss: 0.142 - ETA: 1:53 - loss: 0.142 - ETA: 1:52 - loss: 0.142 - ETA: 1:50 - loss: 0.142 - ETA: 1:49 - loss: 0.142 - ETA: 1:48 - loss: 0.142 - ETA: 1:46 - loss: 0.142 - ETA: 1:45 - loss: 0.142 - ETA: 1:43 - loss: 0.142 - ETA: 1:42 - loss: 0.142 - ETA: 1:41 - loss: 0.142 - ETA: 1:39 - loss: 0.142 - ETA: 1:38 - loss: 0.142 - ETA: 1:36 - loss: 0.142 - ETA: 1:35 - loss: 0.142 - ETA: 1:34 - loss: 0.142 - ETA: 1:32 - loss: 0.142 - ETA: 1:31 - loss: 0.142 - ETA: 1:29 - loss: 0.142 - ETA: 1:28 - loss: 0.142 - ETA: 1:27 - loss: 0.142 - ETA: 1:25 - loss: 0.142 - ETA: 1:24 - loss: 0.142 - ETA: 1:23 - loss: 0.142 - ETA: 1:21 - loss: 0.142 - ETA: 1:20 - loss: 0.142 - ETA: 1:18 - loss: 0.142 - ETA: 1:17 - loss: 0.142 - ETA: 1:16 - loss: 0.142 - ETA: 1:14 - loss: 0.142 - ETA: 1:13 - loss: 0.142 - ETA: 1:11 - loss: 0.142 - ETA: 1:10 - loss: 0.142 - ETA: 1:09 - loss: 0.142 - ETA: 1:07 - loss: 0.142 - ETA: 1:06 - loss: 0.142 - ETA: 1:05 - loss: 0.142 - ETA: 1:03 - loss: 0.142 - ETA: 1:02 - loss: 0.142 - ETA: 1:00 - loss: 0.142 - ETA: 59s - loss: 0.142 - ETA: 58s - loss: 0.14 - ETA: 56s - loss: 0.14 - ETA: 55s - loss: 0.14 - ETA: 53s - loss: 0.14 - ETA: 52s - loss: 0.14 - ETA: 51s - loss: 0.14 - ETA: 49s - loss: 0.14 - ETA: 48s - loss: 0.14 - ETA: 47s - loss: 0.14 - ETA: 45s - loss: 0.14 - ETA: 44s - loss: 0.14 - ETA: 42s - loss: 0.14 - ETA: 41s - loss: 0.14 - ETA: 40s - loss: 0.14 - ETA: 38s - loss: 0.14 - ETA: 37s - loss: 0.14 - ETA: 35s - loss: 0.14 - ETA: 34s - loss: 0.14 - ETA: 33s - loss: 0.14 - ETA: 31s - loss: 0.14 - ETA: 30s - loss: 0.14 - ETA: 28s - loss: 0.14 - ETA: 27s - loss: 0.14 - ETA: 26s - loss: 0.14 - ETA: 24s - loss: 0.14 - ETA: 23s - loss: 0.14 - ETA: 22s - loss: 0.14 - ETA: 20s - loss: 0.14 - ETA: 19s - loss: 0.14 - ETA: 17s - loss: 0.14 - ETA: 16s - loss: 0.14 - ETA: 15s - loss: 0.14 - ETA: 13s - loss: 0.14 - ETA: 12s - loss: 0.14 - ETA: 10s - loss: 0.14 - ETA: 9s - loss: 0.1429 - ETA: 8s - loss: 0.143 - ETA: 6s - loss: 0.143 - ETA: 5s - loss: 0.143 - ETA: 3s - loss: 0.143 - ETA: 2s - loss: 0.143 - ETA: 1s - loss: 0.143 - 377s 44ms/step - loss: 0.1431 - val_loss: 0.1099\n"
     ]
    }
   ],
   "source": [
    "# model = Sequential()\n",
    "# # model.add(Embedding(max_words, 20, input_length=maxlen))\n",
    "# model.add(Embedding(vocab_size, output_dim=50, input_length=1200))\n",
    "# model.add(LSTM(128))\n",
    "# model.add(Dropout(0.15))\n",
    "# model.add(GlobalMaxPool1D())\n",
    "# model.add(Dense(71, activation='sigmoid'))\n",
    "\n",
    "# # model.summary()\n",
    "\n",
    "\n",
    "# model.add(Activation('sigmoid'))\n",
    "\n",
    "model.compile(optimizer='adam', loss='binary_crossentropy')\n",
    "model.summary()\n",
    "\n",
    "# callbacks = [\n",
    "#     ReduceLROnPlateau(),\n",
    "#     EarlyStopping(patience=4),\n",
    "#     ModelCheckpoint(filepath='model-2.h5', save_best_only=True)\n",
    "# ]\n",
    "history = model.fit(padded_docs_train, y_train,\n",
    "                    class_weight='balanced',\n",
    "                    epochs=5,\n",
    "                    batch_size=32,\n",
    "                    validation_split=0.1,\n",
    "                    callbacks=[])"
   ]
  },
  {
   "cell_type": "code",
   "execution_count": null,
   "metadata": {},
   "outputs": [],
   "source": [
    "checkpoint = ModelCheckpoint(filepath, monitor='val_f1micro', verbose=0, save_best_only=True, mode='max')\n",
    "model = Sequential()\n",
    "# Configuring the parameters\n",
    "# model.add(LSTM(6119, input_shape=(timesteps, input_dim)))\n",
    "model.add(Embedding(vocab_size, output_dim=50, input_length=1200))\n",
    "model.add(LSTM(128))\n",
    "# Adding a dropout layer\n",
    "model.add(Dropout(0.5))\n",
    "# Adding a dense output layer with sigmoid activation\n",
    "model.add(Dense(n_classes, activation='sigmoid'))\n",
    "model.summary()"
   ]
  },
  {
   "cell_type": "code",
   "execution_count": null,
   "metadata": {},
   "outputs": [],
   "source": []
  },
  {
   "cell_type": "code",
   "execution_count": null,
   "metadata": {},
   "outputs": [],
   "source": [
    "# model.compile(optimizer='adam', loss='binary_crossentropy')\n",
    "# model.summary()\n",
    "\n",
    "# callbacks = [\n",
    "#     ReduceLROnPlateau(),\n",
    "#     EarlyStopping(patience=4),\n",
    "#     ModelCheckpoint(filepath='model-6.h5', save_best_only=True)\n",
    "# ]\n",
    "# history = model.fit(padded_docs_train, y_train,\n",
    "#                     class_weight='balanced',\n",
    "#                     epochs=5,\n",
    "#                     batch_size=32,\n",
    "#                     validation_split=0.1,\n",
    "#                     callbacks=[])"
   ]
  },
  {
   "cell_type": "code",
   "execution_count": 59,
   "metadata": {},
   "outputs": [],
   "source": [
    "# callbacks = [\n",
    "#     ReduceLROnPlateau(),\n",
    "#     EarlyStopping(patience=4),\n",
    "#     ModelCheckpoint(filepath='model-4.h5', save_best_only=True)\n",
    "# ]\n",
    "# history = model.fit(padded_docs_train, y_train,\n",
    "#                     class_weight='balanced',\n",
    "#                     epochs=5,\n",
    "#                     batch_size=32,\n",
    "#                     validation_split=0.1,\n",
    "#                     callbacks=[])"
   ]
  },
  {
   "cell_type": "code",
   "execution_count": null,
   "metadata": {},
   "outputs": [],
   "source": [
    "# from sklearn.metrics import accuracy_score\n",
    "# from sklearn.metrics import roc_auc_score\n",
    "# roc_auc_score(y_test, pred)"
   ]
  },
  {
   "cell_type": "code",
   "execution_count": null,
   "metadata": {},
   "outputs": [],
   "source": [
    "# model.predict(y_test[0]).shape"
   ]
  },
  {
   "cell_type": "code",
   "execution_count": null,
   "metadata": {},
   "outputs": [],
   "source": [
    "# model = Sequential()\n",
    "# model.add(Embedding(vocab_size, output_dim=50))\n",
    "# # model.add(LSTM(300))\n",
    "# # model.add(LSTM(256, return_sequences=True))\n",
    "# model.add(LSTM(128))\n",
    "# model.add(Dropout(0.5))\n",
    "# # model.add(LSTM(128))\n",
    "\n",
    "# # model.add(LSTM(150))\n",
    "\n",
    "# # model.add(Dropout(0.5))\n",
    "# model.add(Dense(71, activation='sigmoid'))\n",
    "\n",
    "# model.compile(loss='binary_crossentropy',\n",
    "#               optimizer='rmsprop',\n",
    "#               metrics=['accuracy'])\n",
    "\n",
    "# model.summary()"
   ]
  },
  {
   "cell_type": "code",
   "execution_count": null,
   "metadata": {},
   "outputs": [],
   "source": [
    "# model.compile(loss='binary_crossentropy',\n",
    "#               optimizer='rmsprop',\n",
    "#               metrics=['accuracy'])\n"
   ]
  },
  {
   "cell_type": "code",
   "execution_count": null,
   "metadata": {},
   "outputs": [],
   "source": [
    "# model.fit(padded_docs_train, y_train,\n",
    "#           class_weight='balanced',\n",
    "#           epochs=12,\n",
    "#           batch_size=32,\n",
    "#           validation_split=0.2)"
   ]
  },
  {
   "cell_type": "code",
   "execution_count": null,
   "metadata": {},
   "outputs": [],
   "source": []
  }
 ],
 "metadata": {
  "kernelspec": {
   "display_name": "Python 3",
   "language": "python",
   "name": "python3"
  },
  "language_info": {
   "codemirror_mode": {
    "name": "ipython",
    "version": 3
   },
   "file_extension": ".py",
   "mimetype": "text/x-python",
   "name": "python",
   "nbconvert_exporter": "python",
   "pygments_lexer": "ipython3",
   "version": "3.6.5"
  }
 },
 "nbformat": 4,
 "nbformat_minor": 2
}
